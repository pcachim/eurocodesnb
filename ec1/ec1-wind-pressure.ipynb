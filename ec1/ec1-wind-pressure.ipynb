{
 "cells": [
  {
   "cell_type": "markdown",
   "metadata": {},
   "source": [
    "# EC1-1-4 Wind loads"
   ]
  },
  {
   "cell_type": "code",
   "execution_count": 34,
   "metadata": {},
   "outputs": [],
   "source": [
    "from math import *"
   ]
  },
  {
   "cell_type": "code",
   "execution_count": 35,
   "metadata": {},
   "outputs": [],
   "source": [
    "c_season = 1.0\n",
    "c_dir = 1.0\n",
    "k_1 = 1.0 # coeficiente de turbulência\n",
    "rho = 1.25 # kg/m3\n",
    "z0 = {\"0\": 0.003, \"I\": 0.01, \"II\": 0.05, \"III\": 0.3, \"IV\": 1}\n",
    "zmin = {\"0\": 1, \"I\": 1, \"II\": 2, \"III\": 5, \"IV\": 15}\n",
    "\n",
    "def v_b(vb_0: float) -> float:\n",
    "    return c_season * c_dir * vb_0\n",
    "\n",
    "def c_r(z: float, zone: str) -> float:\n",
    "    k_r = 0.19*((z0[zone]/z0[\"II\"])**0.07)\n",
    "    zeff = z if z >= zmin[zone] else zmin[zone]\n",
    "    return k_r * log(zeff/z0[zone])\n",
    "\n",
    "def c_0(z: float) -> float:\n",
    "    return 1.0\n",
    "\n",
    "def v_m(z: float, vb: float, zone: str) -> float:\n",
    "    return c_r(z, zone) * c_0(z) * vb\n",
    "\n",
    "def I_v(z: float, zone: str) -> float:\n",
    "    zeff = z if z >= zmin[zone] else zmin[zone]\n",
    "    Iv = k_1 / c_0(z) / log(zeff/z0[zone])\n",
    "    return Iv\n",
    " \n",
    "def q_p(z: float, vb0: float, zone: str) -> float:\n",
    "    zone = str.upper(zone)\n",
    "    # v = v_m(z, v_b(vb0), zone)\n",
    "    v = c_r(z, zone) * c_0(z) * vb0\n",
    "    qp = 0.5 * (1.0 + 7*I_v(z, zone)) * v**2 * rho\n",
    "    return qp"
   ]
  },
  {
   "cell_type": "code",
   "execution_count": 36,
   "metadata": {},
   "outputs": [
    {
     "data": {
      "text/plain": [
       "'0.881 kPa'"
      ]
     },
     "execution_count": 36,
     "metadata": {},
     "output_type": "execute_result"
    }
   ],
   "source": [
    "v_b0 = 30.0\n",
    "zone = \"iii\"\n",
    "ze = 8\n",
    "str(round(q_p(ze, v_b0, zone)/1000, 3)) + \" kPa\""
   ]
  },
  {
   "cell_type": "markdown",
   "metadata": {},
   "source": [
    "## Orography coefficient, $c_0$\n",
    "\n",
    "### Definitions\n",
    "- Φ is the upwind slope H/Lu in the wind direction (see figures below) \n",
    "- Le is the effective length of the upwind slope\n",
    "- Lu is the actual length of the upwind slope in the wind direction\n",
    "- Ld is the actual length of the downwind slope in the wind direction\n",
    "- H is the effective height of the feature\n",
    "- x is the horizontal distance of the site from the top of the crest z is the vertical distance from the ground level of the site\n",
    "\n",
    "![cliffs and escarpments](./orography-1.png)\n",
    "*Cliffs and escarpments*\n",
    "\n",
    "![hills and ridges](./orography-2.png)\n",
    "*Hills and ridges*"
   ]
  },
  {
   "cell_type": "code",
   "execution_count": 32,
   "metadata": {},
   "outputs": [],
   "source": [
    "def s_coef(x: float, z: float, H: float, Lu: float, Ld: float=-1) -> float:\n",
    "    orography_type = 'hill' if Ld > 0 else 'cliff'\n",
    "    phi = H/Lu\n",
    "    Le = H/0.3 if phi >= 0.3 else Lu\n",
    "    x_Lu = x/Lu\n",
    "    z_Le = z/Le\n",
    "\n",
    "    s = 0.0\n",
    "    if x_Lu <= 0:\n",
    "        if -1.5 < x_Lu and z_Le < 2:\n",
    "            A = 0.1552*z_Le**4 -0.8575*z_Le**3 +1.8133*z_Le**2 -1.9115*z_Le +1.0124\n",
    "            B = 0.3542*z_Le**2 -1.0577*z_Le+2.6456\n",
    "            s = A*exp(B*x_Lu)\n",
    "        elif x_Lu < -1.5 or z_Le >= 2:\n",
    "            s = 0.0\n",
    "    else:\n",
    "        if orography_type == 'hill':\n",
    "            x_Ld = x/Ld\n",
    "            if x_Ld < 2 and z_Le < 2:\n",
    "                A = 0.1552*z_Le**4 -0.8575*z_Le**3 +1.8133*z_Le**2 -1.9115*z_Le +1.0124\n",
    "                B = -0.3056*z_Le**2 +1.0212*z_Le -1.7637\n",
    "                s = A*exp(B*x_Lu)\n",
    "            elif x_Ld >= 2 or z_Le >= 2:\n",
    "                s = 0.0\n",
    "        else: # orography_type == 'cliff'\n",
    "            x_Le = x/Le\n",
    "            if z_Le < 0.1: z_Le = 0.1\n",
    "            if (0.1 < x_Le < 3.5) and (z_Le < 2):\n",
    "                logzle = log10(z_Le)\n",
    "                A = -1.3420*logzle**3 -0.8222*logzle**2 +0.4609*logzle -0.0791\n",
    "                B = -1.0196*logzle**3 -0.8910*logzle**2 +0.5343*logzle -0.1156\n",
    "                C =  0.8030*logzle**3 +0.4236*logzle**2 -0.5738*logzle +0.1606\n",
    "                logxle = log10(x/Le)\n",
    "                s = A*logxle**2 + B*logxle + C\n",
    "            elif (0.1 >= x_Le) and (z_Le < 2):\n",
    "                s1 = 0.1552*z_Le**4 -0.8575*z_Le**3 +1.8133*z_Le**2 -1.9115*z_Le +1.0124\n",
    "                logzle = log10(z_Le)\n",
    "                A = -1.3420*logzle**3 -0.8222*logzle**2 +0.4609*logzle -0.0791\n",
    "                B = -1.0196*logzle**3 -0.8910*logzle**2 +0.5343*logzle -0.1156\n",
    "                C =  0.8030*logzle**3 +0.4236*logzle**2 -0.5738*logzle +0.1606\n",
    "                logxle = log10(0.1/Le)\n",
    "                s2 = A*logxle**2 + B*logxle + C\n",
    "                s = s1 + x_Le*(s2-s1)/0.1           \n",
    "            elif x_Le >= 3.5 or z_Le >= 2:\n",
    "                s = 0.0\n",
    "    return s\n",
    "\n",
    "def c_0(x: float, z: float, H: float, Lu: float, Ld: float) -> float:\n",
    "    phi = H/Lu\n",
    "    if phi < 0.05: return 1.0\n",
    "    s = s_coef(x, z, H, Lu, Ld)\n",
    "    return 1.0+2.0*s*phi if phi < 0.3 else 1.0+0.6*s\n",
    "    "
   ]
  },
  {
   "cell_type": "code",
   "execution_count": 33,
   "metadata": {},
   "outputs": [
    {
     "data": {
      "text/plain": [
       "'c_0(x, z, H, Lu, Ld)=1.018'"
      ]
     },
     "execution_count": 33,
     "metadata": {},
     "output_type": "execute_result"
    }
   ],
   "source": [
    "H = 7\n",
    "Lu = 4\n",
    "Ld = 16\n",
    "x = 8\n",
    "z = 6.8\n",
    "f\"{c_0(x, z, H, Lu, Ld)=:.3f}\""
   ]
  },
  {
   "cell_type": "code",
   "execution_count": 22,
   "metadata": {},
   "outputs": [
    {
     "data": {
      "text/plain": [
       "1.7280044109429569"
      ]
     },
     "execution_count": 22,
     "metadata": {},
     "output_type": "execute_result"
    }
   ],
   "source": [
    "tan(10*pi/180)*9.8"
   ]
  }
 ],
 "metadata": {
  "kernelspec": {
   "display_name": ".venv",
   "language": "python",
   "name": "python3"
  },
  "language_info": {
   "codemirror_mode": {
    "name": "ipython",
    "version": 3
   },
   "file_extension": ".py",
   "mimetype": "text/x-python",
   "name": "python",
   "nbconvert_exporter": "python",
   "pygments_lexer": "ipython3",
   "version": "3.11.4"
  },
  "vscode": {
   "interpreter": {
    "hash": "ec3d74e7fe57df24ca182b61814d656dffcff87639f6eff81248b43b4a45a73b"
   }
  }
 },
 "nbformat": 4,
 "nbformat_minor": 4
}
