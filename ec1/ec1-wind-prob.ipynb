{
 "metadata": {
  "language_info": {
   "codemirror_mode": {
    "name": "ipython",
    "version": 3
   },
   "file_extension": ".py",
   "mimetype": "text/x-python",
   "name": "python",
   "nbconvert_exporter": "python",
   "pygments_lexer": "ipython3",
   "version": "3.9.2-final"
  },
  "orig_nbformat": 2,
  "kernelspec": {
   "name": "python3",
   "display_name": "Python 3.9.2 64-bit",
   "metadata": {
    "interpreter": {
     "hash": "7812ea015bdcee6f23a998adcdd2ef97c151c0c241b7b7070987d9313e41299d"
    }
   }
  }
 },
 "nbformat": 4,
 "nbformat_minor": 2,
 "cells": [
  {
   "source": [
    "# EC1-4 - Wind speed propabilities\n",
    "\n",
    "Base parameter definitions:\n",
    "p1 - excedance probability in one year\n",
    "pn - excedance probability in n years"
   ],
   "cell_type": "markdown",
   "metadata": {}
  },
  {
   "cell_type": "code",
   "execution_count": 1,
   "metadata": {},
   "outputs": [],
   "source": [
    "import math"
   ]
  },
  {
   "cell_type": "code",
   "execution_count": 9,
   "metadata": {},
   "outputs": [
    {
     "output_type": "execute_result",
     "data": {
      "text/plain": [
       "0.6358303199128832"
      ]
     },
     "metadata": {},
     "execution_count": 9
    }
   ],
   "source": [
    "p1 = 0.02\n",
    "n = 50\n",
    "pn = 1-math.pow(1-p1, n)\n",
    "pn"
   ]
  },
  {
   "cell_type": "code",
   "execution_count": 8,
   "metadata": {},
   "outputs": [
    {
     "output_type": "execute_result",
     "data": {
      "text/plain": [
       "0.020777551843059405"
      ]
     },
     "metadata": {},
     "execution_count": 8
    }
   ],
   "source": [
    "pn = 0.65\n",
    "n = 50\n",
    "p1 = 1-math.pow(1-pn, 1.0/n)\n",
    "p1"
   ]
  },
  {
   "cell_type": "code",
   "execution_count": 15,
   "metadata": {},
   "outputs": [
    {
     "output_type": "execute_result",
     "data": {
      "text/plain": [
       "(0.6358303199128832, 50.0)"
      ]
     },
     "metadata": {},
     "execution_count": 15
    }
   ],
   "source": [
    "# Eurocode base definitions\n",
    "# Excedance anual probability EC1-4\n",
    "p10 = 0.02\n",
    "# Return period\n",
    "T = 1/p10\n",
    "# Excedance proobability in n = Tyears\n",
    "p50 = 1-math.pow(1-p10, T)\n",
    "p50, T"
   ]
  },
  {
   "cell_type": "code",
   "execution_count": 16,
   "metadata": {},
   "outputs": [
    {
     "output_type": "execute_result",
     "data": {
      "text/plain": [
       "0.6989095015158683"
      ]
     },
     "metadata": {},
     "execution_count": 16
    }
   ],
   "source": [
    "# Eurocode defined parameters\n",
    "a = 1.0     # PT:1.0; EU: 0.5\n",
    "K = 0.11    # PT:0.11; EU: 0.20\n",
    "# Base parameters of excedance according to eurocode\n",
    "p10 = 0.02  # excendence probability in one year according to EC1\n",
    "p = p50\n",
    "cprob = math.pow((1-K*math.log(-math.log(1-p)))/(1-K*math.log(-math.log(1-p10))),a)\n",
    "cprob"
   ]
  },
  {
   "cell_type": "code",
   "execution_count": null,
   "metadata": {},
   "outputs": [],
   "source": []
  }
 ]
}