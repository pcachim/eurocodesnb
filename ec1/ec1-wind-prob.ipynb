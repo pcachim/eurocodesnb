{
 "cells": [
  {
   "cell_type": "markdown",
   "metadata": {},
   "source": [
    "# EC1-4 - Wind speed propabilities\n",
    "\n",
    "### Definitions\n",
    "The wind actions calculated using EN 1991-1-4 are characteristic values. They are determined from the basic values of wind velocity or the velocity pressure. In accordance with EN 1990, the basic values are characteristic values having annual probabilities of exceedence of 0,02, which is equivalent to a mean return period of 50 years.\n",
    "\n",
    "### Base parameter definitions\n",
    "p - excedance probability <br>\n",
    "$p_1$ - excedance probability in one year ($p_1$ = 0.02 is the basic value of eurocode) <br>\n",
    "$p_n$ - excedance probability in n years\n",
    "$$p_n = 1-\\left(1-p_1 \\right)^n $$\n",
    "T - return period \n",
    "$$T = 1/p$$\n",
    "\n",
    "### Probability factor $c_\\text{prob}$\n",
    "The 10 minutes mean wind velocity having the probability p for an annual exceedence is determined by multiplying the basic wind velocity $v_b$ by the probability factor, $c_\\text{prob}$. The basic wind velocity is detemined for an excedance probability $p_1$.\n",
    "$$c_\\text{prob}=\\left( \\frac{1-K\\log\\left(-log\\left(1-p \\right)\\right) }{ 1-K\\log\\left(-log\\left(1-p_1 \\right)\\right) } \\right)^a $$\n",
    "\n",
    "The default parameter values, $a$ and $K$ are:<br>\n",
    "* Eurocode recommended values: $a$=0.5 and $K$ = 0.2\n",
    "* Eurocode recommended values: $a$=1.0 and $K$ = 0.11"
   ]
  },
  {
   "cell_type": "code",
   "execution_count": 1,
   "metadata": {},
   "outputs": [],
   "source": [
    "from math import *"
   ]
  },
  {
   "cell_type": "code",
   "execution_count": 10,
   "metadata": {},
   "outputs": [
    {
     "data": {
      "text/plain": [
       "0.6358303199128832"
      ]
     },
     "execution_count": 10,
     "metadata": {},
     "output_type": "execute_result"
    }
   ],
   "source": [
    "p1 = 0.02\n",
    "n = 50\n",
    "pn = 1-pow(1-p1, n)\n",
    "pn"
   ]
  },
  {
   "cell_type": "code",
   "execution_count": 4,
   "metadata": {},
   "outputs": [
    {
     "data": {
      "text/plain": [
       "0.020777551843059405"
      ]
     },
     "execution_count": 4,
     "metadata": {},
     "output_type": "execute_result"
    }
   ],
   "source": [
    "pn = 0.65\n",
    "n = 50\n",
    "p1 = 1-pow(1-pn, 1.0/n)\n",
    "p1"
   ]
  },
  {
   "cell_type": "code",
   "execution_count": 5,
   "metadata": {},
   "outputs": [
    {
     "data": {
      "text/plain": [
       "(0.6358303199128832, 50.0)"
      ]
     },
     "execution_count": 5,
     "metadata": {},
     "output_type": "execute_result"
    }
   ],
   "source": [
    "# Eurocode base definitions\n",
    "# Excedance anual probability EC1-4\n",
    "p10 = 0.02\n",
    "# Return period\n",
    "T = 1/p10\n",
    "# Excedance proobability in n = Tyears\n",
    "p50 = 1-pow(1-p10, T)\n",
    "p50, T"
   ]
  },
  {
   "cell_type": "code",
   "execution_count": 3,
   "metadata": {},
   "outputs": [
    {
     "data": {
      "text/plain": [
       "0.9710811820252084"
      ]
     },
     "execution_count": 3,
     "metadata": {},
     "output_type": "execute_result"
    }
   ],
   "source": [
    "# Eurocode defined parameters\n",
    "a = 0.5    # PT:1.0; EU: 0.5\n",
    "K = 0.2    # PT:0.11; EU: 0.20\n",
    "# Base parameters of excedance according to eurocode\n",
    "p10 = 0.02  # excendence probability in one year according to EC1\n",
    "p = 0.033 # p50\n",
    "cprob = pow((1-K*log(-log(1-p)))/(1-K*log(-log(1-p10))),a)\n",
    "cprob"
   ]
  },
  {
   "cell_type": "code",
   "execution_count": 29,
   "metadata": {},
   "outputs": [
    {
     "data": {
      "text/plain": [
       "(0.6358303199128832, 2.0, 0.75)"
      ]
     },
     "execution_count": 29,
     "metadata": {},
     "output_type": "execute_result"
    }
   ],
   "source": [
    "p1 = 0.02\n",
    "n = 50\n",
    "pn = 1-pow(1-p1, n)\n",
    "p2 = 0.5\n",
    "T2 = 1\n",
    "TR = T2/p2\n",
    "pR = 1/TR\n",
    "pR2 = 1-pow(1-pR, TR/T2)\n",
    "pn, TR, pR2"
   ]
  }
 ],
 "metadata": {
  "kernelspec": {
   "display_name": ".venv",
   "language": "python",
   "name": "python3"
  },
  "language_info": {
   "codemirror_mode": {
    "name": "ipython",
    "version": 3
   },
   "file_extension": ".py",
   "mimetype": "text/x-python",
   "name": "python",
   "nbconvert_exporter": "python",
   "pygments_lexer": "ipython3",
   "version": "3.11.4"
  },
  "orig_nbformat": 2,
  "vscode": {
   "interpreter": {
    "hash": "ec3d74e7fe57df24ca182b61814d656dffcff87639f6eff81248b43b4a45a73b"
   }
  }
 },
 "nbformat": 4,
 "nbformat_minor": 2
}
