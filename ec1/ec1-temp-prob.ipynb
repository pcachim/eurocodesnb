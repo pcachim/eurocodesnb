{
 "cells": [
  {
   "cell_type": "markdown",
   "metadata": {},
   "source": [
    "# EC1-5 - Temperature propabilities for different return periods\n",
    "\n",
    "Base parameter definitions:\n",
    "\n",
    "p - excedance probability in one year\n",
    "\n",
    "pn - excedance probability in n years\n",
    "\n",
    "T - return period"
   ]
  },
  {
   "cell_type": "code",
   "execution_count": 1,
   "metadata": {},
   "outputs": [],
   "source": [
    "from math import *"
   ]
  },
  {
   "cell_type": "markdown",
   "metadata": {},
   "source": [
    "A relação entre os valores das temperaturas máxima (Tmax) ou mínima (Tmin) do ar à sombra que têm uma probabilidade igual a 0,02 de, respetivamente, serem ou não excedidos, e os valores das temperaturas máxima (Tmax,p) ou mínima (Tmin,p) do ar que têm uma probabilidade igual a p de serem ou não excedidos, deve ser calculada com base nas seguintes expressões:\n",
    "$$T_{max,p}=T_{max}-\\frac{\\left( \\log(-\\log(1-p))+3,902\\right)}{c}$$\n",
    "$$T_{min,p}=T_{min}+\\frac{\\left( \\log(-\\log(1-p))+3,902\\right)}{c}$$\n",
    "onde c é função do desvio padrão (s) das distribuições de extremos, e o seu valor é obtido utilizando a expressão:\n",
    "$$c=\\pi/(\\sqrt6s)$$\n",
    "Para o território nacional pode considerar-se que o desvio padrão (s) tem o valor de 1,5 oC, tanto para a distribuição de máximos anuais, como para a distribuição de mínimos anuais, da temperatura do ar. Vem então para c o valor:\n",
    "$$c=0.8550332201079094$$"
   ]
  },
  {
   "cell_type": "code",
   "execution_count": 8,
   "metadata": {},
   "outputs": [
    {
     "data": {
      "text/plain": [
       "'dt=1.932, p=0.1'"
      ]
     },
     "execution_count": 8,
     "metadata": {},
     "output_type": "execute_result"
    }
   ],
   "source": [
    "T = 10\n",
    "p = 1/T\n",
    "dt = (log(-log(1-p))+3.902)/0.8550332201079094\n",
    "f\"{dt=:.3f}, {p=}\""
   ]
  },
  {
   "cell_type": "markdown",
   "metadata": {},
   "source": [
    "No que diz respeito ao valor da temperatura inicial de um elemento estrutural no momento em que são introduzidos constrangimentos ($T_0$), pode referir-se que o valor da temperatura média de uma estrutura é muito semelhante ao valor da temperatura média do ar no local da obra, o que, na falta de outros dados, permite adoptar, para $T_0$, o valor da temperatura média do ar.\n",
    "\n",
    "Não sendo possível prever a temperatura inicial $T_0$ de um elemento estrutural na fase relevante do seu travamento (conclusão), deve considerar-se a temperatura média durante o período de construção. Se não existirem informações, $T_0$ pode ser considerado como 15 ºC."
   ]
  },
  {
   "cell_type": "code",
   "execution_count": 8,
   "metadata": {},
   "outputs": [
    {
     "data": {
      "text/plain": [
       "(0.6358303199128832, 50.0)"
      ]
     },
     "execution_count": 8,
     "metadata": {},
     "output_type": "execute_result"
    }
   ],
   "source": [
    "# Eurocode base definitions\n",
    "# Excedance anual probability EC1-4\n",
    "p10 = 0.02\n",
    "# Return period\n",
    "T = 1/p10\n",
    "# Excedance proobability in n = Tyears\n",
    "p50 = 1-pow(1-p10, T)\n",
    "p50, T"
   ]
  }
 ],
 "metadata": {
  "kernelspec": {
   "display_name": ".venv",
   "language": "python",
   "name": "python3"
  },
  "language_info": {
   "codemirror_mode": {
    "name": "ipython",
    "version": 3
   },
   "file_extension": ".py",
   "mimetype": "text/x-python",
   "name": "python",
   "nbconvert_exporter": "python",
   "pygments_lexer": "ipython3",
   "version": "3.11.4"
  },
  "orig_nbformat": 2,
  "vscode": {
   "interpreter": {
    "hash": "ec3d74e7fe57df24ca182b61814d656dffcff87639f6eff81248b43b4a45a73b"
   }
  }
 },
 "nbformat": 4,
 "nbformat_minor": 2
}
