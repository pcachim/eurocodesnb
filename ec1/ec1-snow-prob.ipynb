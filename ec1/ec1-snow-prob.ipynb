{
 "cells": [
  {
   "cell_type": "markdown",
   "metadata": {},
   "source": [
    "$$s_n=\\frac{ 1-V\\frac{\\sqrt 6}{\\pi} \\left( \\ln\\left( -\\ln(1-p_n)\\right)+0.57722 \\right) }{ 1-V\\frac{\\sqrt 6}{\\pi} \\left( \\ln\\left( -\\ln(1-0.02)\\right)+0.57722 \\right) } s_k$$\n",
    "\n",
    "Which simplifies to:\n",
    "\n",
    "$$s_n=\\frac{ 1-\\frac{\\sqrt 6}{\\pi} \\left( \\ln\\left( -\\ln(1-p_n)\\right)+0.57722 \\right) V}{ 1+2.5923V } s_k$$"
   ]
  },
  {
   "cell_type": "code",
   "execution_count": 13,
   "metadata": {},
   "outputs": [
    {
     "name": "stdout",
     "output_type": "stream",
     "text": [
      "0.1 V=0.2 cprob=0.83\n",
      "0.1 V=0.3 cprob=0.78\n",
      "0.5 V=0.2 cprob=0.64\n"
     ]
    }
   ],
   "source": [
    "import math\n",
    "\n",
    "p_n = 0.1\n",
    "V = 0.2\n",
    "cprob = round((1-math.sqrt(6)/math.pi*(math.log(-math.log(1-p_n))+0.57722)*V) / (1+ 2.5923*V), 2)\n",
    "print(f\"{p_n} {V=} {cprob=}\")\n",
    "\n",
    "p_n = 0.1\n",
    "V = 0.3\n",
    "cprob = round((1-math.sqrt(6)/math.pi*(math.log(-math.log(1-p_n))+0.57722)*V) / (1+ 2.5923*V), 2)\n",
    "print(f\"{p_n} {V=} {cprob=}\")\n",
    "\n",
    "p_n = 0.5\n",
    "V = 0.2\n",
    "cprob = round((1-math.sqrt(6)/math.pi*(math.log(-math.log(1-p_n))+0.57722)*V) / (1+ 2.5923*V), 2)\n",
    "print(f\"{p_n} {V=} {cprob=}\")"
   ]
  }
 ],
 "metadata": {
  "kernelspec": {
   "display_name": "Python 3",
   "language": "python",
   "name": "python3"
  },
  "language_info": {
   "codemirror_mode": {
    "name": "ipython",
    "version": 3
   },
   "file_extension": ".py",
   "mimetype": "text/x-python",
   "name": "python",
   "nbconvert_exporter": "python",
   "pygments_lexer": "ipython3",
   "version": "3.11.4"
  }
 },
 "nbformat": 4,
 "nbformat_minor": 2
}
