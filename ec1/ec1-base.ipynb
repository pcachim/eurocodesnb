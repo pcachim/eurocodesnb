{
 "cells": [
  {
   "cell_type": "markdown",
   "source": [
    "# EC1 Basis of structural design and actions on structues (EN 1990, EN 1991)\n",
    "\n",
    "### Eurocode 1 (EC1)\n",
    "\n",
    "Wind loads [probabilities](./ec1-wind-prob.ipynb)\n"
   ],
   "metadata": {}
  }
 ],
 "metadata": {
  "kernelspec": {
   "name": "python3",
   "display_name": "Python 3.9.6 64-bit ('.venv': venv)"
  },
  "language_info": {
   "codemirror_mode": {
    "name": "ipython",
    "version": 3
   },
   "file_extension": ".py",
   "mimetype": "text/x-python",
   "name": "python",
   "nbconvert_exporter": "python",
   "pygments_lexer": "ipython3",
   "version": "3.9.6"
  },
  "interpreter": {
   "hash": "e202365868dfff1ecbe7d521172752c183c0ceaf11d60fa146e1e57760396293"
  }
 },
 "nbformat": 4,
 "nbformat_minor": 4
}