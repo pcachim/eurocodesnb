{
 "cells": [
  {
   "source": [
    "# EC1 Basis of structural design and actions on structues (EN 1990, EN 1991)\n",
    "\n",
    "### Eurocode 1 (EC1)\n",
    "\n",
    "Wind loads [probabilities](./ec1-wind-prob.ipynb)\n"
   ],
   "cell_type": "code",
   "metadata": {},
   "execution_count": null,
   "outputs": []
  }
 ],
 "metadata": {
  "kernelspec": {
   "display_name": "Python 3",
   "language": "python",
   "name": "python3"
  },
  "language_info": {
   "codemirror_mode": {
    "name": "ipython",
    "version": 3
   },
   "file_extension": ".py",
   "mimetype": "text/x-python",
   "name": "python",
   "nbconvert_exporter": "python",
   "pygments_lexer": "ipython3",
   "version": "3.9.2"
  }
 },
 "nbformat": 4,
 "nbformat_minor": 4
}