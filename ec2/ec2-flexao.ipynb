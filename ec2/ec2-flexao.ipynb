{
 "cells": [
  {
   "cell_type": "code",
   "execution_count": 6,
   "metadata": {},
   "outputs": [],
   "source": [
    "%matplotlib inline\n",
    "import math\n",
    "import numpy as np\n",
    "import pandas as pd\n",
    "import matplotlib.pyplot as plt\n",
    "\n",
    "c_class = {\"C20/25\": 0, \"C25/30\": 1, \"C30/37\": 2, \"C35/45\": 3, \"C40/50\": 4, \"C45/55\": 5,\n",
    "           \"C50/60\": 6, \"C55/67\": 7, \"C60/75\": 8, \"C70/85\": 9, \n",
    "           \"C80/95\": 10,\"C90/105\": 11}\n",
    "c_fck = np.array([20, 25, 30, 35, 40, 45, 50, 55, 60, 70, 80, 90])\n",
    "c_epsc2 = np.array( [2.0, 2.0, 2.0, 2.0, 2.0, 2.0, 2.0, 2.2, 2.3, 2.4 , 2.5, 2.6])\n",
    "c_epscu2 = np.array([3.5, 3.5, 3.5, 3.5, 3.5, 3.5, 3.5, 3.1, 2.9, 2.7 , 2.6, 2.6])\n",
    "c_n = np.array(     [2.0, 2.0, 2.0, 2.0, 2.0, 2.0, 2.0, 1.75, 1.6, 1.45, 1.4, 1.4])\n",
    "epsc12 = c_epsc2/c_epscu2"
   ]
  },
  {
   "cell_type": "code",
   "execution_count": 7,
   "metadata": {},
   "outputs": [
    {
     "data": {
      "text/plain": [
       "array([0.80952381, 0.80952381, 0.80952381, 0.80952381, 0.80952381,\n",
       "       0.80952381, 0.80952381, 0.74193548, 0.69496021, 0.63718821,\n",
       "       0.59935897, 0.58333333])"
      ]
     },
     "execution_count": 7,
     "metadata": {},
     "output_type": "execute_result"
    }
   ],
   "source": [
    "chi_1 = 1.0-epsc12/(c_n+1)\n",
    "chi_1"
   ]
  },
  {
   "cell_type": "code",
   "execution_count": 8,
   "metadata": {},
   "outputs": [
    {
     "data": {
      "text/plain": [
       "array([0.41596639, 0.41596639, 0.41596639, 0.41596639, 0.41596639,\n",
       "       0.41596639, 0.41596639, 0.39191211, 0.37723377, 0.36200652,\n",
       "       0.35481646, 0.35294118])"
      ]
     },
     "execution_count": 8,
     "metadata": {},
     "output_type": "execute_result"
    }
   ],
   "source": [
    "chi_2 = 1.0-((c_n+1)*(c_n+2)*0.5-epsc12**2)/((c_n+1)*(c_n+2)*chi_1)\n",
    "chi_2"
   ]
  },
  {
   "cell_type": "code",
   "execution_count": 9,
   "metadata": {},
   "outputs": [
    {
     "data": {
      "text/plain": [
       "array([0.97306397, 0.97306397, 0.97306397, 0.97306397, 0.97306397,\n",
       "       0.97306397, 0.97306397, 0.94655851, 0.92112671, 0.88007836,\n",
       "       0.84460423, 0.82638889])"
      ]
     },
     "execution_count": 9,
     "metadata": {},
     "output_type": "execute_result"
    }
   ],
   "source": [
    "chi = 0.5*chi_1/chi_2\n",
    "chi"
   ]
  },
  {
   "cell_type": "code",
   "execution_count": 10,
   "metadata": {},
   "outputs": [
    {
     "data": {
      "text/plain": [
       "0.9465585112728139"
      ]
     },
     "execution_count": 10,
     "metadata": {},
     "output_type": "execute_result"
    }
   ],
   "source": [
    "ic = c_class[\"C55/67\"]\n",
    "chi[ic]"
   ]
  },
  {
   "cell_type": "code",
   "execution_count": null,
   "metadata": {},
   "outputs": [],
   "source": []
  }
 ],
 "metadata": {
  "kernelspec": {
   "display_name": "Python 3",
   "language": "python",
   "name": "python3"
  },
  "language_info": {
   "codemirror_mode": {
    "name": "ipython",
    "version": 3
   },
   "file_extension": ".py",
   "mimetype": "text/x-python",
   "name": "python",
   "nbconvert_exporter": "python",
   "pygments_lexer": "ipython3",
   "version": "3.9.2"
  }
 },
 "nbformat": 4,
 "nbformat_minor": 4
}
