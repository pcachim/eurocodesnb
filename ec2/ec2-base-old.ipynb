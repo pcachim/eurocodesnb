{
 "cells": [
  {
   "cell_type": "markdown",
   "metadata": {},
   "source": [
    "# EC2 Design of concrete structures (EN 1992-1-1)\n",
    "\n",
    "EN 1992-1-1 describes the principles and requirements for safety, serviceability and durability of concrete structures, together with specific provisions for buildings. It is based on the limit state concept used in conjunction with a partial factor method. For the design of new structures, EN 1992-1-1 is intended to be used, for direct application, together with other parts of EN 1992, Eurocodes EN 1990, 1991, 1997 and 1998. \n",
    "\n",
    "Numerical values for partial factors and other reliability parameters are recommended as basic values that provide an acceptable level of reliability. They have been selected assuming that an appropriate level of workmanship and of quality management applies. \n",
    "\n",
    "**Eurocode 2: Design of concrete structures – Part 1-1: General rules and rules for buildings.**\n",
    "\n",
    "Eurocode 2 (EC2) applies to the design of buildings and civil engineering works in plain, reinforced and prestressed concrete. It complies with the principles and requirements for the safety and serviceability of structures, the basis of their design and verification that are given in EN 1990: Basis of structural design. EC2 is only concerned with the requirements for resistance, serviceability, durability and fire resistance of concrete structures. Other requirements, e.g. concerning thermal or sound insulation, are not considered.\n",
    "\n",
    "Part 1-1 of Eurocode 2 gives a general basis for the design of structures in plain, reinforced and prestressed concrete made with normal and light weight aggregates together with specific rules for buildings.\n",
    "\n",
    "**List of notebooks**\n",
    "\n",
    "- [Shear on concrete joints](ec2-corte-junta-betonagem.ipynb)\n",
    "- [Columns](ec2-pilares.ipynb)\n",
    " \n",
    "Fire design notebooks can be found [here](./fire/ec2-fire-base.ipynb)"
   ]
  }
 ],
 "metadata": {
  "kernelspec": {
   "display_name": "Python 3",
   "language": "python",
   "name": "python3"
  },
  "language_info": {
   "codemirror_mode": {
    "name": "ipython",
    "version": 3
   },
   "file_extension": ".py",
   "mimetype": "text/x-python",
   "name": "python",
   "nbconvert_exporter": "python",
   "pygments_lexer": "ipython3",
   "version": "3.9.6"
  }
 },
 "nbformat": 4,
 "nbformat_minor": 4
}
