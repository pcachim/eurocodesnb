{
 "cells": [
  {
   "cell_type": "code",
   "execution_count": null,
   "id": "decimal-collect",
   "metadata": {},
   "outputs": [],
   "source": [
    "import math"
   ]
  },
  {
   "cell_type": "code",
   "execution_count": null,
   "id": "portuguese-trinidad",
   "metadata": {},
   "outputs": [],
   "source": [
    "# materiais\n",
    "fck = 30.0\n",
    "fcd = fck/1.5\n",
    "fctk = 0.7*0.3*math.pow(fck, 2.0/3.0)\n",
    "fctd = round(fctk/1.5, 2)\n",
    "fyk = 500.0\n",
    "fyd = fyk / 1.15\n",
    "niu = 0.6*(1.0-fck/250)\n",
    "fctd, niu, fcd"
   ]
  },
  {
   "cell_type": "code",
   "execution_count": null,
   "id": "environmental-inside",
   "metadata": {
    "tags": []
   },
   "outputs": [],
   "source": [
    "cot_t = 2.5\n",
    "cot_a = 0.0\n",
    "As = 1*3.14e-4/0.95\n",
    "# EC2 9.2.1.4(2)\n",
    "# Fed = Ved * al / z\n",
    "# EC2 9.2.1.3(2)\n",
    "# al = 0.5 * z * (cot(theta)-cot(alpha)\n",
    "al_z = 0.5*(cot_t-cot_a)\n",
    "Fed = round(As * fyk * 1000.0, 1)\n",
    "ved = round(Fed / al_z, 2)\n",
    "ved, Fed"
   ]
  },
  {
   "cell_type": "code",
   "execution_count": null,
   "id": "biblical-checklist",
   "metadata": {},
   "outputs": [],
   "source": [
    "Fcalc = ved*al_z\n",
    "Asreq = Fcalc/fyd/1000\n",
    "s = 0.3\n",
    "Asprov = 3.14e-4/s\n",
    "rat = Asreq/Asprov\n",
    "f = Fcalc*s\n",
    "Asreq, Asprov, rat, f"
   ]
  },
  {
   "cell_type": "code",
   "execution_count": null,
   "id": "verbal-detail",
   "metadata": {},
   "outputs": [],
   "source": [
    "sig = Fcalc/Asprov/1000\n",
    "sig"
   ]
  },
  {
   "cell_type": "code",
   "execution_count": null,
   "id": "congressional-louis",
   "metadata": {},
   "outputs": [],
   "source": [
    "As = 0 #2*3.14e-4/0.95\n",
    "b = 1.0\n",
    "h = 0.3\n",
    "d = 0.24\n",
    "Ac = b*h\n",
    "rho = As/Ac\n",
    "alpha = math.radians(90)\n",
    "rho"
   ]
  },
  {
   "cell_type": "code",
   "execution_count": null,
   "id": "final-backing",
   "metadata": {},
   "outputs": [],
   "source": [
    "# superfície rugosa\n",
    "miu = 0.7\n",
    "c = 0.4"
   ]
  },
  {
   "cell_type": "code",
   "execution_count": null,
   "id": "romance-alarm",
   "metadata": {},
   "outputs": [],
   "source": [
    "vrd = c*fctd + rho*fyd*(miu*math.sin(alpha)+math.cos(alpha))\n",
    "Vrd = vrd * b * h * 1000.0\n",
    "vrd, Vrd"
   ]
  },
  {
   "cell_type": "code",
   "execution_count": null,
   "id": "sapphire-general",
   "metadata": {},
   "outputs": [],
   "source": [
    "vrdmax = 0.5*niu*fcd\n",
    "Vrdmax = vrdmax * b * d * 1000.0\n",
    "vrdmax, Vrdmax"
   ]
  },
  {
   "cell_type": "code",
   "execution_count": null,
   "id": "greater-bosnia",
   "metadata": {},
   "outputs": [],
   "source": []
  }
 ],
 "metadata": {
  "kernelspec": {
   "display_name": "Python 3 (ipykernel)",
   "language": "python",
   "name": "python3"
  },
  "language_info": {
   "codemirror_mode": {
    "name": "ipython",
    "version": 3
   },
   "file_extension": ".py",
   "mimetype": "text/x-python",
   "name": "python",
   "nbconvert_exporter": "python",
   "pygments_lexer": "ipython3",
   "version": "3.8.15"
  },
  "vscode": {
   "interpreter": {
    "hash": "ec3d74e7fe57df24ca182b61814d656dffcff87639f6eff81248b43b4a45a73b"
   }
  }
 },
 "nbformat": 4,
 "nbformat_minor": 5
}
