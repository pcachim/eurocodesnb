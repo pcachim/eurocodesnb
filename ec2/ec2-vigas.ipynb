{
 "cells": [
  {
   "cell_type": "code",
   "execution_count": 1,
   "metadata": {
    "tags": []
   },
   "outputs": [],
   "source": [
    "import math\n",
    "import ipywidgets as widgets\n",
    "from ipywidgets import HBox, VBox\n",
    "from ipywidgets import interact\n",
    "import numpy as np\n",
    "import matplotlib.pyplot as plt\n",
    "from IPython.display import display\n",
    "%matplotlib inline"
   ]
  },
  {
   "cell_type": "code",
   "execution_count": 2,
   "metadata": {},
   "outputs": [],
   "source": [
    "b = widgets.FloatSlider(value=0.3,min=0.15,max=0.6,step=0.025,description='b (m):',readout_format='.3f')\n",
    "d = widgets.FloatSlider(value=0.5,min=0.20,max=1.0,step=0.025,description='d (m):',readout_format='.3f')\n",
    "fck = widgets.FloatSlider(value=20,min=20,max=50,step=5,description='fck (MPa):')\n",
    "fck2 = widgets.Dropdown(\n",
    "    options=[('C20/25', 20.0), ('C25/30', 25.0), ('C30/37', 30.0), ('C35/45', 35.0), ('C40/50', 40.0), ('C45/55', 45.0), ('C50/60', 50.0)],\n",
    "    value=20,\n",
    "    description='Betão:',\n",
    ")\n",
    "fyk = widgets.FloatSlider(value=400,min=400,max=500,step=100,description='fyk (MPa):')\n",
    "fyk2 = widgets.Dropdown(\n",
    "    options=[('A400', 400.0), ('A500', 500.0)],\n",
    "    value=400,\n",
    "    description='Aço:',\n",
    ")\n",
    "med = widgets.FloatSlider(value=100,min=1,max=1000,step=1,description='Med (kNm):',readout_format='.0f')\n",
    "tab1 = VBox(children=[b,d,med,fck2,fyk2])"
   ]
  },
  {
   "cell_type": "code",
   "execution_count": 3,
   "metadata": {},
   "outputs": [
    {
     "data": {
      "application/vnd.jupyter.widget-view+json": {
       "model_id": "bc3103c24ba04fd1b82be711cfdcd490",
       "version_major": 2,
       "version_minor": 0
      },
      "text/plain": [
       "interactive(children=(FloatSlider(value=0.3, description='b (m):', max=0.6, min=0.15, readout_format='.3f', st…"
      ]
     },
     "metadata": {},
     "output_type": "display_data"
    }
   ],
   "source": [
    "@interact(b=b, d=d, med=med, fck=fck2, fyk=fyk2)\n",
    "def plot(b=0.3, d=0.5, med=100.0, fck=20.0, fyk=400.0):\n",
    "    fcd = fck/1.5\n",
    "    fyd = fyk/1.15\n",
    "    mmed = med\n",
    "    bb = b\n",
    "    dd = d\n",
    "    miu = mmed/bb/d**2/fcd/1000.0\n",
    "    try:\n",
    "        omega = 1.0-math.sqrt(1-2*miu)\n",
    "    except:\n",
    "        omega = math.nan\n",
    "    alpha = 1.25*omega\n",
    "    ast = omega*b*d*fcd/fyd * 10000.0\n",
    "    epss = (1.0-alpha)*3.5/alpha\n",
    "    rho = omega*fcd/fyd*100.0\n",
    "    print(\"miu={:.3f} omega={:.3f} x/d={:.3f} eps-s={:.3f} As={:.2f} cm2 rho(%)={:.2f}\".format(miu, round(omega,3), alpha, epss, ast, rho))"
   ]
  },
  {
   "cell_type": "markdown",
   "metadata": {},
   "source": [
    "## Comparação diagrama parábola-retângulo vs. diagrama retangular (em %)"
   ]
  },
  {
   "cell_type": "code",
   "execution_count": 4,
   "metadata": {
    "jupyter": {
     "source_hidden": true
    }
   },
   "outputs": [
    {
     "data": {
      "text/plain": [
       "[<matplotlib.lines.Line2D at 0x7fe1c0618a00>]"
      ]
     },
     "execution_count": 4,
     "metadata": {},
     "output_type": "execute_result"
    },
    {
     "data": {
      "image/png": "[encoded data removed]",
      "text/plain": [
       "<Figure size 576x432 with 1 Axes>"
      ]
     },
     "metadata": {
      "needs_background": "light"
     },
     "output_type": "display_data"
    }
   ],
   "source": [
    "n = 100\n",
    "t = np.linspace(0.01, 0.3, n)\n",
    "fig, ax = plt.subplots(1, 1, figsize=(8, 6))\n",
    "om = ((1.0-0.973)*np.ones(n)-np.sqrt(np.ones(n)-2*t)+np.sqrt(0.973*0.973*np.ones(n)-0.973*2*t))/(np.ones(n)-np.sqrt(np.ones(n)-2*t))*100\n",
    "ax.plot(t, om, lw=2.0, color='blue')"
   ]
  },
  {
   "cell_type": "markdown",
   "metadata": {},
   "source": [
    "## Vigas"
   ]
  },
  {
   "cell_type": "code",
   "execution_count": 5,
   "metadata": {},
   "outputs": [
    {
     "data": {
      "application/vnd.jupyter.widget-view+json": {
       "model_id": "3172723ff1f34254be717d11a2f100ee",
       "version_major": 2,
       "version_minor": 0
      },
      "text/plain": [
       "interactive(children=(FloatSlider(value=0.3, description='b (m):', max=0.6, min=0.15, readout_format='.3f', st…"
      ]
     },
     "metadata": {},
     "output_type": "display_data"
    },
    {
     "data": {
      "text/plain": [
       "<function __main__.plot(b=0.3, d=0.5, med=100.0, fck=20.0, fyk=400.0)>"
      ]
     },
     "execution_count": 5,
     "metadata": {},
     "output_type": "execute_result"
    }
   ],
   "source": [
    "widgets.interact(plot, b=b, d=d, med=med, fck=fck2, fyk=fyk2)"
   ]
  },
  {
   "cell_type": "code",
   "execution_count": null,
   "metadata": {},
   "outputs": [],
   "source": []
  }
 ],
 "metadata": {
  "kernelspec": {
   "display_name": "Python 3",
   "language": "python",
   "name": "python3"
  },
  "language_info": {
   "codemirror_mode": {
    "name": "ipython",
    "version": 3
   },
   "file_extension": ".py",
   "mimetype": "text/x-python",
   "name": "python",
   "nbconvert_exporter": "python",
   "pygments_lexer": "ipython3",
   "version": "3.9.2"
  },
  "latex_envs": {
   "LaTeX_envs_menu_present": true,
   "autoclose": false,
   "autocomplete": true,
   "bibliofile": "biblio.bib",
   "cite_by": "apalike",
   "current_citInitial": 1,
   "eqLabelWithNumbers": true,
   "eqNumInitial": 1,
   "hotkeys": {
    "equation": "Ctrl-E",
    "itemize": "Ctrl-I"
   },
   "labels_anchors": false,
   "latex_user_defs": false,
   "report_style_numbering": false,
   "user_envs_cfg": false
  }
 },
 "nbformat": 4,
 "nbformat_minor": 4
}
