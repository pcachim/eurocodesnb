{
 "cells": [
  {
   "cell_type": "markdown",
   "metadata": {},
   "source": [
    "# EC2 Fire design of concrete structures (EN 1992-1-2)\n",
    "\n",
    "Eurocode 2: Design of concrete structures – Part 1-2: General – Structural fire design. \n",
    "\n",
    "EN 1992 applies to the design of buildings, bridges and civil engineering structures in plain, reinforced and prestressed concrete. It complies with the principles and requirements for the safety and serviceability of structures, the basis of their design and verification that are given in EN 1990: Basis of structural design. EN 1992 is only concerned with the requirements for resistance, serviceability, durability and fire resistance of concrete structures. Other requirements, e.g. concerning thermal or sound insulation, are not considered.\n",
    "\n",
    "EN 1992-1-2 describes the requirements and rules for the structural design of buildings exposed to fire. It is intended for clients (e.g. for the formulation of their specific requirements), designers, contractors and relevant authorities. The general objectives of fire protection are to limit risks with respect to the individual and society, neighbouring property, and where required, environment or directly exposed property, in the case of fire. The fire parts of the Structural Eurocodes deal with specific aspects of passive fire protection in terms of designing structures and parts thereof for adequate loadbearing resistance and for limiting fire spread as relevant. Required functions and levels of performance can be specified either in terms of nominal (standard) fire resistance rating, generally given in national fire regulations or by referring to fire safety engineering for assessing passive and active measures, see EN 1991-1-2. Supplementary requirements concerning, e.g.:\n",
    "- the possible installation and maintenance of sprinkler systems,\n",
    "- conditions on occupancy of building or fire compartment, \n",
    "- the use of approved insulation and coating materials, including their maintenance,\n",
    "are not given in this standard, because they are subject to specification by the competent authority. \n",
    "\n",
    "**Notebooks in this series**\n",
    "\n",
    "* correcting the distance according to critical temperature in tabulated data: [distance correction](./ec2-fire-tables.ipynb)\n",
    "* calculating the distribution of temperature in a rectangular cross section using siimplified rules: [temperature profiles](ec2-fire-simplified.ipynb)\n"
   ]
  },
  {
   "cell_type": "markdown",
   "metadata": {},
   "source": [
    "Next: [distance correction](./ec2-fire-tables.ipynb)"
   ]
  }
 ],
 "metadata": {
  "kernelspec": {
   "display_name": "Python 3 (ipykernel)",
   "language": "python",
   "name": "python3"
  },
  "language_info": {
   "codemirror_mode": {
    "name": "ipython",
    "version": 3
   },
   "file_extension": ".py",
   "mimetype": "text/x-python",
   "name": "python",
   "nbconvert_exporter": "python",
   "pygments_lexer": "ipython3",
   "version": "3.8.15"
  },
  "vscode": {
   "interpreter": {
    "hash": "ec3d74e7fe57df24ca182b61814d656dffcff87639f6eff81248b43b4a45a73b"
   }
  }
 },
 "nbformat": 4,
 "nbformat_minor": 4
}
