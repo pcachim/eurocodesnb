{
 "cells": [
  {
   "cell_type": "markdown",
   "metadata": {},
   "source": [
    "# EC2 Fire design of concrete structures (EN 1992-1-2)\n",
    "\n",
    "## Tabulated data\n",
    "\n",
    "This notebook calculates the change in distance to temperatures different from the standard crritical tempeature $\\theta_{cr}$. Accoding to eurocode, temperature in steel under fire conditions, $\\sigma_{s,fi}$, can be approximately calculated by \n",
    "\n",
    "$$\\sigma_{s,fi}=\\frac{E_{d,fi}}{E_d} \\frac{f_{yk}}{\\gamma_s} \\frac{A_{s,req}}{A_{s,prov}}$$\n",
    "\n",
    "With this new stress, the new critical temperature can be calculated and the change in the distance can be calculated (in mm) by:\n",
    "\n",
    "$$\\Delta a=0.1\\left( 500-\\theta_{cr}\\right)$$\n",
    "\n",
    "The ratio $\\frac{E_{d,fi}}{E_d}=\\eta_{fi}$ can be considered as 0.7, but can be calculated by\n",
    "\n",
    "$$\\eta_{fi}=\\frac{G+\\psi_{fi}Q}{\\gamma_GG+\\gamma_QQ}\\text{, usually }\\eta_{fi}=\\frac{G+\\psi_{1}Q}{1.35G+1.5Q}$$\n",
    "\n",
    "The usual value for ${\\gamma_{s}}$ is 1.15<br/><br/>\n"
   ]
  },
  {
   "cell_type": "code",
   "execution_count": 1,
   "metadata": {},
   "outputs": [
    {
     "name": "stdout",
     "output_type": "stream",
     "text": [
      "This is eurocodepy v0.1.18\n"
     ]
    }
   ],
   "source": [
    "import math\n",
    "import numpy as np\n",
    "import pandas as pd\n",
    "import ipywidgets as widgets\n",
    "import eurocodepy as ec\n",
    "import eurocodepy.ec2.fire as fire\n",
    "from eurocodepy.ec2.fire import delta_a\n",
    "\n",
    "wetafi = widgets.BoundedFloatText(value=0.7, step=0.01, min=0.05, max=1.0, description='Ed_fi/Ed:', disabled=False)\n",
    "wgs = widgets.BoundedFloatText(value=1.15, min=1.0, max=2, step=0.01, description='g_s:', disabled=False)\n",
    "wfyk = widgets.BoundedFloatText(value=500, step=100, min=400, max=700, description='fyk (MPa):', disabled=False)\n",
    "wasrp = widgets.BoundedFloatText(value=1.0, step=0.01, min=0.2, max=1.0, description='As.rq/As.pv:', disabled=False)"
   ]
  },
  {
   "cell_type": "code",
   "execution_count": 3,
   "metadata": {},
   "outputs": [
    {
     "data": {
      "application/vnd.jupyter.widget-view+json": {
       "model_id": "f090a2638fef4d09b1a1547f5850f7b8",
       "version_major": 2,
       "version_minor": 0
      },
      "text/plain": [
       "interactive(children=(BoundedFloatText(value=0.7, description='Ed_fi/Ed:', max=1.0, min=0.05, step=0.01), Boun…"
      ]
     },
     "metadata": {},
     "output_type": "display_data"
    }
   ],
   "source": [
    "@widgets.interact\n",
    "def calc_delta_a(etafi=wetafi, fyk=wfyk, gs=wgs, asrp=wasrp):\n",
    "    da, b, c = delta_a(etafi, gs, fyk, asrp)\n",
    "    print(f\"{da=} mm\")"
   ]
  },
  {
   "cell_type": "code",
   "execution_count": 4,
   "metadata": {},
   "outputs": [
    {
     "name": "stdout",
     "output_type": "stream",
     "text": [
      "df2-int\n",
      "       0.2   0.5   0.7    0.6\n",
      "30   10.0  10.0  10.0  10.00\n",
      "60   15.0  20.0  25.0  22.50\n",
      "90   20.0  30.0  35.0  32.50\n",
      "120  30.0  40.0  45.0  42.50\n",
      "180  45.0  50.0  45.0  47.50\n",
      "240  50.0  55.0  60.0  57.50\n",
      "45   12.5  15.0  17.5  16.25\n"
     ]
    }
   ],
   "source": [
    "index = [30, 60, 90, 120, 180, 240]\n",
    "rindex = ['R30', 'R60', 'R90', 'R120', 'R180', 'R240']\n",
    "reiindex = ['REI30', 'REI60', 'REI90', 'REI120', 'REI180', 'REI240']\n",
    "columns = [0.2, 0.5, 0.7]\n",
    "\n",
    "values = fire.wall_a40r\n",
    "df = pd.DataFrame(values, index=index, columns=columns)\n",
    "\n",
    "row_df = pd.DataFrame([[math.nan, math.nan, math.nan]], index = [45], columns=columns)\n",
    "df2 = pd.concat([df, row_df])\n",
    "df2.loc[:,0.6] = pd.Series(dtype=float)\n",
    "\n",
    "df2.interpolate(method='slinear', axis=1, inplace=True)\n",
    "df2.interpolate(method='slinear', axis=0, inplace=True)\n",
    "print(\"df2-int\\n\",df2)"
   ]
  },
  {
   "cell_type": "markdown",
   "metadata": {},
   "source": [
    "Index: [index](./ec2-fire-base.ipynb) | Next: [distance correction](./ec2-fire-simplified.ipynb)"
   ]
  },
  {
   "cell_type": "code",
   "execution_count": null,
   "metadata": {},
   "outputs": [],
   "source": []
  }
 ],
 "metadata": {
  "kernelspec": {
   "display_name": "Python 3 (ipykernel)",
   "language": "python",
   "name": "python3"
  },
  "language_info": {
   "codemirror_mode": {
    "name": "ipython",
    "version": 3
   },
   "file_extension": ".py",
   "mimetype": "text/x-python",
   "name": "python",
   "nbconvert_exporter": "python",
   "pygments_lexer": "ipython3",
   "version": "3.8.15"
  }
 },
 "nbformat": 4,
 "nbformat_minor": 4
}
