{
 "cells": [
  {
   "cell_type": "markdown",
   "metadata": {},
   "source": [
    "# EC2 Fire design of concrete structures (EN 1992-1-2)\n",
    "\n",
    "## Temperatures in cross sections\n",
    "\n",
    "This notebook calculates the temperature inside a concrete cross section using Eurocode simplified formulas. It also draws a cross section with temperatures."
   ]
  },
  {
   "cell_type": "code",
   "execution_count": 1,
   "metadata": {},
   "outputs": [],
   "source": [
    "import math\n",
    "\n",
    "def theta_1(y, h, Rfi):\n",
    "    dRfi = 720\n",
    "    k = 3.3e6\n",
    "    theta1 = 345*math.log10(1.0+7.0*(Rfi-dRfi)/60)*math.exp(-y*math.sqrt(0.9*k/Rfi))\n",
    "    return theta1\n",
    "\n",
    "def theta_2(y, h, Rfi):\n",
    "    return theta_1(y, h, Rfi) + theta_1(h-y, h, Rfi) \n",
    "\n",
    "def theta_0(y, h, Rfi):\n",
    "    return 0.0\n",
    "\n",
    "def theta_d(y, z, Rfi):\n",
    "    ac = 0.04 if Rfi <= 3600 else 0.1\n",
    "    acy = max(ac-y, 0.0)\n",
    "    acz = max(ac-z, 0.0)\n",
    "    return (345*math.log10(1.0+8.0*Rfi/60)-theta_1(0, 1, Rfi))*acy*acz/ac/ac\n",
    "\n",
    "def temp(Rfi, y, z, by, bz, yside=0, zside=1):\n",
    "    thz = theta_2 if zside == 2 else theta_1 if zside == 1 else theta_0\n",
    "    thy = theta_2 if yside == 2 else theta_1 if yside == 1 else theta_0\n",
    "\n",
    "    ac = 0.04 if Rfi <= 3600 else 0.1\n",
    "    if yside == 0 or zside == 0:\n",
    "        dtheta = 0.0\n",
    "    elif yside == 1 and zside == 1:\n",
    "        # left bottom corner \n",
    "        dtheta = theta_d(y, z, Rfi) if (y <= ac and z <= ac) else 0.0\n",
    "    elif yside == 1 and zside == 2:\n",
    "        # left bottom and top corners\n",
    "        if y <= ac:\n",
    "            if z <= ac:\n",
    "                dtheta = theta_d(y, z, Rfi) \n",
    "            elif z >= bz-ac:\n",
    "                dtheta = theta_d(y, bz-z, Rfi)\n",
    "            else:\n",
    "                dtheta = 0.0\n",
    "        else:\n",
    "            dtheta = 0.0\n",
    "    elif yside == 2 and zside == 1:\n",
    "        if z <= ac:\n",
    "            if y <= ac:\n",
    "                dtheta = theta_d(y, z, Rfi) \n",
    "            elif y >= by-ac:\n",
    "                dtheta = theta_d(by-y, z, Rfi)\n",
    "            else:\n",
    "                dtheta = 0.0\n",
    "        else:\n",
    "            dtheta = 0.0\n",
    "    elif yside == 2 and zside == 2:\n",
    "        if y <= ac:\n",
    "            if z <= ac:\n",
    "                dtheta = theta_d(y, z, Rfi) \n",
    "            elif z >= bz-ac:\n",
    "                dtheta = theta_d(y, bz-z, Rfi)\n",
    "            else:\n",
    "                dtheta = 0.0\n",
    "        elif y >= by-ac:\n",
    "            if z <= ac:\n",
    "                dtheta = theta_d(by-y, z, Rfi) \n",
    "            elif z >= bz-ac:\n",
    "                dtheta = theta_d(by-y, bz-z, Rfi)\n",
    "            else:\n",
    "                dtheta = 0.0\n",
    "        else:\n",
    "            dtheta = 0.0\n",
    "    else:\n",
    "        dtheta = 0.0   \n",
    "\n",
    "    tt = thy(y, by, Rfi) + thz(z, bz, Rfi) - thy(y, by, Rfi)*thz(z, bz, Rfi)/theta_1(0, bz, Rfi)           + dtheta\n",
    "    return tt+20"
   ]
  },
  {
   "cell_type": "code",
   "execution_count": 2,
   "metadata": {
    "tags": []
   },
   "outputs": [
    {
     "output_type": "error",
     "ename": "ModuleNotFoundError",
     "evalue": "No module named 'plotly'",
     "traceback": [
      "\u001b[0;31m---------------------------------------------------------------------------\u001b[0m",
      "\u001b[0;31mModuleNotFoundError\u001b[0m                       Traceback (most recent call last)",
      "\u001b[0;32m<ipython-input-2-6a722f0148f9>\u001b[0m in \u001b[0;36m<module>\u001b[0;34m\u001b[0m\n\u001b[1;32m      1\u001b[0m \u001b[0;32mimport\u001b[0m \u001b[0mnumpy\u001b[0m \u001b[0;32mas\u001b[0m \u001b[0mnp\u001b[0m\u001b[0;34m\u001b[0m\u001b[0;34m\u001b[0m\u001b[0m\n\u001b[1;32m      2\u001b[0m \u001b[0;32mimport\u001b[0m \u001b[0mpandas\u001b[0m \u001b[0;32mas\u001b[0m \u001b[0mpd\u001b[0m\u001b[0;34m\u001b[0m\u001b[0;34m\u001b[0m\u001b[0m\n\u001b[0;32m----> 3\u001b[0;31m \u001b[0;32mimport\u001b[0m \u001b[0mplotly\u001b[0m\u001b[0;34m.\u001b[0m\u001b[0mgraph_objects\u001b[0m \u001b[0;32mas\u001b[0m \u001b[0mgo\u001b[0m\u001b[0;34m\u001b[0m\u001b[0;34m\u001b[0m\u001b[0m\n\u001b[0m\u001b[1;32m      4\u001b[0m \u001b[0;32mimport\u001b[0m \u001b[0mplotly\u001b[0m\u001b[0;34m.\u001b[0m\u001b[0mexpress\u001b[0m \u001b[0;32mas\u001b[0m \u001b[0mpx\u001b[0m\u001b[0;34m\u001b[0m\u001b[0;34m\u001b[0m\u001b[0m\n\u001b[1;32m      5\u001b[0m \u001b[0;32mimport\u001b[0m \u001b[0mipywidgets\u001b[0m \u001b[0;32mas\u001b[0m \u001b[0mwidgets\u001b[0m\u001b[0;34m\u001b[0m\u001b[0;34m\u001b[0m\u001b[0m\n",
      "\u001b[0;31mModuleNotFoundError\u001b[0m: No module named 'plotly'"
     ]
    }
   ],
   "source": [
    "import numpy as np\n",
    "import pandas as pd\n",
    "import plotly.graph_objects as go\n",
    "import plotly.express as px\n",
    "import ipywidgets as widgets\n",
    "\n",
    "wy = widgets.BoundedFloatText(value=0., step=0.01, min=0.0, max=1.0, description='y (m):', disabled=False)\n",
    "wz = widgets.BoundedFloatText(value=0., step=0.01, min=0.0, max=1.0, description='z (m):', disabled=False)\n",
    "wby = widgets.BoundedFloatText(value=0.3, step=0.01, min=0.05, max=1.0, description='By (m):', disabled=False)\n",
    "wbz = widgets.BoundedFloatText(value=0.3, step=0.01, min=0.05, max=1.0, description='Bz (m):', disabled=False)\n",
    "wyside = widgets.BoundedIntText(value=2, step=1, min=0, max=2, description='Sides Y:', disabled=False)\n",
    "wzside = widgets.BoundedIntText(value=2, step=1, min=0, max=2, description='Sides Z:', disabled=False)\n",
    "wrfi = widgets.BoundedFloatText(value=30, step=15, min=15, max=240, description='Rfi (min):', disabled=False)\n",
    "wcolor = widgets.Dropdown(options=['RdBu_r', 'jet', \"Bluered\", 'Viridis'],\n",
    "    value='RdBu_r', description='Color:', disabled=False)"
   ]
  },
  {
   "cell_type": "markdown",
   "metadata": {},
   "source": [
    "**Temperature at a given point of a cross section**\n",
    "\n",
    "Given coordinates (y, z) of a point, the cross section size (By, Bz) and the number of sides exposed to fire (0, 1 or 2) i each direction, the temperature is calculated for a specified fire resistance (Rfi) in minutes."
   ]
  },
  {
   "cell_type": "code",
   "execution_count": 3,
   "metadata": {},
   "outputs": [
    {
     "data": {
      "application/vnd.jupyter.widget-view+json": {
       "model_id": "32659cd466d043a9bbcbd395d8f9cd76",
       "version_major": 2,
       "version_minor": 0
      },
      "text/plain": [
       "HBox(children=(VBox(children=(BoundedFloatText(value=0.0, description='y (m):', max=1.0, step=0.01), BoundedFl…"
      ]
     },
     "metadata": {},
     "output_type": "display_data"
    },
    {
     "data": {
      "application/vnd.jupyter.widget-view+json": {
       "model_id": "4e7fe447c7fd4a098819753acb9c4a43",
       "version_major": 2,
       "version_minor": 0
      },
      "text/plain": [
       "Output()"
      ]
     },
     "metadata": {},
     "output_type": "display_data"
    }
   ],
   "source": [
    "from IPython.display import display\n",
    "ui = widgets.HBox([widgets.VBox([wy, wby, wyside,  wrfi]),\n",
    "                      widgets.VBox([wz, wbz, wzside])])\n",
    "\n",
    "def calctemp(y, z, by, bz, yside, zside, rfi):\n",
    "    th = temp(rfi*60, y, z, by, bz, yside, zside)\n",
    "    print (f\"y = {y:.2f} m, z = {z:.2f} m, Temperature = {th:.0f} ºC\")\n",
    "\n",
    "out = widgets.interactive_output(calctemp, {'y': wy, 'z': wz, 'by': wby, 'bz': wbz,\n",
    "                                           'yside': wyside, 'zside': wzside, 'rfi': wrfi})\n",
    "display(ui, out)"
   ]
  },
  {
   "cell_type": "markdown",
   "metadata": {},
   "source": [
    "**Temperature map of a cross section**\n",
    "\n",
    "Temperatures can be calculated approximately by a simplified method. The temperature map in a section can be visualised here for a rectangular cross section."
   ]
  },
  {
   "cell_type": "code",
   "execution_count": 4,
   "metadata": {},
   "outputs": [],
   "source": [
    "def calc_temperature(by, bz, yside, zside, rfi):\n",
    "    ny = int(by/0.01+1)\n",
    "    nz = int(bz/0.01+1)\n",
    "    rfi *= 60\n",
    "\n",
    "    yy = np.linspace(0.0, by, num=ny)\n",
    "    zz = np.linspace(0.0, bz, num=nz)\n",
    "    df = pd.DataFrame(index=zz, columns=yy)\n",
    "\n",
    "    for i, y in enumerate(yy):\n",
    "        for j, z in enumerate(zz):\n",
    "            #print(i,j,y,z)\n",
    "            df.iloc[j][i] = temp(rfi, y, z, by, bz, yside, zside)\n",
    "    return df\n",
    "\n",
    "df = calc_temperature(wby.value, wbz.value, wyside.value, wzside.value, wrfi.value)"
   ]
  },
  {
   "cell_type": "code",
   "execution_count": 3,
   "metadata": {},
   "outputs": [
    {
     "output_type": "error",
     "ename": "NameError",
     "evalue": "name 'go' is not defined",
     "traceback": [
      "\u001b[0;31m---------------------------------------------------------------------------\u001b[0m",
      "\u001b[0;31mNameError\u001b[0m                                 Traceback (most recent call last)",
      "\u001b[0;32m<ipython-input-3-64dfad540d96>\u001b[0m in \u001b[0;36m<module>\u001b[0;34m\u001b[0m\n\u001b[1;32m      1\u001b[0m \u001b[0;31m# 'RdBu_r', 'jet', \"Bluered\", 'Viridis'\u001b[0m\u001b[0;34m\u001b[0m\u001b[0;34m\u001b[0m\u001b[0;34m\u001b[0m\u001b[0m\n\u001b[0;32m----> 2\u001b[0;31m \u001b[0mfig\u001b[0m \u001b[0;34m=\u001b[0m \u001b[0mgo\u001b[0m\u001b[0;34m.\u001b[0m\u001b[0mHeatmap\u001b[0m\u001b[0;34m(\u001b[0m\u001b[0mx\u001b[0m \u001b[0;34m=\u001b[0m \u001b[0mdf\u001b[0m\u001b[0;34m.\u001b[0m\u001b[0mcolumns\u001b[0m\u001b[0;34m,\u001b[0m \u001b[0my\u001b[0m \u001b[0;34m=\u001b[0m \u001b[0mdf\u001b[0m\u001b[0;34m.\u001b[0m\u001b[0mindex\u001b[0m\u001b[0;34m,\u001b[0m \u001b[0mz\u001b[0m \u001b[0;34m=\u001b[0m \u001b[0mdf\u001b[0m\u001b[0;34m,\u001b[0m \u001b[0mcolorscale\u001b[0m \u001b[0;34m=\u001b[0m \u001b[0;34m'RdBu_r'\u001b[0m\u001b[0;34m)\u001b[0m\u001b[0;34m\u001b[0m\u001b[0;34m\u001b[0m\u001b[0m\n\u001b[0m\u001b[1;32m      3\u001b[0m \u001b[0mdata\u001b[0m\u001b[0;34m=\u001b[0m\u001b[0;34m[\u001b[0m\u001b[0mfig\u001b[0m\u001b[0;34m]\u001b[0m\u001b[0;34m\u001b[0m\u001b[0;34m\u001b[0m\u001b[0m\n\u001b[1;32m      4\u001b[0m \u001b[0mlayout\u001b[0m \u001b[0;34m=\u001b[0m \u001b[0mgo\u001b[0m\u001b[0;34m.\u001b[0m\u001b[0mLayout\u001b[0m\u001b[0;34m(\u001b[0m\u001b[0mheight\u001b[0m\u001b[0;34m=\u001b[0m \u001b[0;36m500\u001b[0m\u001b[0;34m,\u001b[0m \u001b[0mwidth\u001b[0m\u001b[0;34m=\u001b[0m \u001b[0;36m500.0\u001b[0m\u001b[0;34m*\u001b[0m\u001b[0mwbz\u001b[0m\u001b[0;34m.\u001b[0m\u001b[0mvalue\u001b[0m\u001b[0;34m/\u001b[0m\u001b[0mwby\u001b[0m\u001b[0;34m.\u001b[0m\u001b[0mvalue\u001b[0m\u001b[0;34m)\u001b[0m\u001b[0;34m\u001b[0m\u001b[0;34m\u001b[0m\u001b[0m\n\u001b[1;32m      5\u001b[0m \u001b[0mfigure\u001b[0m \u001b[0;34m=\u001b[0m \u001b[0mgo\u001b[0m\u001b[0;34m.\u001b[0m\u001b[0mFigure\u001b[0m\u001b[0;34m(\u001b[0m\u001b[0mdata\u001b[0m\u001b[0;34m=\u001b[0m\u001b[0mdata\u001b[0m\u001b[0;34m,\u001b[0m \u001b[0mlayout\u001b[0m\u001b[0;34m=\u001b[0m\u001b[0mlayout\u001b[0m\u001b[0;34m)\u001b[0m\u001b[0;34m\u001b[0m\u001b[0;34m\u001b[0m\u001b[0m\n",
      "\u001b[0;31mNameError\u001b[0m: name 'go' is not defined"
     ]
    }
   ],
   "source": [
    "# 'RdBu_r', 'jet', \"Bluered\", 'Viridis'\n",
    "fig = go.Heatmap(x = df.columns, y = df.index, z = df, colorscale = 'RdBu_r')\n",
    "data=[fig]\n",
    "layout = go.Layout(height= 500, width= 500.0*wbz.value/wby.value)\n",
    "figure = go.Figure(data=data, layout=layout)\n",
    "\n",
    "g = go.FigureWidget(figure)\n",
    "\n",
    "def response(change):\n",
    "    df = calc_temperature(wby.value, wbz.value, wyside.value, wzside.value, wrfi.value) \n",
    "    with g.batch_update():\n",
    "        g.data[0].z = df\n",
    "        g.data[0].colorscale = wcolor.value\n",
    "        g.layout.height = 500.0\n",
    "        g.layout.width= 500.0*wby.value/wbz.value\n",
    "\n",
    "wby.observe(response, names=\"value\")\n",
    "wbz.observe(response, names=\"value\")\n",
    "wyside.observe(response, names=\"value\")\n",
    "wzside.observe(response, names=\"value\")\n",
    "wrfi.observe(response, names=\"value\")\n",
    "wcolor.observe(response, names=\"value\")\n",
    "\n",
    "hbox = widgets.HBox([widgets.VBox([wby, wbz,  wrfi]),widgets.VBox([wyside, wzside, wcolor])])\n",
    "vbox = widgets.VBox([hbox, g])\n",
    "vbox"
   ]
  },
  {
   "cell_type": "markdown",
   "metadata": {},
   "source": [
    "**Calculate the rim area**\n",
    "\n",
    "Simplified model. Just one zone."
   ]
  },
  {
   "cell_type": "code",
   "execution_count": 6,
   "metadata": {},
   "outputs": [
    {
     "data": {
      "application/vnd.jupyter.widget-view+json": {
       "model_id": "318894f9c3ec4d9db7c97fe0a917d3ad",
       "version_major": 2,
       "version_minor": 0
      },
      "text/plain": [
       "HBox(children=(VBox(children=(BoundedFloatText(value=0.3, description='By (m):', max=1.0, min=0.05, step=0.01)…"
      ]
     },
     "metadata": {},
     "output_type": "display_data"
    },
    {
     "data": {
      "application/vnd.jupyter.widget-view+json": {
       "model_id": "8be24ec4a77641d5a91bcec12087ee81",
       "version_major": 2,
       "version_minor": 0
      },
      "text/plain": [
       "Output()"
      ]
     },
     "metadata": {},
     "output_type": "display_data"
    }
   ],
   "source": [
    "ui = widgets.HBox([widgets.VBox([wby, wyside,  wrfi]),\n",
    "                      widgets.VBox([wbz, wzside])])\n",
    "\n",
    "def calc_az(rfi, by, bz, yside, zside):\n",
    "    if yside == 0 and zside == 0:\n",
    "        print (f\"az = 0.0 m\")\n",
    "        return 0, by, bz\n",
    "\n",
    "    wy = by/2 if yside == 2 else by if yside == 1 else 1000\n",
    "    wz = bz/2 if zside == 2 else bz if zside == 1 else 1000\n",
    "    wfi = min(wy, wz)\n",
    "\n",
    "    if wfi >= 0.2:\n",
    "        az = round(0.011*math.sqrt(1.0+4*(rfi-27)/27.0), 3)\n",
    "    elif 0.075 <= wfi < 0.2:\n",
    "        az = round(0.011*math.sqrt(1.0+4*(rfi-27)/27.0*math.sqrt(wfi/0.0125)), 3)\n",
    "    else:\n",
    "        az = math.nan\n",
    "\n",
    "    byef = 0.0 if az is math.nan else by-yside*az\n",
    "    bzef = 0.0 if az is math.nan else bz-zside*az\n",
    "\n",
    "    print (f\"w = {wfi:.3f} m, az = {az:.3f} m\")\n",
    "    return az, byef, bzef\n",
    "\n",
    "out = widgets.interactive_output(calc_az, {'by': wby, 'bz': wbz,\n",
    "                                           'yside': wyside, 'zside': wzside, 'rfi': wrfi})\n",
    "display(ui, out)"
   ]
  },
  {
   "cell_type": "code",
   "execution_count": 7,
   "metadata": {},
   "outputs": [
    {
     "data": {
      "text/plain": [
       "array([198. , 118.1, 198. ])"
      ]
     },
     "execution_count": 7,
     "metadata": {},
     "output_type": "execute_result"
    }
   ],
   "source": [
    "nlayer = 1\n",
    "nbars = 3\n",
    "asy = 0.05\n",
    "asz = 0.05\n",
    "by = wby.value\n",
    "\n",
    "ybars = np.linspace(start=asy, stop=by-asy, num=nbars)\n",
    "bar_temp = np.zeros(nbars)\n",
    "\n",
    "for i, y in enumerate(ybars):\n",
    "    bar_temp[i] = round(temp(wrfi.value*60, y, asz, wbz.value, wyside.value, wzside.value), 1)\n",
    "bar_temp"
   ]
  },
  {
   "cell_type": "markdown",
   "metadata": {},
   "source": [
    "**Temperature-dependent properties of steel and concrete**"
   ]
  },
  {
   "cell_type": "code",
   "execution_count": 1,
   "metadata": {},
   "outputs": [
    {
     "ename": "ModuleNotFoundError",
     "evalue": "No module named 'eurocodepy'",
     "output_type": "error",
     "traceback": [
      "\u001b[0;31m---------------------------------------------------------------------------\u001b[0m",
      "\u001b[0;31mModuleNotFoundError\u001b[0m                       Traceback (most recent call last)",
      "\u001b[0;32m<ipython-input-1-1a4aab126b03>\u001b[0m in \u001b[0;36m<module>\u001b[0;34m\u001b[0m\n\u001b[0;32m----> 1\u001b[0;31m \u001b[0;32mimport\u001b[0m \u001b[0meurocodepy\u001b[0m\u001b[0;34m.\u001b[0m\u001b[0mec2\u001b[0m\u001b[0;34m.\u001b[0m\u001b[0mfire\u001b[0m \u001b[0;32mas\u001b[0m \u001b[0mfire\u001b[0m\u001b[0;34m\u001b[0m\u001b[0;34m\u001b[0m\u001b[0m\n\u001b[0m\u001b[1;32m      2\u001b[0m \u001b[0mdf_conc\u001b[0m \u001b[0;34m=\u001b[0m \u001b[0mfire\u001b[0m\u001b[0;34m.\u001b[0m\u001b[0mdf_conc\u001b[0m\u001b[0;34m\u001b[0m\u001b[0;34m\u001b[0m\u001b[0m\n\u001b[1;32m      3\u001b[0m \u001b[0;34m\u001b[0m\u001b[0m\n\u001b[1;32m      4\u001b[0m \u001b[0;32mdef\u001b[0m \u001b[0mfck_resid\u001b[0m\u001b[0;34m(\u001b[0m\u001b[0mmaxtemp\u001b[0m\u001b[0;34m,\u001b[0m \u001b[0mdf_conc\u001b[0m\u001b[0;34m,\u001b[0m \u001b[0mfck\u001b[0m\u001b[0;34m,\u001b[0m \u001b[0magg\u001b[0m\u001b[0;34m=\u001b[0m\u001b[0;34m'calc'\u001b[0m\u001b[0;34m)\u001b[0m\u001b[0;34m:\u001b[0m\u001b[0;34m\u001b[0m\u001b[0;34m\u001b[0m\u001b[0m\n\u001b[1;32m      5\u001b[0m     \u001b[0mcolname\u001b[0m \u001b[0;34m=\u001b[0m \u001b[0;34m'kct_70'\u001b[0m \u001b[0;32mif\u001b[0m \u001b[0mfck\u001b[0m \u001b[0;34m>=\u001b[0m \u001b[0;36m70\u001b[0m \u001b[0;32melse\u001b[0m \u001b[0;34m'kct_cal'\u001b[0m \u001b[0;32mif\u001b[0m \u001b[0magg\u001b[0m \u001b[0;34m==\u001b[0m \u001b[0;34m'calc'\u001b[0m \u001b[0;32melse\u001b[0m \u001b[0;34m'kct_sil'\u001b[0m\u001b[0;34m\u001b[0m\u001b[0;34m\u001b[0m\u001b[0m\n",
      "\u001b[0;31mModuleNotFoundError\u001b[0m: No module named 'eurocodepy'"
     ]
    }
   ],
   "source": [
    "import eurocodepy.ec2.fire as fire\n",
    "df_conc = fire.df_conc\n",
    "\n",
    "def fck_resid(maxtemp, df_conc, fck, agg='calc'):\n",
    "    colname = 'kct_70' if fck >= 70 else 'kct_cal' if agg == 'calc' else 'kct_sil'\n",
    "    \n",
    "    phi = np.interp(maxtemp, df_conc.index, df_conc[colname])\n",
    "    if fck < 70 and maxtemp > 100:\n",
    "        phi *= (-0.00005*maxtemp + 1.05)\n",
    "\n",
    "    return round(phi, 3)\n",
    "\n",
    "def fck_temp(eps, maxtemp, df_conc, fck, agg='calc'):\n",
    "    colname = 'kct_70' if fck >= 70 else 'kct_cal' if agg == 'calc' else 'kct_sil' \n",
    "    \n",
    "    phi = np.interp(maxtemp, df_conc.index, df_conc[colname])      \n",
    "    epsc1 = np.interp(maxtemp, df_conc.index, df_conc['eps1t'])\n",
    "    epscu1 = np.interp(maxtemp, df_conc.index, df_conc['epsu1t'])\n",
    "\n",
    "    if eps <= epsc1:\n",
    "        sig = 3.0*eps*phi*fck / (2.0+math.pow(eps/epsc1, 3)) / epsc1\n",
    "    elif eps < epscu1:\n",
    "        sig = (1.0 - (eps-epsc1)/(epscu1-epsc1)) * phi * fck \n",
    "    else:\n",
    "        sig = 0\n",
    "\n",
    "    return round(sig, 3), phi * fck\n",
    "\n",
    "def fck_temp_diag(maxtemp, df_conc, fck, agg='calc'):\n",
    "    colname = 'kct_70' if fck >= 70 else 'kct_cal' if agg == 'calc' else 'kct_sil' \n",
    "    \n",
    "    phi = np.interp(maxtemp, df_conc.index, df_conc[colname])*fck     \n",
    "    epsc1 = np.interp(maxtemp, df_conc.index, df_conc['eps1t'])\n",
    "    epscu1 = np.interp(maxtemp, df_conc.index, df_conc['epsu1t'])\n",
    "\n",
    "    num = 30\n",
    "    epsnp = np.linspace(0, epsc1, num=num)\n",
    "    signp = np.zeros(num)\n",
    "    aux1 = 3.0 / epsc1\n",
    "\n",
    "    signp = epsnp * aux1 / (2.0+np.power(epsnp/epsc1, 3))\n",
    "    #for i, x in enumerate(epsnp):\n",
    "    #    signp[i] = x * aux1 / (2.0+math.pow(x/epsc1, 3))\n",
    "\n",
    "    epsnp = np.append(epsnp, [epscu1])\n",
    "    signp = np.append(signp, [0.0])\n",
    "    return epsnp, signp * phi\n",
    "\n",
    "import matplotlib.pyplot as plt\n",
    "for i in range(1, 10):\n",
    "    epsnp, signp = fck_temp_diag(i*100.0, df_conc, 30)\n",
    "    plt.plot(epsnp, signp)"
   ]
  },
  {
   "cell_type": "markdown",
   "metadata": {},
   "source": [
    "Index: [index](./ec2-fire-base.ipynb) | Next: [distance correction](./ec2-fire-tables.ipynb)"
   ]
  }
 ],
 "metadata": {
  "kernelspec": {
   "display_name": "Python 3",
   "language": "python",
   "name": "python3"
  },
  "language_info": {
   "codemirror_mode": {
    "name": "ipython",
    "version": 3
   },
   "file_extension": ".py",
   "mimetype": "text/x-python",
   "name": "python",
   "nbconvert_exporter": "python",
   "pygments_lexer": "ipython3",
   "version": "3.9.2"
  }
 },
 "nbformat": 4,
 "nbformat_minor": 4
}