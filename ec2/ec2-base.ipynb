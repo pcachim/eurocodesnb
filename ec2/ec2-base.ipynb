{
 "metadata": {
  "language_info": {
   "codemirror_mode": {
    "name": "ipython",
    "version": 3
   },
   "file_extension": ".py",
   "mimetype": "text/x-python",
   "name": "python",
   "nbconvert_exporter": "python",
   "pygments_lexer": "ipython3",
   "version": 3
  },
  "orig_nbformat": 2
 },
 "nbformat": 4,
 "nbformat_minor": 2,
 "cells": [
  {
   "source": [
    "# EC2 Design of concrete structures (EN 1992-1-1)\n",
    "\n",
    "Eurocode 2: Design of concrete structures – Part 1-1: General rules and rules for buildings.\n",
    "\n",
    "Fire design notebooks can be found [here](./fire/ec2-fire-base.ipynb)\n",
    "\n",
    "** List of notebooks**\n",
    "\n",
    "- [Shear on concrete joints](ec2-corte-junta-betonagem.ipynb)\n",
    "- [Columns](ec2-pilares.ipynb)"
   ],
   "cell_type": "markdown",
   "metadata": {}
  }
 ]
}