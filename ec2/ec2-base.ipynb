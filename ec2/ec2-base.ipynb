{
 "cells": [
  {
   "cell_type": "markdown",
   "metadata": {},
   "source": [
    "# Eurocode 2 (EN 1992-1-1) - Structural Concrete\n",
    "\n",
    "This project has a set of tools to deal with Eurocode 2 design rules<br/><br/>\n",
    "[![Binder](https://mybinder.org/badge_logo.svg)](https://mybinder.org/v2/gh/pcachim/concrete/master?urlpath=lab%2Ftree%2Fec2-base.ipynb)<br/>\n",
    "\n",
    "EN 1992-1-1 describes the principles and requirements for safety, serviceability and durability of concrete structures, together with specific provisions for buildings. It is based on the limit state concept used in conjunction with a partial factor method. For the design of new structures, EN 1992-1-1 is intended to be used, for direct application, together with other parts of EN 1992, Eurocodes EN 1990, 1991, 1997 and 1998. \n",
    "\n",
    "Numerical values for partial factors and other reliability parameters are recommended as basic values that provide an acceptable level of reliability. They have been selected assuming that an appropriate level of workmanship and of quality management applies. \n",
    "\n",
    "**Eurocode 2: Design of concrete structures – Part 1-1: General rules and rules for buildings.**\n",
    "\n",
    "Eurocode 2 (EC2) applies to the design of buildings and civil engineering works in plain, reinforced and prestressed concrete. It complies with the principles and requirements for the safety and serviceability of structures, the basis of their design and verification that are given in EN 1990: Basis of structural design. EC2 is only concerned with the requirements for resistance, serviceability, durability and fire resistance of concrete structures. Other requirements, e.g. concerning thermal or sound insulation, are not considered.\n",
    "\n",
    "Part 1-1 of Eurocode 2 gives a general basis for the design of structures in plain, reinforced and prestressed concrete made with normal and light weight aggregates together with specific rules for buildings.\n",
    "\n",
    "**List of notebooks**\n",
    "\n",
    "\n",
    "## Material properties\n",
    "\n",
    "**Concrete**\n",
    "\n",
    "* [Basic properties](./ec2-material.ipynb)\n",
    "* [Creep](./ec2-creep.ipynb)\n",
    "* [Shrinkage](./ec2-shrinkage.ipynb)\n",
    "\n",
    "**Steel**\n",
    "\n",
    "* Reinforcing steel\n",
    "* Prestressing steel\n",
    "\n",
    "## Structural design\n",
    "\n",
    "* [Axial force](./ec2-axial.ipynb)\n",
    "* [Bending](./ec2-bending.ipynb)\n",
    "* [Beams](./ec2-beams.ipynb)\n",
    "* [Flat slabs](./ec2-slabflat.ipynb)\n",
    "* [Bidirectional slabs](./ec2-slabbi.ipynb)\n",
    "* [Shear on concrete joints](ec2-corte-junta-betonagem.ipynb)\n",
    "* [Columns](ec2-pilares.ipynb)\n",
    " \n",
    "## Fire design \n",
    " \n",
    "Fire design notebooks can be found [here](./fire/ec2-fire-base.ipynb)\n",
    "\n",
    "## A package with some useful functions: eurocodepy\n",
    "\n",
    "*euroocodepy* is a Python package that has some useful functions to work with eurocodes. You can import it with\n",
    "\n",
    "```py\n",
    "    import eurocodepy as ec\n",
    "```\n",
    "\n",
    "### JSON database file\n",
    "\n",
    "A database containing information regarding the properties of Eurocode materials, loads and sections.\n",
    "```py\n",
    "    database = ec.db\n",
    "```\n"
   ]
  },
  {
   "cell_type": "code",
   "execution_count": null,
   "metadata": {},
   "outputs": [],
   "source": [
    "import math\n",
    "import json\n",
    "import pandas as pd\n",
    "import eurocodepy as ec"
   ]
  },
  {
   "cell_type": "code",
   "execution_count": null,
   "metadata": {},
   "outputs": [],
   "source": [
    "database = ec.db\n",
    "concs = database[\"Materials\"][\"Concrete\"]\n",
    "reinfs = database[\"Materials\"][\"Reinforcement\"]\n",
    "prestr = database[\"Materials\"][\"Prestress\"]"
   ]
  },
  {
   "cell_type": "code",
   "execution_count": null,
   "metadata": {},
   "outputs": [],
   "source": [
    "ec2db = pd.DataFrame.from_dict(concs[\"Classes\"])\n",
    "ec2db"
   ]
  },
  {
   "cell_type": "code",
   "execution_count": null,
   "metadata": {},
   "outputs": [],
   "source": [
    "ec2db = pd.DataFrame.from_dict(reinfs[\"Classes\"])\n",
    "ec2db"
   ]
  },
  {
   "cell_type": "code",
   "execution_count": null,
   "metadata": {},
   "outputs": [],
   "source": []
  }
 ],
 "metadata": {
  "kernelspec": {
   "display_name": "Python 3.9.6 64-bit",
   "language": "python",
   "name": "python3"
  },
  "language_info": {
   "codemirror_mode": {
    "name": "ipython",
    "version": 3
   },
   "file_extension": ".py",
   "mimetype": "text/x-python",
   "name": "python",
   "nbconvert_exporter": "python",
   "pygments_lexer": "ipython3",
   "version": "3.9.6"
  },
  "vscode": {
   "interpreter": {
    "hash": "aee8b7b246df8f9039afb4144a1f6fd8d2ca17a180786b69acc140d282b71a49"
   }
  }
 },
 "nbformat": 4,
 "nbformat_minor": 4
}
