{
 "cells": [
  {
   "cell_type": "markdown",
   "metadata": {},
   "source": [
    "# Materials"
   ]
  },
  {
   "cell_type": "code",
   "execution_count": null,
   "metadata": {
    "tags": []
   },
   "outputs": [],
   "source": [
    "%matplotlib inline\n",
    "import math\n",
    "import json\n",
    "import numpy as np\n",
    "import pandas as pd\n",
    "import matplotlib.pyplot as plt"
   ]
  },
  {
   "cell_type": "code",
   "execution_count": null,
   "metadata": {
    "tags": []
   },
   "outputs": [],
   "source": [
    "c_fck = np.array([20, 25, 30, 35, 40, 45, 50, 60, 70, 80, 90])\n",
    "c_epsc2 = np.array( [2.0, 2.0, 2.0, 2.0, 2.0, 2.0, 2.0, 2.3, 2.4 , 2.5, 2.6])\n",
    "c_epscu2 = np.array([3.5, 3.5, 3.5, 3.5, 3.5, 3.5, 3.5, 2.9, 2.7 , 2.6, 2.6])\n",
    "c_n = np.array(     [2.0, 2.0, 2.0, 2.0, 2.0, 2.0, 2.0, 1.6, 1.45, 1.4, 1.4])"
   ]
  },
  {
   "cell_type": "code",
   "execution_count": null,
   "metadata": {},
   "outputs": [],
   "source": [
    "import eurocodepy as ec\n",
    "database = ec.get_database()\n",
    "concs = database[\"Eurocodes\"][\"Materials\"][\"Concrete\"]\n",
    "reinfs = database[\"Eurocodes\"][\"Materials\"][\"Reinforcement\"]\n",
    "prestr = database[\"Eurocodes\"][\"Materials\"][\"Prestress\"]\n",
    "ec2conc = pd.DataFrame.from_dict(concs[\"Classes\"])\n",
    "ec2reinf = pd.DataFrame.from_dict(reinfs[\"Classes\"])"
   ]
  },
  {
   "cell_type": "code",
   "execution_count": null,
   "metadata": {},
   "outputs": [],
   "source": [
    "ec2conc"
   ]
  },
  {
   "cell_type": "code",
   "execution_count": null,
   "metadata": {},
   "outputs": [],
   "source": [
    "ec2reinf"
   ]
  },
  {
   "cell_type": "markdown",
   "metadata": {},
   "source": [
    "## Concrete diagrams"
   ]
  },
  {
   "cell_type": "code",
   "execution_count": null,
   "metadata": {},
   "outputs": [],
   "source": [
    "n = 20\n",
    "eps = np.linspace(0, 1, n)\n",
    "for i in range(11):\n",
    "    stres = 1.0-np.power(1.0-np.linspace(0, 1, n), c_n[i])\n",
    "    eps2 = np.concatenate((eps*c_epsc2[i] , np.linspace(c_epsc2[i],c_epscu2[i],3)))\n",
    "    stres2 = np.concatenate((stres, np.ones(3)))*c_fck[i]\n",
    "    plt.plot(eps2, stres2)"
   ]
  },
  {
   "cell_type": "code",
   "execution_count": null,
   "metadata": {
    "tags": [
     "hide-input"
    ]
   },
   "outputs": [],
   "source": [
    "import matplotlib.pyplot as plt\n",
    "import seaborn as sns\n",
    "import pandas as pd\n",
    "sns.set_theme(style=\"darkgrid\")\n",
    "\n",
    "df = pd.DataFrame(columns=['epsilon', 'sigma', 'class'])\n",
    "n = 20\n",
    "\n",
    "for i, cclass in enumerate(ec2conc.columns):\n",
    "    stres = 1-np.power(1-np.linspace(0, 1, n), c_n[i])\n",
    "    eps = np.linspace(0, 1, n)\n",
    "    df2 = pd.DataFrame(columns=['epsilon', 'sigma', 'class'])\n",
    "    df2['epsilon'] = np.concatenate((eps*c_epsc2[i] , np.linspace(c_epsc2[i],c_epscu2[i],3)))\n",
    "    df2['sigma'] = np.concatenate((stres, np.ones(3)))*c_fck[i]\n",
    "    df2['class'] = [cclass for j in range(len(eps2))]\n",
    "    df = df.append(df2, ignore_index=True)\n",
    "\n",
    "sns.set_context(\"notebook\", font_scale=1)\n",
    "plt.figure(figsize=(8,5))\n",
    "sns.lineplot(x=\"epsilon\", y=\"sigma\", hue=\"class\", data=df)\n",
    "plt.xlabel(\"Strain (x1000)\")\n",
    "plt.ylabel(\"Stress (MPa)\")\n",
    "plt.legend(bbox_to_anchor=(1.01, 1),\n",
    "           borderaxespad=0)\n",
    "plt.tight_layout()\n",
    "#plt.savefig(\"place_legend_outside_plot_Seaborn_scatterplot.png\", format='png',dpi=150)\n",
    "plt.show()"
   ]
  },
  {
   "cell_type": "markdown",
   "metadata": {},
   "source": [
    "## Evolução das propriedades no tempo"
   ]
  },
  {
   "cell_type": "code",
   "execution_count": null,
   "metadata": {
    "tags": []
   },
   "outputs": [],
   "source": [
    "# cement type parameter s\n",
    "# s = 0.20, endurecimento rápido R: CEM42,5R, CEM52,5N e CEM52,5R\n",
    "# s = 0.25, endurecimento normal N: CEM32,5R, CEM42,5N\n",
    "# s = 0.38, endurecimento lento S: CEM32,5N\n",
    "s = [0.2, 0.25, 0.38]\n",
    "n = 50\n",
    "t = np.logspace(0.01, 1.9, n)\n",
    "# Resistência à compressão\n",
    "for i in range(3):\n",
    "    betha_cc = np.exp(s[i]*(1.0-np.sqrt(28.0/t)))\n",
    "    plt.plot(t, betha_cc)"
   ]
  },
  {
   "cell_type": "code",
   "execution_count": null,
   "metadata": {
    "tags": []
   },
   "outputs": [],
   "source": [
    "# Módulo de elasticidade\n",
    "\n",
    "for i in range(3):\n",
    "    betha_cc = np.exp(s[i]*(1.0-np.sqrt(28.0/t)))\n",
    "    betha_ce = np.power(betha_cc, 0.3)\n",
    "    plt.plot(t, betha_ce)"
   ]
  },
  {
   "cell_type": "code",
   "execution_count": null,
   "metadata": {},
   "outputs": [],
   "source": []
  }
 ],
 "metadata": {
  "celltoolbar": "Edit Metadata",
  "kernelspec": {
   "display_name": "Python 3",
   "language": "python",
   "name": "python3"
  },
  "language_info": {
   "codemirror_mode": {
    "name": "ipython",
    "version": 3
   },
   "file_extension": ".py",
   "mimetype": "text/x-python",
   "name": "python",
   "nbconvert_exporter": "python",
   "pygments_lexer": "ipython3",
   "version": "3.9.2"
  },
  "latex_envs": {
   "LaTeX_envs_menu_present": true,
   "autoclose": false,
   "autocomplete": true,
   "bibliofile": "biblio.bib",
   "cite_by": "apalike",
   "current_citInitial": 1,
   "eqLabelWithNumbers": true,
   "eqNumInitial": 1,
   "hotkeys": {
    "equation": "Ctrl-E",
    "itemize": "Ctrl-I"
   },
   "labels_anchors": false,
   "latex_user_defs": false,
   "report_style_numbering": false,
   "user_envs_cfg": false
  }
 },
 "nbformat": 4,
 "nbformat_minor": 4
}