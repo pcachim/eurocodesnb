{
 "cells": [
  {
   "cell_type": "markdown",
   "metadata": {},
   "source": [
    "# Materials"
   ]
  },
  {
   "cell_type": "code",
   "execution_count": 1,
   "metadata": {
    "tags": []
   },
   "outputs": [],
   "source": [
    "%matplotlib inline\n",
    "import math\n",
    "import json\n",
    "import numpy as np\n",
    "import pandas as pd\n",
    "import matplotlib.pyplot as plt"
   ]
  },
  {
   "cell_type": "code",
   "execution_count": 2,
   "metadata": {
    "tags": []
   },
   "outputs": [],
   "source": [
    "c_fck = np.array([20, 25, 30, 35, 40, 45, 50, 60, 70, 80, 90])\n",
    "c_epsc2 = np.array( [2.0, 2.0, 2.0, 2.0, 2.0, 2.0, 2.0, 2.3, 2.4 , 2.5, 2.6])\n",
    "c_epscu2 = np.array([3.5, 3.5, 3.5, 3.5, 3.5, 3.5, 3.5, 2.9, 2.7 , 2.6, 2.6])\n",
    "c_n = np.array(     [2.0, 2.0, 2.0, 2.0, 2.0, 2.0, 2.0, 1.6, 1.45, 1.4, 1.4])"
   ]
  },
  {
   "cell_type": "code",
   "execution_count": 3,
   "metadata": {},
   "outputs": [],
   "source": [
    "import eurocodepy as ec\n",
    "database = ec.get_database()\n",
    "concs = database[\"Eurocodes\"][\"Materials\"][\"Concrete\"]\n",
    "reinfs = database[\"Eurocodes\"][\"Materials\"][\"Reinforcement\"]\n",
    "prestr = database[\"Eurocodes\"][\"Materials\"][\"Prestress\"]\n",
    "ec2conc = pd.DataFrame.from_dict(concs[\"Classes\"])\n",
    "ec2reinf = pd.DataFrame.from_dict(reinfs[\"Classes\"])"
   ]
  },
  {
   "cell_type": "code",
   "execution_count": 4,
   "metadata": {},
   "outputs": [
    {
     "data": {
      "text/html": [
       "<div>\n",
       "<style scoped>\n",
       "    .dataframe tbody tr th:only-of-type {\n",
       "        vertical-align: middle;\n",
       "    }\n",
       "\n",
       "    .dataframe tbody tr th {\n",
       "        vertical-align: top;\n",
       "    }\n",
       "\n",
       "    .dataframe thead th {\n",
       "        text-align: right;\n",
       "    }\n",
       "</style>\n",
       "<table border=\"1\" class=\"dataframe\">\n",
       "  <thead>\n",
       "    <tr style=\"text-align: right;\">\n",
       "      <th></th>\n",
       "      <th>C20/25</th>\n",
       "      <th>C25/30</th>\n",
       "      <th>C30/37</th>\n",
       "      <th>C35/45</th>\n",
       "      <th>C40/50</th>\n",
       "      <th>C45/45</th>\n",
       "      <th>C50/55</th>\n",
       "      <th>C55/67</th>\n",
       "      <th>C60/75</th>\n",
       "      <th>C70/85</th>\n",
       "    </tr>\n",
       "  </thead>\n",
       "  <tbody>\n",
       "    <tr>\n",
       "      <th>fck</th>\n",
       "      <td>20.0</td>\n",
       "      <td>25.0</td>\n",
       "      <td>30.0</td>\n",
       "      <td>35.0</td>\n",
       "      <td>40.0</td>\n",
       "      <td>45.0</td>\n",
       "      <td>50.0</td>\n",
       "      <td>55.00</td>\n",
       "      <td>60.0</td>\n",
       "      <td>70.00</td>\n",
       "    </tr>\n",
       "    <tr>\n",
       "      <th>fcm</th>\n",
       "      <td>28.0</td>\n",
       "      <td>33.0</td>\n",
       "      <td>38.0</td>\n",
       "      <td>43.0</td>\n",
       "      <td>48.0</td>\n",
       "      <td>53.0</td>\n",
       "      <td>58.0</td>\n",
       "      <td>63.00</td>\n",
       "      <td>68.0</td>\n",
       "      <td>78.00</td>\n",
       "    </tr>\n",
       "    <tr>\n",
       "      <th>fctm</th>\n",
       "      <td>2.2</td>\n",
       "      <td>2.6</td>\n",
       "      <td>2.9</td>\n",
       "      <td>3.2</td>\n",
       "      <td>3.5</td>\n",
       "      <td>3.8</td>\n",
       "      <td>4.1</td>\n",
       "      <td>4.20</td>\n",
       "      <td>4.4</td>\n",
       "      <td>4.60</td>\n",
       "    </tr>\n",
       "    <tr>\n",
       "      <th>fctk05</th>\n",
       "      <td>1.5</td>\n",
       "      <td>1.8</td>\n",
       "      <td>2.0</td>\n",
       "      <td>2.2</td>\n",
       "      <td>2.5</td>\n",
       "      <td>2.7</td>\n",
       "      <td>2.9</td>\n",
       "      <td>3.00</td>\n",
       "      <td>3.1</td>\n",
       "      <td>3.20</td>\n",
       "    </tr>\n",
       "    <tr>\n",
       "      <th>Ecm</th>\n",
       "      <td>30000.0</td>\n",
       "      <td>31000.0</td>\n",
       "      <td>33000.0</td>\n",
       "      <td>34000.0</td>\n",
       "      <td>35000.0</td>\n",
       "      <td>36000.0</td>\n",
       "      <td>37000.0</td>\n",
       "      <td>38000.00</td>\n",
       "      <td>39000.0</td>\n",
       "      <td>41000.00</td>\n",
       "    </tr>\n",
       "    <tr>\n",
       "      <th>epsc2</th>\n",
       "      <td>2.0</td>\n",
       "      <td>2.0</td>\n",
       "      <td>2.0</td>\n",
       "      <td>2.0</td>\n",
       "      <td>2.0</td>\n",
       "      <td>2.0</td>\n",
       "      <td>2.0</td>\n",
       "      <td>2.20</td>\n",
       "      <td>2.3</td>\n",
       "      <td>2.40</td>\n",
       "    </tr>\n",
       "    <tr>\n",
       "      <th>epscu2</th>\n",
       "      <td>3.5</td>\n",
       "      <td>3.5</td>\n",
       "      <td>3.5</td>\n",
       "      <td>3.5</td>\n",
       "      <td>3.5</td>\n",
       "      <td>3.5</td>\n",
       "      <td>3.5</td>\n",
       "      <td>3.10</td>\n",
       "      <td>2.9</td>\n",
       "      <td>2.70</td>\n",
       "    </tr>\n",
       "    <tr>\n",
       "      <th>n</th>\n",
       "      <td>2.0</td>\n",
       "      <td>2.0</td>\n",
       "      <td>2.0</td>\n",
       "      <td>2.0</td>\n",
       "      <td>2.0</td>\n",
       "      <td>2.0</td>\n",
       "      <td>2.0</td>\n",
       "      <td>1.75</td>\n",
       "      <td>1.6</td>\n",
       "      <td>1.45</td>\n",
       "    </tr>\n",
       "  </tbody>\n",
       "</table>\n",
       "</div>"
      ],
      "text/plain": [
       "         C20/25   C25/30   C30/37   C35/45   C40/50   C45/45   C50/55  \\\n",
       "fck        20.0     25.0     30.0     35.0     40.0     45.0     50.0   \n",
       "fcm        28.0     33.0     38.0     43.0     48.0     53.0     58.0   \n",
       "fctm        2.2      2.6      2.9      3.2      3.5      3.8      4.1   \n",
       "fctk05      1.5      1.8      2.0      2.2      2.5      2.7      2.9   \n",
       "Ecm     30000.0  31000.0  33000.0  34000.0  35000.0  36000.0  37000.0   \n",
       "epsc2       2.0      2.0      2.0      2.0      2.0      2.0      2.0   \n",
       "epscu2      3.5      3.5      3.5      3.5      3.5      3.5      3.5   \n",
       "n           2.0      2.0      2.0      2.0      2.0      2.0      2.0   \n",
       "\n",
       "          C55/67   C60/75    C70/85  \n",
       "fck        55.00     60.0     70.00  \n",
       "fcm        63.00     68.0     78.00  \n",
       "fctm        4.20      4.4      4.60  \n",
       "fctk05      3.00      3.1      3.20  \n",
       "Ecm     38000.00  39000.0  41000.00  \n",
       "epsc2       2.20      2.3      2.40  \n",
       "epscu2      3.10      2.9      2.70  \n",
       "n           1.75      1.6      1.45  "
      ]
     },
     "execution_count": 4,
     "metadata": {},
     "output_type": "execute_result"
    }
   ],
   "source": [
    "ec2conc"
   ]
  },
  {
   "cell_type": "code",
   "execution_count": 5,
   "metadata": {},
   "outputs": [
    {
     "data": {
      "text/html": [
       "<div>\n",
       "<style scoped>\n",
       "    .dataframe tbody tr th:only-of-type {\n",
       "        vertical-align: middle;\n",
       "    }\n",
       "\n",
       "    .dataframe tbody tr th {\n",
       "        vertical-align: top;\n",
       "    }\n",
       "\n",
       "    .dataframe thead th {\n",
       "        text-align: right;\n",
       "    }\n",
       "</style>\n",
       "<table border=\"1\" class=\"dataframe\">\n",
       "  <thead>\n",
       "    <tr style=\"text-align: right;\">\n",
       "      <th></th>\n",
       "      <th>A500EL</th>\n",
       "      <th>A400NR</th>\n",
       "      <th>A500NR</th>\n",
       "      <th>A400NRSD</th>\n",
       "      <th>A500NRSD</th>\n",
       "      <th>B500A</th>\n",
       "      <th>B500B</th>\n",
       "      <th>B500C</th>\n",
       "    </tr>\n",
       "  </thead>\n",
       "  <tbody>\n",
       "    <tr>\n",
       "      <th>T</th>\n",
       "      <td>A</td>\n",
       "      <td>B</td>\n",
       "      <td>B</td>\n",
       "      <td>C</td>\n",
       "      <td>C</td>\n",
       "      <td>A</td>\n",
       "      <td>B</td>\n",
       "      <td>C</td>\n",
       "    </tr>\n",
       "    <tr>\n",
       "      <th>fyk</th>\n",
       "      <td>500.0</td>\n",
       "      <td>400.0</td>\n",
       "      <td>500.0</td>\n",
       "      <td>400.0</td>\n",
       "      <td>500.0</td>\n",
       "      <td>500.0</td>\n",
       "      <td>500.0</td>\n",
       "      <td>500.0</td>\n",
       "    </tr>\n",
       "    <tr>\n",
       "      <th>epsuk</th>\n",
       "      <td>25.0</td>\n",
       "      <td>50.0</td>\n",
       "      <td>50.0</td>\n",
       "      <td>75.0</td>\n",
       "      <td>75.0</td>\n",
       "      <td>25.0</td>\n",
       "      <td>50.0</td>\n",
       "      <td>75.0</td>\n",
       "    </tr>\n",
       "    <tr>\n",
       "      <th>ftk</th>\n",
       "      <td>525.0</td>\n",
       "      <td>432.0</td>\n",
       "      <td>525.0</td>\n",
       "      <td>460.0</td>\n",
       "      <td>575.0</td>\n",
       "      <td>525.0</td>\n",
       "      <td>525.0</td>\n",
       "      <td>575.0</td>\n",
       "    </tr>\n",
       "    <tr>\n",
       "      <th>Es</th>\n",
       "      <td>200000.0</td>\n",
       "      <td>200000.0</td>\n",
       "      <td>200000.0</td>\n",
       "      <td>200000.0</td>\n",
       "      <td>200000.0</td>\n",
       "      <td>200000.0</td>\n",
       "      <td>200000.0</td>\n",
       "      <td>200000.0</td>\n",
       "    </tr>\n",
       "  </tbody>\n",
       "</table>\n",
       "</div>"
      ],
      "text/plain": [
       "         A500EL    A400NR    A500NR  A400NRSD  A500NRSD     B500A     B500B  \\\n",
       "T             A         B         B         C         C         A         B   \n",
       "fyk       500.0     400.0     500.0     400.0     500.0     500.0     500.0   \n",
       "epsuk      25.0      50.0      50.0      75.0      75.0      25.0      50.0   \n",
       "ftk       525.0     432.0     525.0     460.0     575.0     525.0     525.0   \n",
       "Es     200000.0  200000.0  200000.0  200000.0  200000.0  200000.0  200000.0   \n",
       "\n",
       "          B500C  \n",
       "T             C  \n",
       "fyk       500.0  \n",
       "epsuk      75.0  \n",
       "ftk       575.0  \n",
       "Es     200000.0  "
      ]
     },
     "execution_count": 5,
     "metadata": {},
     "output_type": "execute_result"
    }
   ],
   "source": [
    "ec2reinf"
   ]
  },
  {
   "cell_type": "markdown",
   "metadata": {},
   "source": [
    "## Concrete diagrams"
   ]
  },
  {
   "cell_type": "code",
   "execution_count": 6,
   "metadata": {},
   "outputs": [
    {
     "data": {
      "image/png": "[encoded data removed]",
      "text/plain": [
       "<Figure size 432x288 with 1 Axes>"
      ]
     },
     "metadata": {
      "needs_background": "light"
     },
     "output_type": "display_data"
    }
   ],
   "source": [
    "n = 20\n",
    "eps = np.linspace(0, 1, n)\n",
    "for i in range(11):\n",
    "    stres = 1.0-np.power(1.0-np.linspace(0, 1, n), c_n[i])\n",
    "    eps2 = np.concatenate((eps*c_epsc2[i] , np.linspace(c_epsc2[i],c_epscu2[i],3)))\n",
    "    stres2 = np.concatenate((stres, np.ones(3)))*c_fck[i]\n",
    "    plt.plot(eps2, stres2)"
   ]
  },
  {
   "cell_type": "code",
   "execution_count": 7,
   "metadata": {
    "tags": [
     "hide-input"
    ]
   },
   "outputs": [
    {
     "ename": "ModuleNotFoundError",
     "evalue": "No module named 'seaborn'",
     "output_type": "error",
     "traceback": [
      "\u001b[0;31m---------------------------------------------------------------------------\u001b[0m",
      "\u001b[0;31mModuleNotFoundError\u001b[0m                       Traceback (most recent call last)",
      "\u001b[1;32m/Users/paulocachim/Library/CloudStorage/OneDrive-UniversidadedeAveiro/Development/Python/eurocodesnb/ec2/ec2-material.ipynb Cell 9'\u001b[0m in \u001b[0;36m<module>\u001b[0;34m\u001b[0m\n\u001b[1;32m      <a href='vscode-notebook-cell:/Users/paulocachim/Library/CloudStorage/OneDrive-UniversidadedeAveiro/Development/Python/eurocodesnb/ec2/ec2-material.ipynb#ch0000008?line=0'>1</a>\u001b[0m \u001b[39mimport\u001b[39;00m \u001b[39mmatplotlib\u001b[39;00m\u001b[39m.\u001b[39;00m\u001b[39mpyplot\u001b[39;00m \u001b[39mas\u001b[39;00m \u001b[39mplt\u001b[39;00m\n\u001b[0;32m----> <a href='vscode-notebook-cell:/Users/paulocachim/Library/CloudStorage/OneDrive-UniversidadedeAveiro/Development/Python/eurocodesnb/ec2/ec2-material.ipynb#ch0000008?line=1'>2</a>\u001b[0m \u001b[39mimport\u001b[39;00m \u001b[39mseaborn\u001b[39;00m \u001b[39mas\u001b[39;00m \u001b[39msns\u001b[39;00m\n\u001b[1;32m      <a href='vscode-notebook-cell:/Users/paulocachim/Library/CloudStorage/OneDrive-UniversidadedeAveiro/Development/Python/eurocodesnb/ec2/ec2-material.ipynb#ch0000008?line=2'>3</a>\u001b[0m \u001b[39mimport\u001b[39;00m \u001b[39mpandas\u001b[39;00m \u001b[39mas\u001b[39;00m \u001b[39mpd\u001b[39;00m\n\u001b[1;32m      <a href='vscode-notebook-cell:/Users/paulocachim/Library/CloudStorage/OneDrive-UniversidadedeAveiro/Development/Python/eurocodesnb/ec2/ec2-material.ipynb#ch0000008?line=3'>4</a>\u001b[0m sns\u001b[39m.\u001b[39mset_theme(style\u001b[39m=\u001b[39m\u001b[39m\"\u001b[39m\u001b[39mdarkgrid\u001b[39m\u001b[39m\"\u001b[39m)\n",
      "\u001b[0;31mModuleNotFoundError\u001b[0m: No module named 'seaborn'"
     ]
    }
   ],
   "source": [
    "import matplotlib.pyplot as plt\n",
    "import seaborn as sns\n",
    "import pandas as pd\n",
    "sns.set_theme(style=\"darkgrid\")\n",
    "\n",
    "df = pd.DataFrame(columns=['epsilon', 'sigma', 'class'])\n",
    "n = 20\n",
    "\n",
    "for i, cclass in enumerate(ec2conc.columns):\n",
    "    stres = 1-np.power(1-np.linspace(0, 1, n), c_n[i])\n",
    "    eps = np.linspace(0, 1, n)\n",
    "    df2 = pd.DataFrame(columns=['epsilon', 'sigma', 'class'])\n",
    "    df2['epsilon'] = np.concatenate((eps*c_epsc2[i] , np.linspace(c_epsc2[i],c_epscu2[i],3)))\n",
    "    df2['sigma'] = np.concatenate((stres, np.ones(3)))*c_fck[i]\n",
    "    df2['class'] = [cclass for j in range(len(eps2))]\n",
    "    df = df.append(df2, ignore_index=True)\n",
    "\n",
    "sns.set_context(\"notebook\", font_scale=1)\n",
    "plt.figure(figsize=(8,5))\n",
    "sns.lineplot(x=\"epsilon\", y=\"sigma\", hue=\"class\", data=df)\n",
    "plt.xlabel(\"Strain (x1000)\")\n",
    "plt.ylabel(\"Stress (MPa)\")\n",
    "plt.legend(bbox_to_anchor=(1.01, 1),\n",
    "           borderaxespad=0)\n",
    "plt.tight_layout()\n",
    "#plt.savefig(\"place_legend_outside_plot_Seaborn_scatterplot.png\", format='png',dpi=150)\n",
    "plt.show()"
   ]
  },
  {
   "cell_type": "markdown",
   "metadata": {},
   "source": [
    "## Evolução das propriedades no tempo"
   ]
  },
  {
   "cell_type": "code",
   "execution_count": null,
   "metadata": {
    "tags": []
   },
   "outputs": [
    {
     "data": {
      "image/png": "[encoded data removed]",
      "text/plain": [
       "<Figure size 432x288 with 1 Axes>"
      ]
     },
     "metadata": {
      "needs_background": "light"
     },
     "output_type": "display_data"
    }
   ],
   "source": [
    "# cement type parameter s\n",
    "# s = 0.20, endurecimento rápido R: CEM42,5R, CEM52,5N e CEM52,5R\n",
    "# s = 0.25, endurecimento normal N: CEM32,5R, CEM42,5N\n",
    "# s = 0.38, endurecimento lento S: CEM32,5N\n",
    "s = [0.2, 0.25, 0.38]\n",
    "n = 50\n",
    "t = np.logspace(0.01, 1.9, n)\n",
    "# Resistência à compressão\n",
    "for i in range(3):\n",
    "    betha_cc = np.exp(s[i]*(1.0-np.sqrt(28.0/t)))\n",
    "    plt.plot(t, betha_cc)"
   ]
  },
  {
   "cell_type": "code",
   "execution_count": null,
   "metadata": {
    "tags": []
   },
   "outputs": [
    {
     "data": {
      "image/png": "[encoded data removed]",
      "text/plain": [
       "<Figure size 432x288 with 1 Axes>"
      ]
     },
     "metadata": {
      "needs_background": "light"
     },
     "output_type": "display_data"
    }
   ],
   "source": [
    "# Módulo de elasticidade\n",
    "\n",
    "for i in range(3):\n",
    "    betha_cc = np.exp(s[i]*(1.0-np.sqrt(28.0/t)))\n",
    "    betha_ce = np.power(betha_cc, 0.3)\n",
    "    plt.plot(t, betha_ce)"
   ]
  },
  {
   "cell_type": "code",
   "execution_count": null,
   "metadata": {},
   "outputs": [],
   "source": []
  }
 ],
 "metadata": {
  "celltoolbar": "Edit Metadata",
  "kernelspec": {
   "display_name": "Python 3",
   "language": "python",
   "name": "python3"
  },
  "language_info": {
   "codemirror_mode": {
    "name": "ipython",
    "version": 3
   },
   "file_extension": ".py",
   "mimetype": "text/x-python",
   "name": "python",
   "nbconvert_exporter": "python",
   "pygments_lexer": "ipython3",
   "version": "3.9.6"
  },
  "latex_envs": {
   "LaTeX_envs_menu_present": true,
   "autoclose": false,
   "autocomplete": true,
   "bibliofile": "biblio.bib",
   "cite_by": "apalike",
   "current_citInitial": 1,
   "eqLabelWithNumbers": true,
   "eqNumInitial": 1,
   "hotkeys": {
    "equation": "Ctrl-E",
    "itemize": "Ctrl-I"
   },
   "labels_anchors": false,
   "latex_user_defs": false,
   "report_style_numbering": false,
   "user_envs_cfg": false
  }
 },
 "nbformat": 4,
 "nbformat_minor": 4
}
