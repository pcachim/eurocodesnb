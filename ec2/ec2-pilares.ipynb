{
 "cells": [
  {
   "cell_type": "code",
   "execution_count": 1,
   "id": "behind-rogers",
   "metadata": {},
   "outputs": [],
   "source": [
    "import math"
   ]
  },
  {
   "cell_type": "markdown",
   "id": "passing-metropolitan",
   "metadata": {},
   "source": [
    "# Cálculo de pilares\n",
    "\n",
    "O cálculo de pilares de betão armado de acordo com o eurocódigo 2 encontra-se definido para estruturas contraventadas. É assim necessário que as estruturas disponham de paredes ou núcleos capazes de receber as ações horizontais.\n",
    "\n",
    "## Estimativa da carga de encurvadura global\n",
    "\n",
    "O cálculo da carga de instabilidade de estruturas pode ser estimado pela expressão:\n",
    "\n",
    "$$F_{v,BB}=\\xi\\frac{\\sum_{}^{}EI}{L^2}$$\n",
    "com\n",
    "$$\\xi=7.8\\frac{n_s}{n_s+1.6}\\frac{1}{1+0.7k}, \\quad EI=0.4E_{cd}I_c$$\n",
    "$n_s=$número de pisos,\n",
    "$k=0.1$ para um elemento de contraventamento único e $k=0$ para vários elementos de contraventamento. Para $k=0$ obtém-se a expressão: $$F_{v,BB}=3.12\\frac{n_s}{n_s+1.6}\\frac{\\sum_{}^{}E_{cd}I_c}{L^2}$$\n",
    "\n",
    "## Verificação da estabilidade global\n",
    "\n",
    "A estrutura não tem esforços de sefunda ordem significativos se $$F_{v,Ed}\\le 0.1F_{v,BB}$$\n"
   ]
  },
  {
   "cell_type": "markdown",
   "id": "inside-perfume",
   "metadata": {},
   "source": [
    "Dados de entrada:"
   ]
  },
  {
   "cell_type": "code",
   "execution_count": 15,
   "id": "jewish-string",
   "metadata": {},
   "outputs": [],
   "source": [
    "bx = 0.3\n",
    "by = 0.5\n",
    "Lox = 5.0\n",
    "Loy = 6.0"
   ]
  },
  {
   "cell_type": "markdown",
   "id": "military-claim",
   "metadata": {},
   "source": [
    "Cálculo de valores necessários:"
   ]
  },
  {
   "cell_type": "code",
   "execution_count": 16,
   "id": "suffering-humanitarian",
   "metadata": {
    "tags": []
   },
   "outputs": [],
   "source": [
    "ix = bx/math.sqrt(12)\n",
    "iy = bx/math.sqrt(12)"
   ]
  },
  {
   "cell_type": "code",
   "execution_count": null,
   "id": "banned-connecticut",
   "metadata": {},
   "outputs": [],
   "source": []
  }
 ],
 "metadata": {
  "kernelspec": {
   "display_name": "Python 3",
   "language": "python",
   "name": "python3"
  },
  "language_info": {
   "codemirror_mode": {
    "name": "ipython",
    "version": 3
   },
   "file_extension": ".py",
   "mimetype": "text/x-python",
   "name": "python",
   "nbconvert_exporter": "python",
   "pygments_lexer": "ipython3",
   "version": "3.9.2"
  }
 },
 "nbformat": 4,
 "nbformat_minor": 5
}
