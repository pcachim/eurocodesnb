{
 "cells": [
  {
   "cell_type": "code",
   "execution_count": 1,
   "metadata": {
    "tags": []
   },
   "outputs": [],
   "source": [
    "%matplotlib inline\n",
    "import math\n",
    "import ipywidgets as widgets\n",
    "from ipywidgets import HBox, VBox\n",
    "from ipywidgets import interact\n",
    "import numpy as np\n",
    "import matplotlib.pyplot as plt\n",
    "from IPython.display import display"
   ]
  },
  {
   "cell_type": "code",
   "execution_count": 2,
   "metadata": {},
   "outputs": [],
   "source": [
    "wb = widgets.FloatSlider(value=0.3,min=0.15,max=0.6,step=0.025,description='bw (m):',readout_format='.3f')\n",
    "wd = widgets.FloatSlider(value=0.5,min=0.20,max=1.0,step=0.025,description='d (m):',readout_format='.3f')\n",
    "wcott = widgets.FloatSlider(value=2.5,min=1.0,max=2.5,step=0.1,description='cot(theta):')\n",
    "wfck2 = widgets.Dropdown(\n",
    "    options=[('C20/25', 20.0), ('C25/30', 25.0), ('C30/37', 30.0), ('C35/45', 35.0), ('C40/50', 40.0), ('C45/55', 45.0), ('C50/60', 50.0)],\n",
    "    value=20,\n",
    "    description='Concrete:',\n",
    ")\n",
    "wfyk2 = widgets.Dropdown(\n",
    "    options=[('A400', 400.0), ('A500', 500.0)],\n",
    "    value=400,\n",
    "    description='Reinforcement:',\n",
    ")\n",
    "wved = widgets.FloatSlider(value=100,min=1,max=1000,step=1,description='Ved (kN):',readout_format='.0f')"
   ]
  },
  {
   "cell_type": "code",
   "execution_count": 3,
   "metadata": {},
   "outputs": [],
   "source": [
    "def shear_nostirrups(bw: float, d: float, fck: float, g_c: float, rho_l: float) -> float:\n",
    "    k = min(2.0, 1.0+math.sqrt(0.2/d))\n",
    "    vrd_min = 35.0 * math.pow(k, 1.5) * math.sqrt(fck) * bw * d\n",
    "    vrd_c = 180.0 / g_c * k * (100.0*rho_l*fck)**(1.0/3.0) * bw * d\n",
    "    vrd = max (vrd_min, vrd_c)\n",
    "    return vrd_min, vrd_c, vrd"
   ]
  },
  {
   "cell_type": "code",
   "execution_count": 4,
   "metadata": {},
   "outputs": [
    {
     "data": {
      "application/vnd.jupyter.widget-view+json": {
       "model_id": "d2d04f28a2d94eb79ff4285edefa4959",
       "version_major": 2,
       "version_minor": 0
      },
      "text/plain": [
       "interactive(children=(FloatSlider(value=0.3, description='bw (m):', max=0.6, min=0.15, readout_format='.3f', s…"
      ]
     },
     "metadata": {},
     "output_type": "display_data"
    }
   ],
   "source": [
    "@interact(bw=wb, d=wd, fck=wfck2)\n",
    "def shear(bw, d, fck):\n",
    "    rho_l = 0.0005\n",
    "    vrdmin, vrdc, vrd = shear_nostirrups(bw, d, fck, 1.5, rho_l)\n",
    "    print(f'{vrdc=:.0f} kN     {vrdmin=:.0f} kN   {vrd=:.0f} kN')"
   ]
  },
  {
   "cell_type": "code",
   "execution_count": null,
   "metadata": {},
   "outputs": [],
   "source": []
  }
 ],
 "metadata": {
  "kernelspec": {
   "display_name": "Python 3 (ipykernel)",
   "language": "python",
   "name": "python3"
  },
  "language_info": {
   "codemirror_mode": {
    "name": "ipython",
    "version": 3
   },
   "file_extension": ".py",
   "mimetype": "text/x-python",
   "name": "python",
   "nbconvert_exporter": "python",
   "pygments_lexer": "ipython3",
   "version": "3.8.15"
  },
  "latex_envs": {
   "LaTeX_envs_menu_present": true,
   "autoclose": false,
   "autocomplete": true,
   "bibliofile": "biblio.bib",
   "cite_by": "apalike",
   "current_citInitial": 1,
   "eqLabelWithNumbers": true,
   "eqNumInitial": 1,
   "hotkeys": {
    "equation": "Ctrl-E",
    "itemize": "Ctrl-I"
   },
   "labels_anchors": false,
   "latex_user_defs": false,
   "report_style_numbering": false,
   "user_envs_cfg": false
  }
 },
 "nbformat": 4,
 "nbformat_minor": 4
}
