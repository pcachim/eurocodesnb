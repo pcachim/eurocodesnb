{
 "cells": [
  {
   "cell_type": "code",
   "execution_count": null,
   "metadata": {},
   "outputs": [],
   "source": [
    "from math import *\n",
    "\n",
    "def effectivelength(braced: bool, fr1: float, fr2: float) -> float:\n",
    "    \"\"\"Calculates the effective length of a column\n",
    "\n",
    "    Args:\n",
    "        braced (bool): type of structure (braced:True/unbraced:False)\n",
    "        fr1 (float): stiffnes of node 1\n",
    "        fr2 (float): stiffnes of node 1\n",
    "\n",
    "    Returns:\n",
    "        float: the multiplier factor for the length in order t oobtain the effective length\n",
    "    \"\"\"\n",
    "    beta = 1\n",
    "    if braced:\n",
    "        beta = 0.5*sqrt((1+fr1/(0.45+fr1))*(1+fr2/(0.45+fr2)))\n",
    "    else:\n",
    "        beta = sqrt((1+2.4*fr1+2.4*fr2)*(1+2.4*fr1)*(1+2.4*fr2)) / (1+1.2*fr1+1.2*fr2)\n",
    "\n",
    "    return beta\n",
    "\n",
    "def calc_fr(Ic: float, Lc: float, Iv1: float, Lv1: float, Kv1: float,Iv2: float, Lv2: float, Kv2: float, Ic2: float, Lc2: float) -> float:\n",
    "    \"\"\"Calculates the stiffness of a node\n",
    "    The values for Kv should be:\n",
    "        Kv = 2.0, cracked beam, continuous \n",
    "        Kv = 1.5, cracked beam, pinned\n",
    "        Kv = 4.0, uncracked beam, continuous \n",
    "        Kv = 3.0, uncracked beam, pinned\n",
    "\n",
    "    Args:\n",
    "        Ic (float): [description]\n",
    "        Lc (float): [description]\n",
    "        Iv1 (float): [description]\n",
    "        Lv1 (float): [description]\n",
    "        Kv1 (float): [description]\n",
    "        Iv2 (float): [description]\n",
    "        Lv2 (float): [description]\n",
    "        Kv2 (float): [description]\n",
    "        Ic2 (float): [description]\n",
    "        Lc2 (float): [description]\n",
    "\n",
    "    Returns:\n",
    "        float: the stiffness of a node\n",
    "    \"\"\"\n",
    "    fr = (Ic/Lc + Ic2/Lc2)/(Kv1*Iv1/Lv1 + Kv2*Iv2/Lv2)\n",
    "    return fr\n"
   ]
  },
  {
   "cell_type": "code",
   "execution_count": null,
   "metadata": {},
   "outputs": [],
   "source": [
    "bc = 0.4\n",
    "hc = 0.3\n",
    "lc = 1.0\n",
    "Ic = bc*hc**3/12\n",
    "bv1 = 0.3\n",
    "hv1 = 0.6\n",
    "lv1 = 6.0\n",
    "Iv1 = bv1*hv1**3/12\n",
    "bv2 = 0.0\n",
    "hv2 = 0.5\n",
    "lv2 = 5.0\n",
    "Iv2 = bv2*hv2**3/12\n",
    "bc2 = 0.0\n",
    "hc2 = 0.3\n",
    "lc2 = 3.0\n",
    "Ic2 = bc2*hc2**3/12\n",
    "\n",
    "fr1 = 0.1\n",
    "fr2 = calc_fr(Ic,lc, Iv1,lv1,2, Iv2,lv2,2, Ic2,lc2)\n",
    "fr2 = 0.1\n",
    "lc0 = effectivelength(False, fr1, fr2) * lc\n",
    "lc, lc0"
   ]
  },
  {
   "cell_type": "code",
   "execution_count": null,
   "metadata": {},
   "outputs": [],
   "source": [
    "ns = 2\n",
    "Kt = 0\n",
    "E = 30000000*0.4\n",
    "I = 2*0.000899999999\n",
    "A = 2*0.3*0.4\n",
    "L = 6\n",
    "Fvbb = 7.8*ns/(ns+1.6)/(1+3.9*Kt)*E*I/L**2\n",
    "Fvbs = 0.4*E*A/1.2\n",
    "Fvb = 1/(1/Fvbs+1/Fvbb)\n",
    "Fvbb, Fvbs, Fvb"
   ]
  },
  {
   "cell_type": "code",
   "execution_count": null,
   "metadata": {},
   "outputs": [],
   "source": [
    "c = 8\n",
    "bc = pi**2/8\n",
    "Ned = 2010\n",
    "kmaj = 1+bc/(Fvbb/Ned-1)\n",
    "kmaj\n"
   ]
  }
 ],
 "metadata": {
  "kernelspec": {
   "display_name": "Python 3 (ipykernel)",
   "language": "python",
   "name": "python3"
  },
  "language_info": {
   "codemirror_mode": {
    "name": "ipython",
    "version": 3
   },
   "file_extension": ".py",
   "mimetype": "text/x-python",
   "name": "python",
   "nbconvert_exporter": "python",
   "pygments_lexer": "ipython3",
   "version": "3.8.15"
  },
  "vscode": {
   "interpreter": {
    "hash": "ec3d74e7fe57df24ca182b61814d656dffcff87639f6eff81248b43b4a45a73b"
   }
  }
 },
 "nbformat": 4,
 "nbformat_minor": 4
}
