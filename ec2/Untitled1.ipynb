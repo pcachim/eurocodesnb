{
 "cells": [
  {
   "cell_type": "code",
   "execution_count": 1,
   "id": "liquid-briefing",
   "metadata": {},
   "outputs": [
    {
     "data": {
      "text/plain": [
       "(0.14652631578947367,\n",
       " 0.1357913351800554,\n",
       " 91.43000336842105,\n",
       " 0.14652631578947362)"
      ]
     },
     "execution_count": 1,
     "metadata": {},
     "output_type": "execute_result"
    }
   ],
   "source": [
    "from math import *\n",
    "omega=3*2.1e-4*348000/0.25/0.45/13300\n",
    "miu = omega*(1-0.5*omega)\n",
    "mrd = miu*0.25*0.45*0.45*13300\n",
    "omega, miu, mrd, 1-sqrt(1-2*miu)"
   ]
  },
  {
   "cell_type": "code",
   "execution_count": 4,
   "id": "small-manufacturer",
   "metadata": {},
   "outputs": [
    {
     "data": {
      "text/plain": [
       "(0.00028, 98.658)"
      ]
     },
     "execution_count": 4,
     "metadata": {},
     "output_type": "execute_result"
    }
   ],
   "source": [
    "asws = 2*0.28e-4/0.2\n",
    "vrds = asws*0.9*0.45*348000*2.5\n",
    "asws, vrds"
   ]
  },
  {
   "cell_type": "code",
   "execution_count": null,
   "id": "synthetic-johnston",
   "metadata": {},
   "outputs": [],
   "source": []
  }
 ],
 "metadata": {
  "kernelspec": {
   "display_name": "Python 3",
   "language": "python",
   "name": "python3"
  },
  "language_info": {
   "codemirror_mode": {
    "name": "ipython",
    "version": 3
   },
   "file_extension": ".py",
   "mimetype": "text/x-python",
   "name": "python",
   "nbconvert_exporter": "python",
   "pygments_lexer": "ipython3",
   "version": "3.9.2"
  }
 },
 "nbformat": 4,
 "nbformat_minor": 5
}
