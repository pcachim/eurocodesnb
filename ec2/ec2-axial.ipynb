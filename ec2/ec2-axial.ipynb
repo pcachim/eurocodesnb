{
 "cells": [
  {
   "cell_type": "markdown",
   "metadata": {},
   "source": [
    "# Axial forces"
   ]
  },
  {
   "cell_type": "code",
   "execution_count": 2,
   "metadata": {},
   "outputs": [],
   "source": [
    "# Input data\n",
    "# Geometry\n",
    "Ac = 0.3*0.5 # concrete area (m2)\n",
    "As = 49.1e-4 # steel area (m2)\n",
    "# Material properties\n",
    "alphaE = 15.0 # homogenization coefficient Es/Ec\n",
    "Es = 200000000.0 # steel modulus of elasticity (kPa)\n",
    "fyd = 435000 # steel tensile strength (kPa)\n",
    "epsc2 = 0.002 # maximum concrete strain in compression\n",
    "fctm = 2600 # concrete mean tensile strength (kPa)\n",
    "fcd = 16700 # concrete design compressive strength (kPa)\n",
    "# Actions/loads\n",
    "Ntk = 1500.0 # SLS tensile force (kN)\n",
    "Nck = 1500.0 # SLS compressive force (kN)\n",
    "Nced = 4300.0 # ULS tensile force (kN)\n",
    "Nted = 1300.0 # ULS compressive force (kN)"
   ]
  },
  {
   "cell_type": "markdown",
   "metadata": {},
   "source": [
    "## SLS - compression or uncracked in tension\n",
    "\n",
    "In servicebility limit states both materials work in linear elastic state. Standard strength of materials procedures can be used to clculate stresses and deformations in materials. An important parameter is the coefficient of homogeneization $\\alpha_E = {E_s}/{E_c}$ that transforms material steel into and equivalent concrete:\n",
    "$$A_{c,eff}=A_c+\\alpha_EA_s$$\n",
    "Then, equations for stresses read:\n",
    "$$\\sigma_{c}=N_k/A_{c,eff}$$\n",
    "$$\\sigma_{s}=\\alpha_E\\sigma_{c}$$\n",
    "Using the equilibrium equations:\n",
    "$$N_k = F_c + F_s$$\n",
    "$$N_k = \\sigma_{c}A_c+\\sigma_{s}A_s$$\n",
    "with (because deformation in steel is the same of concrete):\n",
    "$$\\varepsilon_c = \\varepsilon_s$$\n",
    "$$\\frac{\\sigma_c}{E_c} = \\frac{\\sigma_s}{E_s}$$\n",
    "$$\\sigma_s = \\sigma_c\\frac{E_s}{E_c}$$"
   ]
  },
  {
   "cell_type": "code",
   "execution_count": 3,
   "metadata": {},
   "outputs": [
    {
     "output_type": "stream",
     "name": "stdout",
     "text": [
      "sig_C = 6.9 MPa; sig_S = 102.9 MPa\n"
     ]
    }
   ],
   "source": [
    "Aceff = Ac+(alphaE-1)*As\n",
    "sigmac = Nck/Aceff\n",
    "sigmas = alphaE*sigmac\n",
    "print(\"sig_C = {:.1f} MPa; sig_S = {:.1f} MPa\".format(sigmac/1000.0, sigmas/1000.0))"
   ]
  },
  {
   "cell_type": "markdown",
   "metadata": {},
   "source": [
    "## SLS - tension\n",
    "\n",
    "In this case, concrete no longer contributes to the section strength. Therefore, only steel contributes to the strength.\n",
    "$$\\sigma_{c}=0$$\n",
    "$$\\sigma_{s}=N_k/A_{s}$$"
   ]
  },
  {
   "cell_type": "code",
   "execution_count": 4,
   "metadata": {},
   "outputs": [
    {
     "output_type": "stream",
     "name": "stdout",
     "text": [
      "sig_C = 0.0 MPa; sig_S = 305.5 MPa\n"
     ]
    }
   ],
   "source": [
    "Aceff = Ac+(alphaE-1)*As\n",
    "sigmac = Ntk/Aceff\n",
    "if sigmac > fctm:\n",
    "    sigmac = 0\n",
    "    sigmas = Ntk/As\n",
    "else:\n",
    "    sigmas = alphaE*sigmac\n",
    "\n",
    "print(\"sig_C = {:.1f} MPa; sig_S = {:.1f} MPa\".format(sigmac/1000.0, sigmas/1000.0))"
   ]
  },
  {
   "cell_type": "markdown",
   "metadata": {},
   "source": [
    "## SLS - cracking force\n",
    "\n",
    "The cracking force is the one that initiates cracking, which means that the tensile stress in concrete is equal to its tensile strength. It thus reads:\n",
    "$$ N_{cr}=f_{ctm}A_{c,eff}$$\n",
    "After cracking concrete cannot support any load so all the force have to be supported by reinforcmement. Consequently, a sudden increase of stress occurs in steel:\n",
    "$$ \\sigma_{s,cr}=\\frac{N_{cr}}{A_s}=\\frac{A_{c,eff}}{A_s}f_{ctm}=\\left(\\frac{1}{\\rho}+\\alpha_E \\right)f_{ctm}$$"
   ]
  },
  {
   "cell_type": "code",
   "execution_count": 10,
   "metadata": {},
   "outputs": [
    {
     "output_type": "stream",
     "name": "stdout",
     "text": [
      "Ncr=568.7 kN, sigmasr=115.8 MPa; rho=3.27%\n"
     ]
    }
   ],
   "source": [
    "Ncr = Aceff*fctm\n",
    "sigmasr = Ncr/As/1000\n",
    "rho = As/Ac*100\n",
    "print(f\"{Ncr=:.1f} kN, {sigmasr=:.1f} MPa; {rho=:.2f}%\")"
   ]
  },
  {
   "cell_type": "markdown",
   "metadata": {
    "tags": []
   },
   "source": [
    "## ULS - compresion\n",
    "\n",
    "In ultimate limit state, both materials, concrete and steel, contribute to ultimate strength. As, according to EC2, the ultimate strain equals $\\varepsilon_{c2}$, the tensile strength of steel is limited to:\n",
    "$$f_{Rd}=\\min\\left( E_s\\varepsilon_{c2}; f_{yd}\\right)$$\n",
    "Accordingly, the compressive strength is calculated by:\n",
    "$$N_{Rd}=N_cf_{cd}+A_sf_{Rd}$$"
   ]
  },
  {
   "cell_type": "code",
   "execution_count": 6,
   "metadata": {
    "tags": []
   },
   "outputs": [
    {
     "output_type": "stream",
     "name": "stdout",
     "text": [
      "Nrdc=4469.0 kN, frd=400000 kPa\n"
     ]
    }
   ],
   "source": [
    "frd = min(fyd, epsc2*Es)\n",
    "Nrdc = Ac*fcd+As*frd\n",
    "print(f\"{Nrdc=:.1f} kN, {frd=:.0f} kPa\")"
   ]
  },
  {
   "cell_type": "code",
   "execution_count": 7,
   "metadata": {},
   "outputs": [
    {
     "output_type": "stream",
     "name": "stdout",
     "text": [
      "Required compressive reinforcement, Asc=44.9 cm2\n"
     ]
    }
   ],
   "source": [
    "Asc = max((Nced-Ac*fcd)/frd,0)*10000\n",
    "print(f\"Required compressive reinforcement, {Asc=:.1f} cm2\")"
   ]
  },
  {
   "cell_type": "markdown",
   "metadata": {},
   "source": [
    "## ULS - tension\n",
    "\n",
    "In ultimate limit state concrete strength is zero, so tensile force is only calculated by steel:\n",
    "$$N_{Rd}=A_sf_{yd}$$"
   ]
  },
  {
   "cell_type": "code",
   "execution_count": 8,
   "metadata": {},
   "outputs": [
    {
     "output_type": "stream",
     "name": "stdout",
     "text": [
      "Nrdt=2135.8 kN\n"
     ]
    }
   ],
   "source": [
    "Nrdt = As*fyd\n",
    "print(f\"{Nrdt=:.1f} kN\")"
   ]
  },
  {
   "cell_type": "code",
   "execution_count": 9,
   "metadata": {},
   "outputs": [
    {
     "output_type": "stream",
     "name": "stdout",
     "text": [
      "Required tensile reinforcement, Ast=29.9 cm2\n"
     ]
    }
   ],
   "source": [
    "Ast = Nted/fyd*10000\n",
    "print(f\"Required tensile reinforcement, {Ast=:.1f} cm2\")"
   ]
  },
  {
   "cell_type": "code",
   "execution_count": null,
   "metadata": {},
   "outputs": [],
   "source": []
  }
 ],
 "metadata": {
  "kernelspec": {
   "display_name": "Python 3",
   "language": "python",
   "name": "python3"
  },
  "language_info": {
   "codemirror_mode": {
    "name": "ipython",
    "version": 3
   },
   "file_extension": ".py",
   "mimetype": "text/x-python",
   "name": "python",
   "nbconvert_exporter": "python",
   "pygments_lexer": "ipython3",
   "version": "3.9.2"
  }
 },
 "nbformat": 4,
 "nbformat_minor": 4
}