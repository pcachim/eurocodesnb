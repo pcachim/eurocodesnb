{
 "cells": [
  {
   "cell_type": "code",
   "execution_count": 1,
   "metadata": {
    "tags": []
   },
   "outputs": [],
   "source": [
    "%matplotlib inline\n",
    "import math\n",
    "import ipywidgets as widgets\n",
    "from ipywidgets import HBox, VBox\n",
    "from ipywidgets import interact\n",
    "import numpy as np\n",
    "import matplotlib.pyplot as plt\n",
    "from IPython.display import display"
   ]
  },
  {
   "cell_type": "code",
   "execution_count": 2,
   "metadata": {},
   "outputs": [],
   "source": [
    "wb = widgets.FloatSlider(value=0.3,min=0.15,max=0.6,step=0.025,description='bw (m):',readout_format='.3f')\n",
    "wd = widgets.FloatSlider(value=0.5,min=0.20,max=1.0,step=0.025,description='d (m):',readout_format='.3f')\n",
    "wcott = widgets.FloatSlider(value=2.5,min=1.0,max=2.5,step=0.1,description='cot(theta):')\n",
    "wfck2 = widgets.Dropdown(\n",
    "    options=[('C20/25', 20.0), ('C25/30', 25.0), ('C30/37', 30.0), ('C35/45', 35.0), ('C40/50', 40.0), ('C45/55', 45.0), ('C50/60', 50.0)],\n",
    "    value=20,\n",
    "    description='Concrete:',\n",
    ")\n",
    "wfyk2 = widgets.Dropdown(\n",
    "    options=[('A400', 400.0), ('A500', 500.0)],\n",
    "    value=400,\n",
    "    description='Reinforcement:',\n",
    ")\n",
    "wved = widgets.FloatSlider(value=100,min=1,max=1000,step=1,description='Ved (kN):',readout_format='.0f')\n",
    "wted = widgets.FloatSlider(value=100,min=1,max=1000,step=1,description='Ted (kN):',readout_format='.0f')"
   ]
  },
  {
   "cell_type": "code",
   "execution_count": 3,
   "metadata": {},
   "outputs": [],
   "source": [
    "def shear_strengh(bw: float, d: float, fck: float, g_c: float, fyk: float, g_s: float, cott: float, asw_s: float, alpha: float) -> float:\n",
    "    z = 0.9 * d\n",
    "    vrd_s = asw_s * z * fyk / g_s * cott * 1000.0\n",
    "    niu = 0.6*(1.0-fck/250)\n",
    "    vrd_max = bw * z * niu * fck / g_c * 100.0 / (cott + 1.0/cott)\n",
    "    return max(vrd_s, vrd_max)\n",
    "\n",
    "\n",
    "def shear_design(bw: float, z: float, fck: float, g_c: float, fyk: float, g_s: float, cott: float, ved: float, alpha: float) -> float:\n",
    "    niu = 0.6*(1.0-fck/250)\n",
    "    vrd_max = bw * z * niu * fck / g_c * 1000.0 / (cott + 1.0/cott)\n",
    "\n",
    "    asw_s = ved / z / fyk * g_s / cott / 1000.0 if vrd_max >= ved else math.nan\n",
    "    return asw_s, vrd_max\n",
    "\n",
    "\n",
    "def torsion_design(tef: float, Aek: float, uek: float, z: float, fck: float, g_c: float, fyk: float, g_s: float, cott: float, ted: float, alpha: float) -> float:\n",
    "    niu = 0.6*(1.0-fck/250)\n",
    "    trd_max = bw * z * niu * fck / g_c * 1000.0 / (cott + 1.0/cott)\n",
    "\n",
    "    asw_s = ved / z / fyk * g_s / cott / 1000.0 if vrd_max >= ved else math.nan\n",
    "    return asw_s, trd_max"
   ]
  },
  {
   "cell_type": "code",
   "execution_count": 4,
   "metadata": {},
   "outputs": [
    {
     "data": {
      "application/vnd.jupyter.widget-view+json": {
       "model_id": "96538581102f4c2db02bc0f74a285146",
       "version_major": 2,
       "version_minor": 0
      },
      "text/plain": [
       "interactive(children=(FloatSlider(value=0.3, description='bw (m):', max=0.6, min=0.15, readout_format='.3f', s…"
      ]
     },
     "metadata": {},
     "output_type": "display_data"
    }
   ],
   "source": [
    "@interact(bw=wb, d=wd, ved=wved, fck=wfck2, fyk=wfyk2, cott=wcott)\n",
    "def shear(bw, d, fck, fyk, ved, cott):\n",
    "    asw_s, vrd = shear_design(bw, d, fck, 1.5, fyk, 1.15, cott, ved, 90)\n",
    "    print(f'{asw_s=:.6f} cm2     {vrd=:.0f} kN')"
   ]
  },
  {
   "cell_type": "code",
   "execution_count": null,
   "metadata": {},
   "outputs": [],
   "source": []
  }
 ],
 "metadata": {
  "interpreter": {
   "hash": "7812ea015bdcee6f23a998adcdd2ef97c151c0c241b7b7070987d9313e41299d"
  },
  "kernelspec": {
   "display_name": "Python 3 (ipykernel)",
   "language": "python",
   "name": "python3"
  },
  "language_info": {
   "codemirror_mode": {
    "name": "ipython",
    "version": 3
   },
   "file_extension": ".py",
   "mimetype": "text/x-python",
   "name": "python",
   "nbconvert_exporter": "python",
   "pygments_lexer": "ipython3",
   "version": "3.8.15"
  },
  "latex_envs": {
   "LaTeX_envs_menu_present": true,
   "autoclose": false,
   "autocomplete": true,
   "bibliofile": "biblio.bib",
   "cite_by": "apalike",
   "current_citInitial": 1,
   "eqLabelWithNumbers": true,
   "eqNumInitial": 1,
   "hotkeys": {
    "equation": "Ctrl-E",
    "itemize": "Ctrl-I"
   },
   "labels_anchors": false,
   "latex_user_defs": false,
   "report_style_numbering": false,
   "user_envs_cfg": false
  }
 },
 "nbformat": 4,
 "nbformat_minor": 4
}
