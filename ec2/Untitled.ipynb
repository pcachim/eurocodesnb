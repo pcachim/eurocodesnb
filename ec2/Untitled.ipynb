{
 "cells": [
  {
   "cell_type": "code",
   "execution_count": 1,
   "id": "ruled-extra",
   "metadata": {},
   "outputs": [
    {
     "data": {
      "text/plain": [
       "755543.0769230771"
      ]
     },
     "execution_count": 1,
     "metadata": {},
     "output_type": "execute_result"
    }
   ],
   "source": [
    "270/3.25e-3*(0.65-0.18)*19.35"
   ]
  },
  {
   "cell_type": "code",
   "execution_count": 2,
   "id": "rising-recognition",
   "metadata": {},
   "outputs": [
    {
     "data": {
      "text/plain": [
       "461.53846153846155"
      ]
     },
     "execution_count": 2,
     "metadata": {},
     "output_type": "execute_result"
    }
   ],
   "source": [
    "270/0.9/0.65"
   ]
  },
  {
   "cell_type": "code",
   "execution_count": 3,
   "id": "strategic-catalyst",
   "metadata": {},
   "outputs": [
    {
     "data": {
      "text/plain": [
       "635862.0689655173"
      ]
     },
     "execution_count": 3,
     "metadata": {},
     "output_type": "execute_result"
    }
   ],
   "source": [
    "461/7.25e-4"
   ]
  },
  {
   "cell_type": "code",
   "execution_count": null,
   "id": "abandoned-deployment",
   "metadata": {},
   "outputs": [],
   "source": []
  }
 ],
 "metadata": {
  "kernelspec": {
   "display_name": "Python 3",
   "language": "python",
   "name": "python3"
  },
  "language_info": {
   "codemirror_mode": {
    "name": "ipython",
    "version": 3
   },
   "file_extension": ".py",
   "mimetype": "text/x-python",
   "name": "python",
   "nbconvert_exporter": "python",
   "pygments_lexer": "ipython3",
   "version": "3.9.2"
  }
 },
 "nbformat": 4,
 "nbformat_minor": 5
}
