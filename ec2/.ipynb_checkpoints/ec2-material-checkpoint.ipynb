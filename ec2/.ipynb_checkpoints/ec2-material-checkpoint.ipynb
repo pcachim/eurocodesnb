{
 "cells": [
  {
   "cell_type": "markdown",
   "metadata": {},
   "source": [
    "# Materials"
   ]
  },
  {
   "cell_type": "code",
   "execution_count": null,
   "metadata": {
    "tags": []
   },
   "outputs": [],
   "source": [
    "%matplotlib inline\n",
    "import math\n",
    "import json\n",
    "import numpy as np\n",
    "import pandas as pd\n",
    "import matplotlib.pyplot as plt\n",
    "import eurocodepy as ec"
   ]
  },
  {
   "cell_type": "code",
   "execution_count": null,
   "metadata": {
    "tags": []
   },
   "outputs": [],
   "source": [
    "c_fck = np.array([20, 25, 30, 35, 40, 45, 50, 60, 70, 80, 90])\n",
    "c_epsc2 = np.array( [2.0, 2.0, 2.0, 2.0, 2.0, 2.0, 2.0, 2.3, 2.4 , 2.5, 2.6])\n",
    "c_epscu2 = np.array([3.5, 3.5, 3.5, 3.5, 3.5, 3.5, 3.5, 2.9, 2.7 , 2.6, 2.6])\n",
    "c_n = np.array(     [2.0, 2.0, 2.0, 2.0, 2.0, 2.0, 2.0, 1.6, 1.45, 1.4, 1.4])"
   ]
  },
  {
   "cell_type": "code",
   "execution_count": null,
   "metadata": {},
   "outputs": [],
   "source": [
    "database = ec.db\n",
    "concs = database[\"Materials\"][\"Concrete\"]\n",
    "reinfs = database[\"Materials\"][\"Reinforcement\"]\n",
    "prestr = database[\"Materials\"][\"Prestress\"]\n",
    "ec2conc = pd.DataFrame.from_dict(concs[\"Classes\"])\n",
    "ec2reinf = pd.DataFrame.from_dict(reinfs[\"Classes\"])"
   ]
  },
  {
   "cell_type": "code",
   "execution_count": null,
   "metadata": {},
   "outputs": [],
   "source": [
    "ec2conc"
   ]
  },
  {
   "cell_type": "code",
   "execution_count": null,
   "metadata": {},
   "outputs": [],
   "source": [
    "ec2reinf"
   ]
  },
  {
   "cell_type": "markdown",
   "metadata": {},
   "source": [
    "## Concrete diagrams"
   ]
  },
  {
   "cell_type": "code",
   "execution_count": null,
   "metadata": {},
   "outputs": [],
   "source": [
    "n = 20\n",
    "eps = np.linspace(0, 1, n)\n",
    "for i in range(11):\n",
    "    stres = 1.0-np.power(1.0-np.linspace(0, 1, n), c_n[i])\n",
    "    eps2 = np.concatenate((eps*c_epsc2[i] , np.linspace(c_epsc2[i],c_epscu2[i],3)))\n",
    "    stres2 = np.concatenate((stres, np.ones(3)))*c_fck[i]\n",
    "    plt.plot(eps2, stres2)"
   ]
  },
  {
   "cell_type": "code",
   "execution_count": null,
   "metadata": {
    "tags": [
     "hide-input"
    ]
   },
   "outputs": [],
   "source": [
    "import matplotlib.pyplot as plt\n",
    "import seaborn as sns\n",
    "import pandas as pd\n",
    "sns.set_theme(style=\"darkgrid\")\n",
    "\n",
    "df = pd.DataFrame(columns=['epsilon', 'sigma', 'class'])\n",
    "n = 20\n",
    "\n",
    "for i, cclass in enumerate(ec2conc.columns):\n",
    "    stres = 1-np.power(1-np.linspace(0, 1, n), c_n[i])\n",
    "    eps = np.linspace(0, 1, n)\n",
    "    df2 = pd.DataFrame(columns=['epsilon', 'sigma', 'class'])\n",
    "    df2['epsilon'] = np.concatenate((eps*c_epsc2[i] , np.linspace(c_epsc2[i],c_epscu2[i],3)))\n",
    "    df2['sigma'] = np.concatenate((stres, np.ones(3)))*c_fck[i]\n",
    "    df2['class'] = [cclass for j in range(len(eps2))]\n",
    "    df = pd.concat([df, df2], ignore_index=True)\n",
    "\n",
    "sns.set_context(\"notebook\", font_scale=1)\n",
    "plt.figure(figsize=(8,5))\n",
    "sns.lineplot(x=\"epsilon\", y=\"sigma\", hue=\"class\", data=df)\n",
    "plt.xlabel(\"Strain (x1000)\")\n",
    "plt.ylabel(\"Stress (MPa)\")\n",
    "plt.legend(bbox_to_anchor=(1.01, 1), borderaxespad=0)\n",
    "plt.tight_layout()\n",
    "#plt.savefig(\"place_legend_outside_plot_Seaborn_scatterplot.png\", format='png',dpi=150)\n",
    "plt.show()"
   ]
  },
  {
   "cell_type": "markdown",
   "metadata": {},
   "source": [
    "## Evolution of properties in time"
   ]
  },
  {
   "cell_type": "markdown",
   "metadata": {},
   "source": [
    "#### Evolution of concrete strength"
   ]
  },
  {
   "cell_type": "code",
   "execution_count": null,
   "metadata": {
    "tags": []
   },
   "outputs": [],
   "source": [
    "def betacc(t: float, s: float=0.25)->float:\n",
    "    \"\"\"Calculates the strength hardening coeficient\n",
    "\n",
    "    Args:\n",
    "        t (float): time (days)\n",
    "        s (float): cement type parameter. Optional, defaults to 0.25 (Type N cement)\n",
    "        \n",
    "        s = 0.20, fast hardening R: CEM42,5R, CEM52,5N e CEM52,5R\n",
    "        s = 0.25, normal hardening N: CEM32,5R, CEM42,5N\n",
    "        s = 0.38, slow hardening S: CEM32,5N\n",
    "\n",
    "    Returns:\n",
    "        float: strength hardening coeficient\n",
    "    \"\"\"\n",
    "    return np.exp(s * (1 - np.sqrt(28.0/t)))\n",
    "\n",
    "\n",
    "def betace(t: float, s: float=0.25)->float:\n",
    "    \"\"\"Calculates the modulus of elasticity hardening coeficient\n",
    "\n",
    "    Args:\n",
    "        t (float): time (days)\n",
    "        s (float): cement type parameter. Optional, defaults to 0.25 (Type N cement)\n",
    "        \n",
    "        s = 0.20, fast hardening R: CEM42,5R, CEM52,5N e CEM52,5R\n",
    "        s = 0.25, normal hardening N: CEM32,5R, CEM42,5N\n",
    "        s = 0.38, slow hardening S: CEM32,5N\n",
    "\n",
    "    Returns:\n",
    "        float: modulus of elasticity hardening coeficient\n",
    "    \"\"\"\n",
    "    return (np.exp(s * (1 - np.sqrt(28.0/t))))**0.3\n",
    "\n"
   ]
  },
  {
   "cell_type": "code",
   "execution_count": null,
   "metadata": {},
   "outputs": [],
   "source": [
    "s = [0.2, 0.25, 0.38]\n",
    "n = 50\n",
    "t = np.logspace(0.01, 1.9, n)\n",
    "# Compressive strength\n",
    "for i in range(3):\n",
    "    betha_cc = betacc(t, s[i])\n",
    "    plt.plot(t, betha_cc)"
   ]
  },
  {
   "cell_type": "markdown",
   "metadata": {},
   "source": [
    "#### Evolution of modulus of elasticity"
   ]
  },
  {
   "cell_type": "code",
   "execution_count": null,
   "metadata": {
    "tags": []
   },
   "outputs": [],
   "source": [
    "# Modulus of elasticity\n",
    "\n",
    "for i in range(3):\n",
    "    beta_cc = betacc(t, s[i])\n",
    "    beta_ce = np.power(beta_cc, 0.3)\n",
    "    plt.plot(t, beta_ce)"
   ]
  },
  {
   "cell_type": "code",
   "execution_count": null,
   "metadata": {},
   "outputs": [],
   "source": []
  }
 ],
 "metadata": {
  "celltoolbar": "Edit Metadata",
  "kernelspec": {
   "display_name": "Python 3 (ipykernel)",
   "language": "python",
   "name": "python3"
  },
  "language_info": {
   "codemirror_mode": {
    "name": "ipython",
    "version": 3
   },
   "file_extension": ".py",
   "mimetype": "text/x-python",
   "name": "python",
   "nbconvert_exporter": "python",
   "pygments_lexer": "ipython3",
   "version": "3.11.2"
  },
  "latex_envs": {
   "LaTeX_envs_menu_present": true,
   "autoclose": false,
   "autocomplete": true,
   "bibliofile": "biblio.bib",
   "cite_by": "apalike",
   "current_citInitial": 1,
   "eqLabelWithNumbers": true,
   "eqNumInitial": 1,
   "hotkeys": {
    "equation": "Ctrl-E",
    "itemize": "Ctrl-I"
   },
   "labels_anchors": false,
   "latex_user_defs": false,
   "report_style_numbering": false,
   "user_envs_cfg": false
  },
  "vscode": {
   "interpreter": {
    "hash": "ec3d74e7fe57df24ca182b61814d656dffcff87639f6eff81248b43b4a45a73b"
   }
  }
 },
 "nbformat": 4,
 "nbformat_minor": 4
}
