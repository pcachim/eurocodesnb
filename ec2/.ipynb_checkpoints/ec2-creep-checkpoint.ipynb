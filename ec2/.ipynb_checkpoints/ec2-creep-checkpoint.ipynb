{
 "cells": [
  {
   "cell_type": "code",
   "execution_count": 1,
   "id": "loving-person",
   "metadata": {},
   "outputs": [],
   "source": [
    "## Eurocode 2 - creep"
   ]
  },
  {
   "cell_type": "code",
   "execution_count": 8,
   "id": "athletic-machinery",
   "metadata": {
    "hide_input": false
   },
   "outputs": [
    {
     "name": "stdout",
     "output_type": "stream",
     "text": [
      "This is eurocodepy v0.1.18\n"
     ]
    }
   ],
   "source": [
    "%matplotlib inline\n",
    "import math as m\n",
    "import pandas as pd\n",
    "import numpy as np\n",
    "import matplotlib\n",
    "import matplotlib.pyplot as plt\n",
    "import ipywidgets as widgets\n",
    "import eurocodepy as ec\n",
    "from ipywidgets import HBox, VBox\n",
    "from ipywidgets import interact"
   ]
  },
  {
   "cell_type": "code",
   "execution_count": 3,
   "id": "hungry-montgomery",
   "metadata": {},
   "outputs": [],
   "source": [
    "h0 = widgets.FloatSlider(value=200,min=100,max=1000,step=0.025,description='h0 (mm):',readout_format='.0f')\n",
    "t = widgets.FloatLogSlider(value=100000,min=0,max=6,step=0.025,description='t (d):',readout_format='.0f')\n",
    "t0 = widgets.FloatSlider(value=10,min=3,max=60,step=1,description='t0 (d):',readout_format='.0f')\n",
    "rh = widgets.FloatSlider(value=80,min=0,max=100,step=1,description='RH (%):',readout_format='.0f')\n",
    "fck = widgets.FloatSlider(value=20,min=20,max=50,step=5,description='fck (MPa):',readout_format='.0f')\n",
    "fck2 = widgets.Dropdown(\n",
    "    options=[('C20/25', 20.0), ('C25/30', 25.0), ('C30/37', 30.0), ('C35/45', 35.0), ('C40/50', 40.0), ('C45/55', 45.0), ('C50/60', 50.0)],\n",
    "    value=20,\n",
    "    description='Concrete:',\n",
    ")\n",
    "cem = widgets.Dropdown(\n",
    "    options=[('Type R', 1.0), ('Type N', 0.0), ('Type S', -1.0)],\n",
    "    value=0.0,\n",
    "    description='Cement:'\n",
    ")"
   ]
  },
  {
   "cell_type": "code",
   "execution_count": 4,
   "id": "western-olive",
   "metadata": {
    "hide_input": true
   },
   "outputs": [],
   "source": [
    "def creep_coef(t=28, h0=100,rh=65, t0=10, fck=20.0, cem=0.0):\n",
    "    fcm = fck+8\n",
    "    alpha1 = (35/fcm)**0.7\n",
    "    alpha2 = (35/fcm)**0.2\n",
    "    alpha3 = min(1.0, (35/fcm)**0.5)\n",
    "    tt0 = t0*((1.0+9.0/(2.0+t0**1.2))**cem)\n",
    "    phi_RH = (1.0-rh/100)/(0.1*(h0**0.33333333))\n",
    "    phi_RH = 1.0+phi_RH if fcm <= 35 else (1.0+phi_RH*alpha1)*alpha2\n",
    "    beta_fcm = 16.8/m.sqrt(fcm)\n",
    "    beta_t0 = 1.0/(0.1+tt0**0.2)\n",
    "    phi_0 = beta_fcm*beta_t0*phi_RH\n",
    "\n",
    "    try:        \n",
    "        betah = min(1500*alpha3, 1.5*(1.0+m.pow(0.012*rh,18))*h0+250*alpha3)\n",
    "        beta_cc = m.pow((t-t0)/(betah+t-t0), 0.3)\n",
    "        phi = beta_cc*phi_0    \n",
    "    except:\n",
    "        beta_cc = 0.0\n",
    "        phi = 0.0\n",
    "\n",
    "    return phi"
   ]
  },
  {
   "cell_type": "markdown",
   "id": "arctic-velvet",
   "metadata": {},
   "source": [
    "Interactive formula for calculating creep coefficient, $\\varphi$"
   ]
  },
  {
   "cell_type": "code",
   "execution_count": 5,
   "id": "drawn-sensitivity",
   "metadata": {},
   "outputs": [
    {
     "data": {
      "application/vnd.jupyter.widget-view+json": {
       "model_id": "e0023bd396d54d59878412daab18c07c",
       "version_major": 2,
       "version_minor": 0
      },
      "text/plain": [
       "interactive(children=(FloatLogSlider(value=100000.0, description='t (d):', max=6.0, readout_format='.0f', step…"
      ]
     },
     "metadata": {},
     "output_type": "display_data"
    }
   ],
   "source": [
    "@interact(h0=h0, t=t, t0=t0, rh=rh, fck=fck, cem=cem)\n",
    "def creepcoef(t=28, h0=100,rh=65, t0=10, fck=20.0, cem=0.0):\n",
    "    creep = creep_coef(t, h0, rh, t0, fck, cem)\n",
    "    #print(\"fhi={:.3f} betha_cc={:.3f} fhi_0={:.3f}\".format(phi, beta_cc, phi_0))\n",
    "    print(\"fhi={:.3f}\".format(creep))"
   ]
  },
  {
   "cell_type": "markdown",
   "id": "liked-trademark",
   "metadata": {},
   "source": [
    "Formula for calculating creep coefficiente by editing and changing input data"
   ]
  },
  {
   "cell_type": "code",
   "execution_count": 6,
   "id": "technological-venture",
   "metadata": {},
   "outputs": [
    {
     "name": "stdout",
     "output_type": "stream",
     "text": [
      "fhi=2.673\n"
     ]
    }
   ],
   "source": [
    "_t = 10000000\n",
    "_h0 = 171.4\n",
    "_rh = 70\n",
    "_t0 = 10\n",
    "_fck = 25\n",
    "_cem = 0\n",
    "creepcoef(_t,_h0,_rh,_t0,_fck,_cem)"
   ]
  },
  {
   "cell_type": "markdown",
   "id": "civilian-society",
   "metadata": {},
   "source": [
    "Graphic for displaying evolution of creep with time"
   ]
  },
  {
   "cell_type": "code",
   "execution_count": 7,
   "id": "horizontal-antigua",
   "metadata": {},
   "outputs": [
    {
     "data": {
      "application/vnd.jupyter.widget-view+json": {
       "model_id": "2d97241837414d53a3d10f2bc9cc108b",
       "version_major": 2,
       "version_minor": 0
      },
      "text/plain": [
       "interactive(children=(FloatSlider(value=200.0, description='h0 (mm):', max=1000.0, min=100.0, readout_format='…"
      ]
     },
     "metadata": {},
     "output_type": "display_data"
    }
   ],
   "source": [
    "tt = np.logspace(1.0, 6)\n",
    "vfunc = np.vectorize(creep_coef)\n",
    "@interact(h0=h0, t0=t0, rh=rh, fck=fck, cem=cem)\n",
    "def draw_creep(h0, t0, rh, fck, cem):\n",
    "    creep = vfunc(tt, h0, rh, t0, fck, cem)\n",
    "    print(\"fhi={:.3f}\".format(creep[49]))\n",
    "    plt.xscale(\"log\")\n",
    "    plt.xlabel(\"Time (days)\")\n",
    "    plt.ylabel(\"Creep coefficient\")\n",
    "    plt.plot(tt, creep)"
   ]
  },
  {
   "cell_type": "code",
   "execution_count": null,
   "id": "emotional-amber",
   "metadata": {},
   "outputs": [],
   "source": []
  }
 ],
 "metadata": {
  "kernelspec": {
   "display_name": "Python 3 (ipykernel)",
   "language": "python",
   "name": "python3"
  },
  "language_info": {
   "codemirror_mode": {
    "name": "ipython",
    "version": 3
   },
   "file_extension": ".py",
   "mimetype": "text/x-python",
   "name": "python",
   "nbconvert_exporter": "python",
   "pygments_lexer": "ipython3",
   "version": "3.8.15"
  },
  "latex_envs": {
   "LaTeX_envs_menu_present": true,
   "autoclose": false,
   "autocomplete": true,
   "bibliofile": "biblio.bib",
   "cite_by": "apalike",
   "current_citInitial": 1,
   "eqLabelWithNumbers": true,
   "eqNumInitial": 1,
   "hotkeys": {
    "equation": "Ctrl-E",
    "itemize": "Ctrl-I"
   },
   "labels_anchors": false,
   "latex_user_defs": false,
   "report_style_numbering": false,
   "user_envs_cfg": false
  },
  "toc-autonumbering": false,
  "toc-showcode": true,
  "vscode": {
   "interpreter": {
    "hash": "ec3d74e7fe57df24ca182b61814d656dffcff87639f6eff81248b43b4a45a73b"
   }
  }
 },
 "nbformat": 4,
 "nbformat_minor": 5
}
