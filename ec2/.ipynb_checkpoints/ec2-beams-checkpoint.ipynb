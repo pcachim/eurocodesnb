{
 "cells": [
  {
   "cell_type": "markdown",
   "metadata": {},
   "source": [
    "# Reinforced concrete beams\n",
    "\n",
    "This notebook calculates and checks the reinforcement in RC beams. It uses *eurocodepy* package to get some calculation functions."
   ]
  },
  {
   "cell_type": "code",
   "execution_count": 1,
   "metadata": {
    "tags": []
   },
   "outputs": [
    {
     "name": "stdout",
     "output_type": "stream",
     "text": [
      "This is eurocodepy v0.1.18\n"
     ]
    }
   ],
   "source": [
    "#%pip install eurocodepy --upgrade\n",
    "%matplotlib inline\n",
    "import math\n",
    "import numpy as np\n",
    "import matplotlib.pyplot as plt\n",
    "import eurocodepy as ec\n",
    "import ipywidgets as widgets\n",
    "from ipywidgets import HBox, VBox\n",
    "from ipywidgets import interact\n",
    "from IPython.display import display"
   ]
  },
  {
   "cell_type": "code",
   "execution_count": 2,
   "metadata": {},
   "outputs": [],
   "source": [
    "# this cell is used to define the widgets\n",
    "b = widgets.FloatSlider(value=0.3,min=0.15,max=2.0,step=0.025,description='b (m):',readout_format='.3f')\n",
    "d = widgets.FloatSlider(value=0.5,min=0.20,max=1.0,step=0.005,description='d (m):',readout_format='.3f')\n",
    "fck = widgets.FloatSlider(value=20,min=20,max=50,step=5,description='fck (MPa):')\n",
    "fck3 = widgets.Dropdown(\n",
    "    options=[('C20/25', 13.3), ('C25/30', 16.7), ('C30/37', 20.0), ('C35/45', 23.3), ('C40/50', 26.7), ('C45/55', 30.0), ('C50/60', 33.3)],\n",
    "    value=13.3,\n",
    "    description='Betão:',\n",
    ")\n",
    "fyk = widgets.FloatSlider(value=400,min=400,max=500,step=100,description='fyk (MPa):')\n",
    "fyk3 = widgets.Dropdown(\n",
    "    options=[('A400', 348.0), ('A500', 435.0)],\n",
    "    value=348,\n",
    "    description='Aço:',\n",
    ")\n",
    "med = widgets.FloatSlider(value=100,min=1,max=1000,step=1,description='Med (kNm):',readout_format='.0f')\n",
    "tab1 = VBox(children=[b,d,med,fck3,fyk3])\n",
    "ast = widgets.FloatSlider(value=10,min=0.01,max=50,step=0.01,description='As (cm2):',readout_format='.2f')\n",
    "iprint = widgets.Checkbox(value=True,description=\"Print results\")"
   ]
  },
  {
   "cell_type": "markdown",
   "metadata": {},
   "source": [
    "## Calculate reinforcement in beams"
   ]
  },
  {
   "cell_type": "code",
   "execution_count": 3,
   "metadata": {},
   "outputs": [
    {
     "data": {
      "application/vnd.jupyter.widget-view+json": {
       "model_id": "d56bf6117a844f3bbbca8449c755b5d7",
       "version_major": 2,
       "version_minor": 0
      },
      "text/plain": [
       "interactive(children=(FloatSlider(value=0.3, description='b (m):', max=2.0, min=0.15, readout_format='.3f', st…"
      ]
     },
     "metadata": {},
     "output_type": "display_data"
    }
   ],
   "source": [
    "a = widgets.interact(ec.ec2.calc_reinf_beam, b=b, d=d, med=med, fcd=fck3, fyd=fyk3, iprint=iprint)"
   ]
  },
  {
   "cell_type": "markdown",
   "metadata": {},
   "source": [
    "## Calculate bending strength"
   ]
  },
  {
   "cell_type": "code",
   "execution_count": 4,
   "metadata": {},
   "outputs": [
    {
     "data": {
      "application/vnd.jupyter.widget-view+json": {
       "model_id": "bf39145273db400db70843419b583283",
       "version_major": 2,
       "version_minor": 0
      },
      "text/plain": [
       "interactive(children=(FloatSlider(value=0.3, description='b (m):', max=2.0, min=0.15, readout_format='.3f', st…"
      ]
     },
     "metadata": {},
     "output_type": "display_data"
    }
   ],
   "source": [
    "a = widgets.interact(ec.ec2.calc_mom_beam, b=b, d=d, ast=ast, fcd=fck3, fyd=fyk3, iprint=iprint)\n"
   ]
  },
  {
   "cell_type": "markdown",
   "metadata": {
    "tags": []
   },
   "source": [
    "## Comparison of parabola-rectangle diagram with rectangle diagram (in %)"
   ]
  },
  {
   "cell_type": "code",
   "execution_count": 5,
   "metadata": {
    "tags": []
   },
   "outputs": [
    {
     "data": {
      "text/plain": [
       "[<matplotlib.lines.Line2D at 0x7f7e475c91c0>]"
      ]
     },
     "execution_count": 5,
     "metadata": {},
     "output_type": "execute_result"
    },
    {
     "data": {
      "image/png": "[encoded data removed]",
      "text/plain": [
       "<Figure size 800x600 with 1 Axes>"
      ]
     },
     "metadata": {},
     "output_type": "display_data"
    }
   ],
   "source": [
    "n = 100\n",
    "t = np.linspace(0.01, 0.3, n)\n",
    "fig, ax = plt.subplots(1, 1, figsize=(8, 6))\n",
    "om = ((1.0-0.973)*np.ones(n)-np.sqrt(np.ones(n)-2*t)+np.sqrt(0.973*0.973*np.ones(n)-0.973*2*t))/(np.ones(n)-np.sqrt(np.ones(n)-2*t))*100\n",
    "ax.plot(t, om, lw=2.0, color='blue')"
   ]
  },
  {
   "cell_type": "code",
   "execution_count": null,
   "metadata": {},
   "outputs": [],
   "source": []
  },
  {
   "cell_type": "code",
   "execution_count": null,
   "metadata": {},
   "outputs": [],
   "source": []
  }
 ],
 "metadata": {
  "kernelspec": {
   "display_name": "Python 3 (ipykernel)",
   "language": "python",
   "name": "python3"
  },
  "language_info": {
   "codemirror_mode": {
    "name": "ipython",
    "version": 3
   },
   "file_extension": ".py",
   "mimetype": "text/x-python",
   "name": "python",
   "nbconvert_exporter": "python",
   "pygments_lexer": "ipython3",
   "version": "3.8.15"
  },
  "latex_envs": {
   "LaTeX_envs_menu_present": true,
   "autoclose": false,
   "autocomplete": true,
   "bibliofile": "biblio.bib",
   "cite_by": "apalike",
   "current_citInitial": 1,
   "eqLabelWithNumbers": true,
   "eqNumInitial": 1,
   "hotkeys": {
    "equation": "Ctrl-E",
    "itemize": "Ctrl-I"
   },
   "labels_anchors": false,
   "latex_user_defs": false,
   "report_style_numbering": false,
   "user_envs_cfg": false
  },
  "vscode": {
   "interpreter": {
    "hash": "ec3d74e7fe57df24ca182b61814d656dffcff87639f6eff81248b43b4a45a73b"
   }
  }
 },
 "nbformat": 4,
 "nbformat_minor": 4
}
