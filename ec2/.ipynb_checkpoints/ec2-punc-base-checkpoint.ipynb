{
 "cells": [
  {
   "cell_type": "code",
   "execution_count": 3,
   "id": "available-audit",
   "metadata": {},
   "outputs": [],
   "source": [
    "import math\n",
    "import numpy as np\n",
    "import eurocodepy as ec"
   ]
  },
  {
   "cell_type": "code",
   "execution_count": 4,
   "id": "continent-spirituality",
   "metadata": {},
   "outputs": [],
   "source": [
    "c1_c2 = np.array([0.5, 1.0, 2.0, 3.0])\n",
    "kvals = np.array([0.45, 0.6, 0.7, 0.8])"
   ]
  },
  {
   "cell_type": "code",
   "execution_count": 25,
   "id": "deadly-india",
   "metadata": {},
   "outputs": [
    {
     "data": {
      "text/plain": [
       "(1.2587318085592312, 0.6, 3.013716694115407)"
      ]
     },
     "execution_count": 25,
     "metadata": {},
     "output_type": "execute_result"
    }
   ],
   "source": [
    "cy = 0.4\n",
    "cz = 0.4\n",
    "d = 0.45\n",
    "c1 = 0.4\n",
    "c2 = 0.4\n",
    "ey = 0.3\n",
    "ez = 0.1\n",
    "by = cy + 4*d\n",
    "bz = cz + 4*d\n",
    "u1 = 2*cy+2*cz+math.pi*d\n",
    "c1c2 = c1/c2\n",
    "k = np.interp(c1c2, c1_c2, kvals)\n",
    "beta = 1.0+1.8*math.sqrt((ey/bz)**2+(ez/by)**2)\n",
    "beta, k, u1"
   ]
  },
  {
   "cell_type": "code",
   "execution_count": 31,
   "id": "likely-geometry",
   "metadata": {},
   "outputs": [],
   "source": [
    "def verif_punc(cy, cz, d, ved, medy, medz, fck, rho_l=0.0, g_c=1.5):\n",
    "    ey = medz/ved\n",
    "    ez = medy/ved\n",
    "    by = cy + 4*d\n",
    "    bz = cz + 4*d\n",
    "    beta = 1.0+1.8*math.sqrt((ey/bz)**2+(ez/by)**2)\n",
    "    u1 =  2*cy + 2*cz + math.pi*4*d\n",
    "    tau_d = beta * ved / u1 /d\n",
    "    \n",
    "    k = min(2.0, 1.0+math.sqrt(0.2/d))\n",
    "    vrd_min = 35.0 * math.pow(k, 1.5) * math.sqrt(fck)\n",
    "    vrd_c = 180.0 / g_c * k * (100.0*rho_l*fck)**(1.0/3.0)\n",
    "    vrd = max (vrd_min, vrd_c)\n",
    "    \n",
    "    print (ved, medy, medz, round(tau_d,1), round(vrd,1), round(tau_d/vrd,2))"
   ]
  },
  {
   "cell_type": "code",
   "execution_count": 32,
   "id": "0e4cddb5-e1d2-4615-988d-046d4fc129de",
   "metadata": {},
   "outputs": [
    {
     "name": "stdout",
     "output_type": "stream",
     "text": [
      "1077 137 44 318.9 376.5 0.85\n",
      "974 165 50 296.9 376.5 0.79\n"
     ]
    }
   ],
   "source": [
    "verif_punc(0.6, 0.7, 0.45, 1077, 137, 44, 25)\n",
    "verif_punc(0.6, 0.7, 0.45, 974, 165, 50, 25)"
   ]
  },
  {
   "cell_type": "code",
   "execution_count": null,
   "id": "fefe6cf3-5591-4317-af1e-197e78e127fc",
   "metadata": {},
   "outputs": [],
   "source": []
  },
  {
   "cell_type": "code",
   "execution_count": null,
   "id": "33025fee-da50-48e6-90a9-8d76e39adc47",
   "metadata": {},
   "outputs": [],
   "source": []
  }
 ],
 "metadata": {
  "kernelspec": {
   "display_name": "Python 3 (ipykernel)",
   "language": "python",
   "name": "python3"
  },
  "language_info": {
   "codemirror_mode": {
    "name": "ipython",
    "version": 3
   },
   "file_extension": ".py",
   "mimetype": "text/x-python",
   "name": "python",
   "nbconvert_exporter": "python",
   "pygments_lexer": "ipython3",
   "version": "3.8.15"
  },
  "vscode": {
   "interpreter": {
    "hash": "aee8b7b246df8f9039afb4144a1f6fd8d2ca17a180786b69acc140d282b71a49"
   }
  }
 },
 "nbformat": 4,
 "nbformat_minor": 5
}
