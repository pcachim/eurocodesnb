{
 "cells": [
  {
   "cell_type": "markdown",
   "metadata": {},
   "source": [
    "## Método dos pórticos equivalentes\n",
    "\n",
    "Os momentos fletores totais obtidos na análise deverão ser distribuídos por toda a largura da laje. \n",
    "\n",
    "Na análise elástica, os momentos negativos tendem a concentrar-se na vizinhança dos eixos dos pilares.\n",
    "\n",
    "Deverá considerar-se os painéis divididos em faixas sobre pilares e em faixas centrais, e distribuir-se os momentos fletores conforme indicado no quadro.\n",
    "\n",
    "![plant](./figs/flat-01.png)\n",
    "\n",
    "Quando existem capitéis de largura maior do que $l_y/3$, poderá considerar-se para largura das faixas sobre os pilares a largura dos capitéis; a largura das faixas centrais deverá ser ajustada em conformidade.\n",
    "\n",
    "Quando a largura da faixa sobre pilares é diferente de $0.5l_x$ e é considerada uma largura igual à do capitel, a largura da faixa central deverá ser ajustada em conformidade. \n",
    "\n",
    "Na análise do pórtio deve coonsiderar-se toda a carga atuante na faixa\n",
    "\n",
    "![plant](./figs/flat-02.png)\n",
    "\n",
    "Obtém-se os diagramas de momentos totais no pórtico\n",
    "\n",
    "![plant](./figs/flat-03.png)\n",
    "\n",
    "Distribuem-se os momentos pela banda doo pilar e pela banda central de acordoo com as percentagens da figura.\n",
    "\n",
    "![plant](./figs/flat-04.png)"
   ]
  },
  {
   "cell_type": "code",
   "execution_count": null,
   "metadata": {},
   "outputs": [],
   "source": [
    "import numpy as np\n",
    "import matplotlib.pyplot as plt\n",
    "import eurocodepy as ec"
   ]
  },
  {
   "cell_type": "markdown",
   "metadata": {},
   "source": [
    "### Análise de um piso com $n$ vãos  e carga uniformemente distribuída $u$\n",
    "\n",
    "**Input data:**"
   ]
  },
  {
   "cell_type": "code",
   "execution_count": null,
   "metadata": {},
   "outputs": [],
   "source": [
    "uload = 17.5 # (kN/m2) slab load\n",
    "col_coef = 0.75 # moment percentage over columns in column band\n",
    "span_coef = 0.55 # moment percentage at mid span in column band\n",
    "spans = np.array([7.0, 8.0, 8.0, 7.0]) # (m) length o the spans\n",
    "widths = np.array([7.0, 7.0, 7.0, 7.0]) # (m) width of the band\n",
    "col_width = np.array([]) # column band width if different from half of the width"
   ]
  },
  {
   "cell_type": "markdown",
   "metadata": {},
   "source": [
    "**Calculations:**"
   ]
  },
  {
   "cell_type": "code",
   "execution_count": null,
   "metadata": {},
   "outputs": [],
   "source": [
    "if col_width.size == 0: col_width = widths/2.0\n",
    "n = spans.size # number of spans\n",
    "\n",
    "if n == 2: \n",
    "    coefs = np.array([[-0.040, 0.075, -0.110],\n",
    "                      [-0.110, 0.075, -0.040]])\n",
    "elif n == 3:\n",
    "    coefs = np.array([[-0.040, 0.075, -0.086], \n",
    "                      [-0.086, 0.068, -0.086], \n",
    "                      [-0.086, 0.075, -0.040]])\n",
    "elif n == 4:\n",
    "    coefs = np.array([[-0.040, 0.075, -0.086], \n",
    "                      [-0.086, 0.068, -0.070], \n",
    "                      [-0.070, 0.068, -0.086], \n",
    "                      [-0.086, 0.075, -0.040]])\n",
    "elif n == 5:\n",
    "    coefs = np.array([[-0.040, 0.075, -0.086], \n",
    "                      [-0.086, 0.068, -0.070], \n",
    "                      [-0.070, 0.068, -0.070],\n",
    "                      [-0.070, 0.068, -0.086], \n",
    "                      [-0.086, 0.075, -0.040]])\n",
    "else:\n",
    "    coefs = np.array([[-0.040, 0.075, -0.086], \n",
    "                      [-0.086, 0.068, -0.070]])\n",
    "    for i in range(2, n-2):\n",
    "        coefs = np.concatenate((coefs, np.array([[-0.070, 0.068, -0.070]])))\n",
    "    coefs = np.concatenate((coefs, np.array([[-0.070, 0.068, -0.086], [-0.086, 0.075, -0.04]])))\n",
    "\n",
    "# Calculate total load in the span\n",
    "loads = widths * uload * spans * spans\n",
    "# print(\"spans:\\n\", n)\n",
    "# print(\"coefs:\\n\", coefs)\n",
    "# print(\"loads:\\n\", loads)\n",
    "\n",
    "# Calculate moments\n",
    "moments = coefs * loads[:, np.newaxis]\n",
    "\n",
    "# Calculate compatible moment at supports\n",
    "mtot = -(moments[:,0] + moments[:,2])*0.5 + moments[:,1]\n",
    "for i in range(1, n):\n",
    "    l1 = 1.0/spans[i-1]\n",
    "    l2 = 1.0/spans[i]\n",
    "    moments[i-1, 2] = (moments[i-1,2]*l1+moments[i, 0]*l2)/(l1+l2)\n",
    "    moments[i, 0] = moments[i-1, 2]\n",
    "    moments[i-1, 1] = ((moments[i-1,0]+moments[i-1,2])*0.5) + mtot[i-1]\n",
    "\n",
    "moments[n-1, 1] = ((moments[n-1,0]+moments[n-1,2])*0.5) + mtot[n-1]\n",
    "print(\"moments:\\n\",moments)\n",
    "\n",
    "import utils\n",
    "# Plot the moments' diagram\n",
    "xpos = np.zeros(0)\n",
    "mom_tot = np.zeros(0)\n",
    "for i in range(n):\n",
    "    x1 = 0 if i == 0 else x1 + spans[i-1]\n",
    "    x2 = x1 +  spans[i]/2.0\n",
    "    x3 = x1 +  spans[i]\n",
    "    x, y = utils.calc_parabola(x1, moments[i,0], x2, moments[i,1], x3, moments[i,2], 20)\n",
    "    xpos = np.concatenate((xpos,x))\n",
    "    mom_tot = np.concatenate((mom_tot,y))\n",
    "\n",
    "mom_sup = np.where(mom_tot < 0, mom_tot*col_coef, mom_tot*span_coef)\n",
    "mom_span = mom_tot-mom_sup\n",
    "plt.plot(xpos, mom_tot, linestyle='-', color='red', label='Total')\n",
    "plt.plot(xpos, mom_sup, linestyle='-', color='blue', label='Central') \n",
    "plt.plot(xpos, mom_span, linestyle='-', color='green', label='Lateral') \n",
    "plt.legend(framealpha=1, frameon=True)\n",
    "\n",
    "ax = plt.gca()\n",
    "ax.invert_yaxis()\n",
    "plt.axhline(0, color='black')\n",
    "plt.show()"
   ]
  }
 ],
 "metadata": {
  "kernelspec": {
   "display_name": "Python 3.9.6 ('.venv': venv)",
   "language": "python",
   "name": "python3"
  },
  "language_info": {
   "codemirror_mode": {
    "name": "ipython",
    "version": 3
   },
   "file_extension": ".py",
   "mimetype": "text/x-python",
   "name": "python",
   "nbconvert_exporter": "python",
   "pygments_lexer": "ipython3",
   "version": "3.9.6"
  },
  "orig_nbformat": 4,
  "vscode": {
   "interpreter": {
    "hash": "ec3d74e7fe57df24ca182b61814d656dffcff87639f6eff81248b43b4a45a73b"
   }
  }
 },
 "nbformat": 4,
 "nbformat_minor": 2
}
