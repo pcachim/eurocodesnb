{
 "cells": [
  {
   "cell_type": "markdown",
   "metadata": {},
   "source": [
    "## Solid slabs spanning in two directions at right angles\n",
    "These rules may be used for the design of slabs spanning in two directions at right angles and supporting uniformly distributed loads.\n",
    "\n",
    "**Symbols:**\n",
    "\n",
    "- $l_x$ length of shorter side.\n",
    "- $l_y$ length of longer side.\n",
    "- $m_{sx}$ maximum design ultimate moments either over supports or at mid-span on strips of unit width and span lx.\n",
    "- $m_{sy}$ maximum design ultimate moments either over supports or at mid-span on strips of unit width and span ly.\n",
    "- $p$ total design ultimate load per unit area.\n",
    "- $N_d$ number of discontinuous edges ($0 \\le N_d \\le 4$).\n",
    "- $\\beta_x$ sagging moment in the span, per unit width, in the direction of the shorter span, $l_x$, divided by $pl_x^2$.\n",
    "- $\\beta_y$ sagging moment in the span, per unit width, in the direction of the longer span, $l_y$ divided by $pl_x^2$.\n",
    "- $\\beta_1$ and $\\beta_2$ hogging moments, per unit width, over the shorter edges divided by $pl_x^2$.\n",
    "- $\\beta_3$ and $\\beta_4$ hogging moments, per unit width, over the longer edges divided by $pl_x^2$. \n",
    "\n",
    "**Conditions:**\n",
    "\n",
    "The conditions in which the equations may be used for continuous slabs only are as follows:\n",
    "1) The characteristic dead and imposed loads on adjacent panels are approximately the same as on the panel being considered.\n",
    "2) The span of adjacent panels in the direction perpendicular to the line of the common support is approximately the same as the span of the panel considered in that direction.\n",
    "\n",
    "The rules to be observed when the equations are applied to restrained slabs (continuous or discontinuous) are as follows:\n",
    "1) Slabs are considered as divided in each direction into middle strips and edge strips, the middle strip being three-quarters of the width and each edge strip one-eighth of the width.\n",
    "2) The maximum design moments calculated as above apply only to the middle strips and **no redistribution should be made**.\n",
    "3) Reinforcement in the middle strips should be detailed in accordance with simplified rules for curtailment of bars.\n",
    "4) Reinforcement in an edge strip, parallel to the edge, need not exceed the minimum (minimum areas of tension reinforcement), together with the recommendations for torsion given in 5), 6) and 7).\n",
    "5) **Torsion reinforcement** should be provided at any corner where the slab is simply supported on both edges meeting at that corner. It should consist of top and bottom reinforcement, each with layers of bars placed parallel to the sides of the slab and extending from the edges a minimum distance of one-fifth of the shorter span. The area of reinforcement in each of these four layers should be **three-quarters of the area required for the maximum mid-span design moment** in the slab.\n",
    "6) Torsion reinforcement equal to half that described in the preceding paragraph should be provided at a corner contained by edges over only one of which the slab is continuous.\n",
    "7) Torsion reinforcement need not be provided at any corner contained by edges over both of which the slab is continuous.\n",
    "\n",
    "In some cases the support moments calculated for adjacent panels, may differ significantly. To adjust them the following procedures may be used:\n",
    "\n",
    "1) Calculate the sum of the midspan moment and the average of the support moments (neglecting signs) for each panel.\n",
    "2) Treat the values obtained fixed end moments (FEMs).\n",
    "3) Distribute the FEMs across the supports according to the relative stiffness of adjacent spans, giving new support moments.\n",
    "4) Adjust midspan moment for each panel: this should be such that when it is added to the average of the support moments from 3) (neglecting signs) the total equals that from 1).\n",
    "\n",
    "If, for a given panel, the resulting support moments are now significantly greater than the value obtained, the tension steel over the supports will need to be extended beyond the provisions of simplified curtailement. The procedure should be as follows:\n",
    "\n",
    "5) The span moment is taken as parabolic between supports; its maximum value is as found from 4).\n",
    "6) The points of contraflexure of the new support moments [from 3)] with the span moment [from 5)] are determined.\n",
    "7) At each end half the support tension steel is extended to at least an effective depth or 12 bar diameters beyond the nearest point of contraflexure.\n",
    "8) At each end the full area of the support tension steel is extended to half the distance from 7)."
   ]
  },
  {
   "cell_type": "markdown",
   "metadata": {},
   "source": [
    "![bidireccional slab](./figs/bidi-01.png)"
   ]
  },
  {
   "cell_type": "markdown",
   "metadata": {},
   "source": [
    "**Input data:**"
   ]
  },
  {
   "cell_type": "code",
   "execution_count": null,
   "metadata": {},
   "outputs": [],
   "source": [
    "import math\n",
    "import numpy as np\n",
    "lx = 4 # (m) length of lx\n",
    "ly = 10 # (m) length of ly > lx\n",
    "nall = np.array([1, 1, 0, 0]) # support conditions (1 - continuity, 0 - discontinuity)\n",
    "p = 17.5 # (kN/m2) load acting on the slab\n",
    "if lx > ly: \n",
    "    raise Exception(\"Wrong span definition: lx > ly\")"
   ]
  },
  {
   "cell_type": "markdown",
   "metadata": {},
   "source": [
    "**Calculations:**"
   ]
  },
  {
   "cell_type": "code",
   "execution_count": null,
   "metadata": {},
   "outputs": [],
   "source": [
    "coef = round(ly/lx, 2)\n",
    "nd = 4.0-nall.sum() # continuity of sides 1-4 (1 - continuous, 0 - discontinuous)\n",
    "beta_y = round((24 + 2.0*nd + 1.5 * nd**2) / 1000.0, 3)\n",
    "beta_1 = round(1.3333333333*beta_y if nall[0] == 1 else 0, 3)\n",
    "beta_2 = round(1.3333333333*beta_y if nall[1] == 1 else 0, 3)\n",
    "gama = 2.0/9.0*(3.0-math.sqrt(18)*(lx/ly)*(math.sqrt(beta_y+beta_1)+math.sqrt(beta_y+beta_2)))\n",
    "print(f\"{nd=} ly/lx={coef}\")\n",
    "beta_3 = 2.3333333333 if nall[2] == 1 else 1.0\n",
    "beta_4 = 2.3333333333 if nall[3] == 1 else 1.0\n",
    "beta_x = round((math.sqrt(gama)/(math.sqrt(beta_3)+math.sqrt(beta_4)))**2, 3)\n",
    "beta_3 = round(1.3333333333*beta_x if nall[2] == 1 else 0, 3)\n",
    "beta_4 = round(1.3333333333*beta_x if nall[3] == 1 else 0, 3)\n",
    "# coeficients\n",
    "coefs = np.array([beta_1, beta_2, beta_3, beta_4, beta_x, beta_y])\n",
    "# moments\n",
    "moms = coefs * p * lx * lx\n",
    "# print\n",
    "print(f\"Coeficients = {coefs}\")\n",
    "print(f\"Moments = {moms} kNm/m\")"
   ]
  }
 ],
 "metadata": {
  "kernelspec": {
   "display_name": "Python 3.9.6 ('.venv': venv)",
   "language": "python",
   "name": "python3"
  },
  "language_info": {
   "codemirror_mode": {
    "name": "ipython",
    "version": 3
   },
   "file_extension": ".py",
   "mimetype": "text/x-python",
   "name": "python",
   "nbconvert_exporter": "python",
   "pygments_lexer": "ipython3",
   "version": "3.9.6"
  },
  "orig_nbformat": 4,
  "vscode": {
   "interpreter": {
    "hash": "ec3d74e7fe57df24ca182b61814d656dffcff87639f6eff81248b43b4a45a73b"
   }
  }
 },
 "nbformat": 4,
 "nbformat_minor": 2
}
