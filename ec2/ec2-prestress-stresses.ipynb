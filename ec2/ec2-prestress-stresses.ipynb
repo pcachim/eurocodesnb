{
 "metadata": {
  "language_info": {
   "codemirror_mode": {
    "name": "ipython",
    "version": 3
   },
   "file_extension": ".py",
   "mimetype": "text/x-python",
   "name": "python",
   "nbconvert_exporter": "python",
   "pygments_lexer": "ipython3",
   "version": "3.8.5-final"
  },
  "orig_nbformat": 2,
  "kernelspec": {
   "name": "python3",
   "display_name": "Python 3",
   "language": "python"
  }
 },
 "nbformat": 4,
 "nbformat_minor": 2,
 "cells": [
  {
   "cell_type": "code",
   "execution_count": 1,
   "metadata": {},
   "outputs": [],
   "source": [
    "import math\n",
    "import json"
   ]
  },
  {
   "cell_type": "code",
   "execution_count": 2,
   "metadata": {},
   "outputs": [],
   "source": [
    "f = open(\"eurocodes.json\", \"r\")\n",
    "database = json.loads(f.read())\n",
    "concretes = database[\"Eurocodes\"][\"Materials\"][\"Concrete\"]"
   ]
  },
  {
   "source": [
    "b = 0.3\n",
    "h = 1.0\n",
    "A = b*h\n",
    "I = b*h**3/12\n",
    "print (A, I)"
   ],
   "cell_type": "code",
   "metadata": {},
   "execution_count": 3,
   "outputs": [
    {
     "output_type": "stream",
     "name": "stdout",
     "text": [
      "0.3 0.024999999999999998\n"
     ]
    }
   ]
  },
  {
   "source": [
    "## Dados geométricos"
   ],
   "cell_type": "markdown",
   "metadata": {}
  },
  {
   "cell_type": "code",
   "execution_count": 4,
   "metadata": {},
   "outputs": [],
   "source": [
    "A = 0.3\n",
    "I = 0.025\n",
    "Zg  = 0.5\n",
    "H = 1.0\n",
    "ap = 0.15\n",
    "Wi = I/Zg\n",
    "Ws = I/(H-Zg)"
   ]
  },
  {
   "cell_type": "code",
   "execution_count": 5,
   "metadata": {},
   "outputs": [],
   "source": [
    "conc_class_0 = \"C25/30\"\n",
    "conc_class_inf = \"C35/45\""
   ]
  },
  {
   "source": [
    "## Dados ações"
   ],
   "cell_type": "markdown",
   "metadata": {}
  },
  {
   "cell_type": "code",
   "execution_count": 6,
   "metadata": {},
   "outputs": [],
   "source": [
    "Med = 500\n",
    "Ned = 0 # Tração ≥ 0, compressão ≤ 0\n",
    "Po = 1700 # Sempre positivo"
   ]
  },
  {
   "cell_type": "code",
   "execution_count": 7,
   "metadata": {},
   "outputs": [],
   "source": [
    "Med_inf = 1000\n",
    "Ned_inf = 0\n",
    "P_inf = 1800"
   ]
  },
  {
   "source": [
    "## Dados pré-esforço"
   ],
   "cell_type": "markdown",
   "metadata": {}
  },
  {
   "cell_type": "code",
   "execution_count": 8,
   "metadata": {},
   "outputs": [],
   "source": [
    "conc = concretes[\"Classes\"][conc_class_0]\n",
    "conc_inf = concretes[\"Classes\"][conc_class_inf]\n",
    "ep = Zg-ap"
   ]
  },
  {
   "source": [
    "## Resultados"
   ],
   "cell_type": "markdown",
   "metadata": {}
  },
  {
   "cell_type": "code",
   "execution_count": 9,
   "metadata": {},
   "outputs": [
    {
     "output_type": "stream",
     "name": "stdout",
     "text": [
      "-7566.666666666668 -3766.666666666667\n"
     ]
    }
   ],
   "source": [
    "Sig_inf = -Po/A+Ned/A-Po*ep/Wi+Med/Wi\n",
    "Sig_sup = -Po/A+Ned/A+Po*ep/Ws-Med/Ws\n",
    "print (Sig_inf, Sig_sup)"
   ]
  },
  {
   "cell_type": "code",
   "execution_count": 10,
   "metadata": {},
   "outputs": [
    {
     "output_type": "stream",
     "name": "stdout",
     "text": [
      "25.0 2.6 31000.0\nOK OK\n"
     ]
    }
   ],
   "source": [
    "fck = conc[\"fck\"]\n",
    "fctm = conc[\"fctm\"]\n",
    "Ecm = conc[\"Ecm\"]\n",
    "print (fck, fctm, Ecm)\n",
    "s1 = \"OK\" if Sig_sup <= 1000.0*fctm else \"KO\"\n",
    "s2 = \"OK\" if Sig_inf >= -600.0*fck else \"KO\"\n",
    "print (s1, s2)"
   ]
  },
  {
   "cell_type": "code",
   "execution_count": 11,
   "metadata": {},
   "outputs": [
    {
     "output_type": "stream",
     "name": "stdout",
     "text": [
      "1400.0 -13400.0\n"
     ]
    }
   ],
   "source": [
    "Sig_inf_inf = -P_inf/A+Ned_inf/A-P_inf*ep/Wi+Med_inf/Wi\n",
    "Sig_sup_inf = -P_inf/A+Ned_inf/A+P_inf*ep/Ws-Med_inf/Ws\n",
    "print (Sig_inf_inf, Sig_sup_inf)"
   ]
  },
  {
   "cell_type": "code",
   "execution_count": 12,
   "metadata": {},
   "outputs": [
    {
     "output_type": "stream",
     "name": "stdout",
     "text": [
      "35.0 3.2 34000.0\nOK OK\n"
     ]
    }
   ],
   "source": [
    "fck = conc_inf[\"fck\"]\n",
    "fctm = conc_inf[\"fctm\"]\n",
    "Ecm = conc_inf[\"Ecm\"]\n",
    "print (fck, fctm, Ecm)\n",
    "s1 = \"OK\" if Sig_inf_inf <= 1000.0*fctm else \"KO\"\n",
    "s2 = \"OK\" if Sig_sup_inf >= -600.0*fck else \"KO\"\n",
    "print (s1, s2)"
   ]
  },
  {
   "cell_type": "code",
   "execution_count": null,
   "metadata": {},
   "outputs": [],
   "source": []
  }
 ]
}