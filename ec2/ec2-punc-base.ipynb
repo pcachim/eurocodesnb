{
 "cells": [
  {
   "cell_type": "code",
   "execution_count": 2,
   "id": "available-audit",
   "metadata": {},
   "outputs": [],
   "source": [
    "import math\n",
    "import numpy as np"
   ]
  },
  {
   "cell_type": "code",
   "execution_count": 3,
   "id": "continent-spirituality",
   "metadata": {},
   "outputs": [],
   "source": [
    "c1_c2 = np.array([0.5, 1.0, 2.0, 3.0])\n",
    "kvals = np.array([0.45, 0.6, 0.7, 0.8])"
   ]
  },
  {
   "cell_type": "code",
   "execution_count": 4,
   "id": "deadly-india",
   "metadata": {},
   "outputs": [],
   "source": [
    "cy = 0.4\n",
    "cz = 0.3\n",
    "d = 0.35\n",
    "c1 = 0.45\n",
    "c2 = 0.5\n",
    "ey = 0.3\n",
    "ez = 0.1\n",
    "by = cy + 4*d\n",
    "bz = cz + 4*d"
   ]
  },
  {
   "cell_type": "code",
   "execution_count": 5,
   "id": "leading-secretariat",
   "metadata": {},
   "outputs": [
    {
     "output_type": "execute_result",
     "data": {
      "text/plain": [
       "(1.333015996581604, 0.57)"
      ]
     },
     "metadata": {},
     "execution_count": 5
    }
   ],
   "source": [
    "c1c2 = c1/c2\n",
    "k = np.interp(c1c2, c1_c2, kvals)\n",
    "beta = 1.0+1.8*math.sqrt((ey/bz)**2+(ez/by)**2)\n",
    "beta, k"
   ]
  },
  {
   "cell_type": "code",
   "execution_count": null,
   "id": "likely-geometry",
   "metadata": {},
   "outputs": [],
   "source": []
  }
 ],
 "metadata": {
  "kernelspec": {
   "display_name": "Python 3",
   "language": "python",
   "name": "python3"
  },
  "language_info": {
   "codemirror_mode": {
    "name": "ipython",
    "version": 3
   },
   "file_extension": ".py",
   "mimetype": "text/x-python",
   "name": "python",
   "nbconvert_exporter": "python",
   "pygments_lexer": "ipython3",
   "version": "3.8.3-final"
  }
 },
 "nbformat": 4,
 "nbformat_minor": 5
}