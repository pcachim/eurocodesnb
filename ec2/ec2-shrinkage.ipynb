{
 "cells": [
  {
   "cell_type": "markdown",
   "id": "bearing-distribution",
   "metadata": {},
   "source": [
    "# EC2 - shrinkage"
   ]
  },
  {
   "cell_type": "code",
   "execution_count": 1,
   "id": "sealed-acrobat",
   "metadata": {
    "hide_input": false
   },
   "outputs": [],
   "source": [
    "%matplotlib inline\n",
    "import math as m\n",
    "import pandas as pd\n",
    "import numpy as np\n",
    "import matplotlib\n",
    "import matplotlib.pyplot as plt\n",
    "import ipywidgets as widgets\n",
    "from ipywidgets import HBox, VBox\n",
    "from ipywidgets import interact"
   ]
  },
  {
   "cell_type": "markdown",
   "id": "disturbed-savings",
   "metadata": {},
   "source": [
    "Definition of widgets to operate input parameters"
   ]
  },
  {
   "cell_type": "code",
   "execution_count": 2,
   "id": "mighty-lease",
   "metadata": {},
   "outputs": [],
   "source": [
    "h0 = widgets.FloatSlider(value=200,min=100,max=1000,step=0.025,description='h0 (mm):',readout_format='.0f')\n",
    "t = widgets.FloatLogSlider(value=100000,min=0,max=6,step=0.025,description='t (d):',readout_format='.0f')\n",
    "ts = widgets.FloatSlider(value=3,min=1,max=10,step=1,description='ts (d):',readout_format='.0f')\n",
    "rh = widgets.FloatSlider(value=80,min=0,max=100,step=1,description='RH (%):',readout_format='.0f')\n",
    "fck = widgets.FloatSlider(value=20,min=20,max=50,step=5,description='fck (MPa):',readout_format='.0f')\n",
    "fck2 = widgets.Dropdown(\n",
    "    options=[('C20/25', 20.0), ('C25/30', 25.0), ('C30/37', 30.0), ('C35/45', 35.0), ('C40/50', 40.0), ('C45/55', 45.0), ('C50/60', 50.0)],\n",
    "    value=20,\n",
    "    description='Concrete:',\n",
    ")\n",
    "cem = widgets.Dropdown(\n",
    "    options=['Type R', 'Type N', 'Type S'],\n",
    "    value='Type N',\n",
    "    description='Cement:'\n",
    ")\n",
    "cemprops = {\n",
    "    'Type S': [3, 0.13],\n",
    "    'Type N': [4, 0.12],\n",
    "    'Type R': [6, 0.11],\n",
    "}"
   ]
  },
  {
   "cell_type": "markdown",
   "id": "under-insurance",
   "metadata": {},
   "source": [
    "Main function to calculate total shrinkage"
   ]
  },
  {
   "cell_type": "code",
   "execution_count": 3,
   "id": "connected-survivor",
   "metadata": {
    "hide_input": true
   },
   "outputs": [
    {
     "data": {
      "application/vnd.jupyter.widget-view+json": {
       "model_id": "559d1e65fdee4d5d9a833f85dae8ef09",
       "version_major": 2,
       "version_minor": 0
      },
      "text/plain": [
       "interactive(children=(FloatLogSlider(value=100000.0, description='t (d):', max=6.0, readout_format='.0f', step…"
      ]
     },
     "metadata": {},
     "output_type": "display_data"
    }
   ],
   "source": [
    "def shrink_strain(t=28, h0=100, ts=3, rh=65, fck=20.0, cem='Type N'):\n",
    "    fcm = fck+8\n",
    "    alpha1 = cemprops[cem][0]\n",
    "    alpha2 = cemprops[cem][1]\n",
    "\n",
    "    eps_ca = 25.0e-6*(fck-10)\n",
    "    beta_as = 1.0-m.exp(-0.2*(t**0.5))\n",
    "\n",
    "    beta_rh = 1.55*(1.0-(rh/100)**3)\n",
    "    eps_cd = beta_rh*0.85e-6*((220+110*alpha1)*m.exp(-alpha2*fcm/10.0))\n",
    "    beta_ds = (t-ts)/((t-ts)+0.4*h0**1.5)\n",
    "    \n",
    "    return beta_as*eps_ca + beta_ds*eps_cd\n",
    "    \n",
    "@interact(h0=h0, t=t, ts=ts, rh=rh, fck=fck, cem=cem)\n",
    "def shrinkstrain(t=28, h0=100, ts=3, rh=65, fck=20.0, cem=0.0):\n",
    "    shrink = shrink_strain(t=t, h0=h0, ts=ts, rh=rh, fck=fck, cem=cem)\n",
    "    #print(\"fhi={:.3f} betha_cc={:.3f} fhi_0={:.3f}\".format(phi, beta_cc, phi_0))\n",
    "    print(\"Shrinkage strain (x1000)={:.3f}\".format(shrink*1000))"
   ]
  },
  {
   "cell_type": "markdown",
   "id": "classical-session",
   "metadata": {},
   "source": [
    "Calculate total shrinkage given input parameters"
   ]
  },
  {
   "cell_type": "code",
   "execution_count": 6,
   "id": "pleased-paintball",
   "metadata": {},
   "outputs": [
    {
     "data": {
      "text/plain": [
       "0.0005510312691872728"
      ]
     },
     "execution_count": 6,
     "metadata": {},
     "output_type": "execute_result"
    }
   ],
   "source": [
    "_t = 100000\n",
    "_h0 = 150\n",
    "_rh = 80\n",
    "_ts = 3\n",
    "_fck = 20\n",
    "_cem = 'Type N'\n",
    "shrink_strain(_t,_h0,_ts,_rh,_fck,_cem)"
   ]
  },
  {
   "cell_type": "markdown",
   "id": "physical-marathon",
   "metadata": {},
   "source": [
    "Interactively change parameters to visualize changes in shrinkage"
   ]
  },
  {
   "cell_type": "code",
   "execution_count": 9,
   "id": "senior-audio",
   "metadata": {},
   "outputs": [
    {
     "data": {
      "application/vnd.jupyter.widget-view+json": {
       "model_id": "c7c65222ea7c4af28be891b970e2aee2",
       "version_major": 2,
       "version_minor": 0
      },
      "text/plain": [
       "interactive(children=(FloatSlider(value=310.1, description='h0 (mm):', max=1000.0, min=100.0, readout_format='…"
      ]
     },
     "metadata": {},
     "output_type": "display_data"
    }
   ],
   "source": [
    "tt = np.logspace(1.2, 6)\n",
    "vfunc = np.vectorize(shrink_strain)\n",
    "@interact(h0=h0, rh=rh, fck=fck, cem=cem)\n",
    "def shrinkstrain(h0=100, rh=65,  fck=20.0, cem='Type N'):\n",
    "    shrink = vfunc(tt, h0, 1.0, rh, fck, cem)*1000.0\n",
    "    tsh = shrink_strain(t=1000000.0, h0=h0, ts=1.0, rh=rh, fck=fck, cem=cem)*1000.0\n",
    "    print(\"Total shrinkage strain (x1000) = {:.3f}\".format(tsh))\n",
    "    plt.xscale(\"log\") # plt.xscale(\"linear\")\n",
    "    plt.xlabel(\"Time (days)\")\n",
    "    plt.ylabel(\"Total shrinkage\")\n",
    "    plt.plot(tt, shrink)"
   ]
  },
  {
   "cell_type": "code",
   "execution_count": null,
   "id": "announced-charlotte",
   "metadata": {},
   "outputs": [],
   "source": []
  },
  {
   "cell_type": "code",
   "execution_count": null,
   "id": "communist-south",
   "metadata": {},
   "outputs": [],
   "source": []
  }
 ],
 "metadata": {
  "kernelspec": {
   "display_name": "Python 3",
   "language": "python",
   "name": "python3"
  },
  "language_info": {
   "codemirror_mode": {
    "name": "ipython",
    "version": 3
   },
   "file_extension": ".py",
   "mimetype": "text/x-python",
   "name": "python",
   "nbconvert_exporter": "python",
   "pygments_lexer": "ipython3",
   "version": "3.9.2"
  },
  "latex_envs": {
   "LaTeX_envs_menu_present": true,
   "autoclose": false,
   "autocomplete": true,
   "bibliofile": "biblio.bib",
   "cite_by": "apalike",
   "current_citInitial": 1,
   "eqLabelWithNumbers": true,
   "eqNumInitial": 1,
   "hotkeys": {
    "equation": "Ctrl-E",
    "itemize": "Ctrl-I"
   },
   "labels_anchors": false,
   "latex_user_defs": false,
   "report_style_numbering": false,
   "user_envs_cfg": false
  },
  "toc-showcode": true,
  "toc-showmarkdowntxt": true
 },
 "nbformat": 4,
 "nbformat_minor": 5
}
