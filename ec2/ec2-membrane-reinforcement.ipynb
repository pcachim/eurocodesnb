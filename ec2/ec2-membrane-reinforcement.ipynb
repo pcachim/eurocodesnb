{
    "cells": [
        {
            "cell_type": "markdown",
            "metadata": {},
            "source": [
                "# Reinforcement in membrane elements\n",
                "\n",
                "The tension reinforcement in an element subject to in-plane orthogonal stresses σEdx, σEdy \n",
                "and τEdxy may be calculated using the procedure set out below. Compressive stresses should be \n",
                "taken as positive, with σEdx > σEdy, and the direction of reinforcement should coincide with \n",
                "the x and y axes.\n",
                "\n",
                "The tensile strengths provided by reinforcement should be determined from:\n",
                "$$f_{tdx}=\\rho_xf_{yd}$$\n",
                "$$f_{tdy}=\\rho_yf_{yd}$$\n",
                "\n",
                "where $\\rho_x$ and $\\rho_y$ are the geometric reinforcement ratios, along the x and y axes respectively.\n",
                "\n",
                "In locations where σEdx and σEdy are both compressive and σEdx ⋅ σEdy > τ2Edxy, design reinforcement is not required. However the maximum compressive stress should not exceed fcd\n",
                "\n",
                "In locations where σEdy is tensile or σEdx ⋅ σEdy ≤ τ2Edxy, reinforcement is required.\n",
                "\n",
                "The optimum reinforcement, indicated by superscript ′, and related concrete stress are\n",
                "determined by:\n",
                "\n",
                "For σEdx ≤ |τEdxy|\n",
                "\n",
                "For σEdx > |τEdxy|\n",
                "    f′=0\n",
                "\n",
                "The concrete stress, σcd, should be checked with a realistic model of cracked sections, but should not generally exceed νfcd (ν may be obtained from Expression (6.5)). The minimum reinforcement is obtained if the directions of reinforcement are identical to the directions of the principal stresses."
            ]
        },
        {
            "cell_type": "markdown",
            "metadata": {},
            "source": [
                "The code for a function to calcuulate the reinforcement can be found below:"
            ]
        },
        {
            "cell_type": "code",
            "execution_count": null,
            "metadata": {},
            "outputs": [],
            "source": [
                "\n",
                "def plane_reinforcement(sig_edx: float, sig_edy: float, tau_edxy:float):\n",
                "    \"\"\"Calculates reinforcement forces in membrane elements (tensile stresses are positive)\n",
                "\n",
                "    Args:\n",
                "        sig_edx (float): stress in x direction \n",
                "        sig_edy (float): stress in y direction \n",
                "        tau_edxy (float): shear stress\n",
                "\n",
                "    Returns:\n",
                "        (float, float, float): reinforcement force in direction x, reinforcementforce in direction y, compressive stress (positive)\n",
                "    \"\"\"\n",
                "    sig_edx = -sig_edx\n",
                "    sig_edy = -sig_edy\n",
                "    sigx = sig_edx if sig_edx > sig_edy else sig_edy\n",
                "    sigy = sig_edy if sig_edx > sig_edy else sig_edx\n",
                "    tauxy = abs(tau_edxy)\n",
                "    tau2 = tauxy*tauxy\n",
                "\n",
                "    if sigx >= 0 and sigy >= 0 and sigx*sigy > tau2:\n",
                "        ftdx = 0.0\n",
                "        ftdy = 0.0\n",
                "        sigc = 0.5*(sigx+sigy) + sqrt(tau2+(sigx-sigy)**2/4)\n",
                "    elif sigx <= tauxy:\n",
                "        ftdx = tauxy - sigx\n",
                "        ftdy = tauxy - sigy\n",
                "        sigc = 2.0*tauxy\n",
                "    else:\n",
                "        ftdx = 0.0\n",
                "        ftdy = tau2/sigx - sigy\n",
                "        sigc = abs(sigx*(1 + tau2/sigx/sigx))\n",
                "\n",
                "    if sig_edx*sigx < 0:\n",
                "        aux = ftdx\n",
                "        ftdx = ftdy\n",
                "        ftdy = aux\n",
                "        \n",
                "    return ftdx, ftdy, sigc"
            ]
        },
        {
            "cell_type": "markdown",
            "metadata": {},
            "source": [
                "Below is an example of use of the defined function. Change the values of sig_edx, sig_edy and tau_edxy and run the cell."
            ]
        },
        {
            "cell_type": "code",
            "execution_count": null,
            "metadata": {},
            "outputs": [],
            "source": [
                "sig_edx = 0.0\n",
                "sig_edy = 100.0\n",
                "tau_edxy = 100.0\n",
                "\n",
                "ftdx, ftdy, sigc = plane_reinforcement(sig_edx, sig_edy, tau_edxy)\n",
                "print (f\"{ftdx=}, {ftdy=}, {sigc=}\")"
            ]
        }
    ],
    "metadata": {
        "kernelspec": {
            "display_name": "Python 3.9.6 ('.venv': venv)",
            "language": "python",
            "name": "python3"
        },
        "language_info": {
            "codemirror_mode": {
                "name": "ipython",
                "version": 3
            },
            "file_extension": ".py",
            "mimetype": "text/x-python",
            "name": "python",
            "nbconvert_exporter": "python",
            "pygments_lexer": "ipython3",
            "version": "3.9.6"
        },
        "orig_nbformat": 4,
        "vscode": {
            "interpreter": {
                "hash": "ec3d74e7fe57df24ca182b61814d656dffcff87639f6eff81248b43b4a45a73b"
            }
        }
    },
    "nbformat": 4,
    "nbformat_minor": 2
}
