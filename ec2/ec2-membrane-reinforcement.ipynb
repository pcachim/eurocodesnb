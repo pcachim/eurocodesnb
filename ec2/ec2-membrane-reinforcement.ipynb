{
    "cells": [
        {
            "cell_type": "markdown",
            "source": [
                "# Reinforcement in membrane elements\n",
                "\n",
                "The tension reinforcement in an element subject to in-plane orthogonal stresses σEdx, σEdy \n",
                "and τEdxy may be calculated using the procedure set out below. Compressive stresses should be \n",
                "taken as positive, with σEdx > σEdy, and the direction of reinforcement should coincide with \n",
                "the x and y axes.\n",
                "\n",
                "The tensile strengths provided by reinforcement should be determined from:\n",
                "\n",
                "ftdx = ρx fyd\n",
                "\n",
                "ftdy = ρy fyd\n",
                "\n",
                "where ρx and ρy are the geometric reinforcement ratios, along the x and y axes respectively.\n",
                "\n",
                "In locations where σEdx and σEdy are both compressive and σEdx ⋅ σEdy > τ2Edxy, design reinforcement is not required. However the maximum compressive stress should not exceed fcd\n",
                "\n",
                "In locations where σEdy is tensile or σEdx ⋅ σEdy ≤ τ2Edxy, reinforcement is required.\n",
                "\n",
                "The optimum reinforcement, indicated by superscript ′, and related concrete stress are\n",
                "determined by:\n",
                "\n",
                "For σEdx ≤ |τEdxy|\n",
                "\n",
                "For σEdx > |τEdxy|\n",
                "    f′=0\n",
                "\n",
                "The concrete stress, σcd, should be checked with a realistic model of cracked sections, but should not generally exceed νfcd (ν may be obtained from Expression (6.5)). The minimum reinforcement is obtained if the directions of reinforcement are identical to the directions of the principal stresses."
            ],
            "metadata": {}
        },
        {
            "cell_type": "code",
            "execution_count": 1,
            "source": [
                "from math import *\n",
                "\n",
                "def plane_reinforcement(sig_edx: float, sig_edy: float, tau_edxy:float):\n",
                "    \"\"\"Calculates reinforcement forces in membrane elements (tensile stresses are positive)\n",
                "\n",
                "    Args:\n",
                "        sig_edx (float): stress in x direction \n",
                "        sig_edy (float): stress in y direction \n",
                "        tau_edxy (float): shear stress\n",
                "\n",
                "    Returns:\n",
                "        (float, float, float): reinforcement force in direction x, reinforcementforce in direction y, compressive stress (positive)\n",
                "    \"\"\"\n",
                "    sig_edx = -sig_edx\n",
                "    sig_edy = -sig_edy\n",
                "    sigx = sig_edx if sig_edx > sig_edy else sig_edy\n",
                "    sigy = sig_edy if sig_edx > sig_edy else sig_edx\n",
                "    tauxy = abs(tau_edxy)\n",
                "    tau2 = tauxy*tauxy\n",
                "\n",
                "    if sigx >= 0 and sigy >= 0 and sigx*sigy > tau2:\n",
                "        ftdx = 0.0\n",
                "        ftdy = 0.0\n",
                "        sigc = 0.5*(sigx+sigy) + sqrt(tau2+(sigx-sigy)**2/4)\n",
                "    elif sigx <= tauxy:\n",
                "        ftdx = tauxy - sigx\n",
                "        ftdy = tauxy - sigy\n",
                "        sigc = 2.0*tauxy\n",
                "    else:\n",
                "        ftdx = 0.0\n",
                "        ftdy = tau2/sigx - sigy\n",
                "        sigc = abs(sigx*(1 + tau2/sigx/sigx))\n",
                "\n",
                "    if sig_edx*sigx < 0:\n",
                "        aux = ftdx\n",
                "        ftdx = ftdy\n",
                "        ftdy = aux\n",
                "        \n",
                "    return ftdx, ftdy, sigc\n"
            ],
            "outputs": [],
            "metadata": {}
        },
        {
            "cell_type": "code",
            "execution_count": 2,
            "source": [
                "\n",
                "sig_edx = 0.0\n",
                "sig_edy = 100.0\n",
                "tau_edxy = 100.0\n",
                "\n",
                "ftdx, ftdy, sigc = plane_reinforcement(sig_edx, sig_edy, tau_edxy)\n",
                "print (f\"{ftdx=}, {ftdy=}, {sigc=}\")"
            ],
            "outputs": [
                {
                    "output_type": "stream",
                    "name": "stdout",
                    "text": [
                        "ftdx=0.0, ftdy=100.0, sigc=200.0\n"
                    ]
                }
            ],
            "metadata": {}
        }
    ],
    "metadata": {
        "orig_nbformat": 4,
        "language_info": {
            "name": "python",
            "version": "3.9.2",
            "mimetype": "text/x-python",
            "codemirror_mode": {
                "name": "ipython",
                "version": 3
            },
            "pygments_lexer": "ipython3",
            "nbconvert_exporter": "python",
            "file_extension": ".py"
        },
        "kernelspec": {
            "name": "python3",
            "display_name": "Python 3.9.2 64-bit"
        },
        "interpreter": {
            "hash": "7812ea015bdcee6f23a998adcdd2ef97c151c0c241b7b7070987d9313e41299d"
        }
    },
    "nbformat": 4,
    "nbformat_minor": 2
}