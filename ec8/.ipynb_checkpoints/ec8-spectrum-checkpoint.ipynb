{
 "cells": [
  {
   "cell_type": "code",
   "execution_count": 5,
   "metadata": {},
   "outputs": [],
   "source": [
    "%matplotlib inline\n",
    "import math\n",
    "import numpy as np\n",
    "import pandas as pd\n",
    "import matplotlib.pyplot as plt\n",
    "import eurocodepy as ec\n"
   ]
  },
  {
   "cell_type": "code",
   "execution_count": 6,
   "metadata": {},
   "outputs": [
    {
     "data": {
      "image/png": "[encoded data removed]",
      "text/plain": [
       "<Figure size 640x480 with 1 Axes>"
      ]
     },
     "metadata": {},
     "output_type": "display_data"
    }
   ],
   "source": [
    "code = 'CEN-2'\n",
    "coef_imp = 'iii'\n",
    "soil = 'C'\n",
    "zone = '.4g'\n",
    "behaviour = 2.0\n",
    "txt = code + '_' + coef_imp + '_' + soil + '_' + zone\n",
    "\n",
    "S, a_g, TB, TC, TD = ec.ec8.get_spectrum_parameters(code, coef_imp, soil, zone)\n",
    "S = 1.5\n",
    "a_g = 3.2\n",
    "\n",
    "ec.ec8.draw_spectrum_ec8(ec.ec8.spectrum_user(a_g, S, behaviour, TB, TC, TD, 0.2))"
   ]
  },
  {
   "cell_type": "code",
   "execution_count": 8,
   "metadata": {},
   "outputs": [
    {
     "data": {
      "application/vnd.jupyter.widget-view+json": {
       "model_id": "58eed1bdbe914fa58d6c77a2bb5f76af",
       "version_major": 2,
       "version_minor": 0
      },
      "text/plain": [
       "Tab(children=(VBox(children=(Dropdown(description='Spectrum:', options=(('Portugal Type 1', 'PT-1'), ('Portuga…"
      ]
     },
     "execution_count": 8,
     "metadata": {},
     "output_type": "execute_result"
    }
   ],
   "source": [
    "import ipywidgets as widgets\n",
    "from ipywidgets import HBox, VBox\n",
    "from ipywidgets import interact, interact_manual\n",
    "\n",
    "behaviour = widgets.FloatSlider(\n",
    "    value=2.0,min=1.5,max=5.0,step=0.1,description='behaviour factor:',readout_format='.1f'\n",
    ")\n",
    "code = widgets.Dropdown(\n",
    "    options=[(\n",
    "        'Portugal Type 1', 'PT-1'), ('Portugal Type 2 (continent)', 'PT-2'), ('Portugal Type 2 (Azores)', \n",
    "        'PT-A'), ('CEN standard Type 1', 'CEN-1'), ('CEN standard Type 2', 'CEN-2')],\n",
    "    value='PT-1',\n",
    "    description='Spectrum:',\n",
    ")\n",
    "soil = widgets.Dropdown(\n",
    "    options=[('Type A', 'A'), ('Type B', 'B'), ('Type C', 'C'), ('Type D', 'D'), ('Type E', 'E')],\n",
    "    value='A',\n",
    "    description='Soil:',\n",
    ")\n",
    "imp_coef = widgets.Dropdown(\n",
    "    options=[('Class I (CC1)', 'i'), ('Class II (CC2)', 'ii'), ('Class III (CC3)', 'iii'), ('Class IV (CC4)', 'iv')],\n",
    "    value='ii',\n",
    "    description='Importance:',\n",
    ")\n",
    "zone = widgets.Dropdown(\n",
    "    options=[('Space \" \"', ' '), ('Comma \",\"', ','), ('Semicolon \";\"', ';')],\n",
    "    value=' ',\n",
    "    description='Zone:',\n",
    ")\n",
    "zone = widgets.Dropdown(\n",
    "    options=['1.1', '1,2', '1.3', '1.4', '1.5', '1.6'],\n",
    "    value='1.1',\n",
    "    description='Zone:',\n",
    ")\n",
    "separator = widgets.Dropdown(\n",
    "    options=[('Space \" \"', ' '), ('Comma \",\"', ','), ('Semicolon \";\"', ';')],\n",
    "    value=' ',\n",
    "    description='Separator:',\n",
    ")\n",
    "button_write = widgets.Button(\n",
    "    description='Write spectrum',\n",
    "    disabled=False,\n",
    "    button_style='', # 'success', 'info', 'warning', 'danger' or ''\n",
    "    tooltip='Writes a spectrum .txt file for SAP2000',\n",
    "    icon='check' # (FontAwesome names without the `fa-` prefix)\n",
    ")\n",
    "button_draw = widgets.Button(\n",
    "    description='Draw spectrum',\n",
    "    disabled=False,\n",
    "    button_style='', # 'success', 'info', 'warning', 'danger' or ''\n",
    "    tooltip='Draw the spectrum',\n",
    "    icon='check' # (FontAwesome names without the `fa-` prefix)\n",
    ")\n",
    "\n",
    "\n",
    "def handle_slider_change(change):\n",
    "    if code.value == 'PT-2':  \n",
    "        zone.options = ['2.1', '2.2', '2.3', '2.4', '2.5']\n",
    "    elif code.value == 'PT-A':\n",
    "        zone.options = ['2.1', '2.2', '2.3', '2.4', '2.5']\n",
    "    elif code.value == 'PT-1':\n",
    "        zone.options = ['1.1', '1.2', '1.3', '1.4', '1.5', '1.6']\n",
    "    else:\n",
    "        zone.options = ['.1g', '.2g', '.3g', '.4g', '.5g', '.6g', '.7g', '.8g', '.9g', '1.0g']\n",
    "\n",
    "code.observe(handle_slider_change, names='value')\n",
    "\n",
    "\n",
    "def on_write_clicked(b):\n",
    "    spec = ec.ec8.spectrum_ec8(code.value, imp_coef.value, soil.value, zone.value, behaviour.value)\n",
    "    ec.ec8.write_spectrum_ec8(spec, separator.value)\n",
    "\n",
    "\n",
    "def on_draw_clicked(b):\n",
    "    spec = ec.ec8.spectrum_ec8(code.value, imp_coef.value, soil.value, zone.value, behaviour.value)\n",
    "    ec.ec8.draw_spectrum_ec8(spec)\n",
    "\n",
    "\n",
    "button_draw.on_click(on_draw_clicked)\n",
    "button_write.on_click(on_write_clicked)\n",
    "\n",
    "tab1 = VBox([code, soil, imp_coef, zone, behaviour])\n",
    "tab2 = VBox([HBox([button_write, separator]), button_draw])\n",
    "tab = widgets.Tab()\n",
    "tab.children = [tab1, tab2]\n",
    "tab.set_title(0, 'Data')\n",
    "tab.set_title(1, 'Operations')\n",
    "tab\n",
    "#display(VBox([code, soil, imp_coef, zone, separator, button_write, button_draw]))"
   ]
  },
  {
   "cell_type": "code",
   "execution_count": null,
   "metadata": {},
   "outputs": [],
   "source": []
  }
 ],
 "metadata": {
  "kernelspec": {
   "display_name": "Python 3 (ipykernel)",
   "language": "python",
   "name": "python3"
  },
  "language_info": {
   "codemirror_mode": {
    "name": "ipython",
    "version": 3
   },
   "file_extension": ".py",
   "mimetype": "text/x-python",
   "name": "python",
   "nbconvert_exporter": "python",
   "pygments_lexer": "ipython3",
   "version": "3.8.15"
  },
  "vscode": {
   "interpreter": {
    "hash": "ec3d74e7fe57df24ca182b61814d656dffcff87639f6eff81248b43b4a45a73b"
   }
  }
 },
 "nbformat": 4,
 "nbformat_minor": 4
}
