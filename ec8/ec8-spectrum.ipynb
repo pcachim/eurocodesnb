{
 "cells": [
  {
   "cell_type": "code",
   "execution_count": 5,
   "metadata": {},
   "outputs": [],
   "source": [
    "import math\n",
    "import numpy as np\n",
    "import pandas as pd"
   ]
  },
  {
   "cell_type": "code",
   "execution_count": 6,
   "metadata": {},
   "outputs": [],
   "source": [
    "def get_spectrum_parameters(code: str, coef_imp: str, soil: str, zone: str) -> tuple:\n",
    "    \n",
    "    # accelarations\n",
    "    a_gR = {'1.1': 2.5, '1.2': 2.0, '1.3': 1.5, '1.4': 1.0, '1.5': 0.6, '1.6': 0.35, \n",
    "            '2.1': 2.5, '2.2': 2.0, '2.3': 1.7, '2.4': 1.1, '2.5': 0.8,\n",
    "            '0': 9.8065}\n",
    "    \n",
    "    index1 = ['i', 'ii', 'iii', 'iv']\n",
    "    gama_f = {'CEN-1': [0.8, 1.0, 1.2, 1.4], \n",
    "            'CEN-2': [0.8, 1.0, 1.2, 1.4], \n",
    "            'PT-1': [0.65, 1.0, 1.45, 1.95], \n",
    "            'PT-2': [0.75, 1.0, 1.25, 1.5], \n",
    "            'PT-A': [0.85, 1.0, 1.15, 1.35]}\n",
    "    coefs = pd.DataFrame(gama_f, index=index1)\n",
    "    \n",
    "    coef_imp = str.lower(coef_imp)\n",
    "    a_g = a_gR[zone] * coefs.at[coef_imp, code]\n",
    "    \n",
    "    soil = str.upper(soil)\n",
    "    index = ['A', 'B', 'C', 'D', 'E']\n",
    "    if code == 'CEN-1':\n",
    "        data = {'S_max': [1.0 , 1.35, 1.60, 2.0, 1.8],\n",
    "                'T_B': [0.1, 0.1, 0.1, 0.1, 0.1],\n",
    "                'T_C': [0.25, 0.25, 0.25, 0.3, 0.25],\n",
    "                'T_D': [2.0, 2.0, 2.0, 2.0, 2.0],\n",
    "                }\n",
    "    elif code == 'PT-1':\n",
    "        data = {'S_max': [1.0 , 1.35, 1.60, 2.0, 1.8],\n",
    "                'T_B': [0.1, 0.1, 0.1, 0.1, 0.1],\n",
    "                'T_C': [0.25, 0.25, 0.25, 0.3, 0.25],\n",
    "                'T_D': [2.0, 2.0, 2.0, 2.0, 2.0],\n",
    "                }\n",
    "    elif code == 'PT-2' or code == 'PT-A':\n",
    "        data = {'S_max': [1.0 , 1.35, 1.60, 2.0, 1.8],\n",
    "                'T_B': [0.1, 0.1, 0.1, 0.1, 0.1],\n",
    "                'T_C': [0.6, 0.6, 0.6, 0.8, 0.6],\n",
    "                'T_D': [2.0, 2.0, 2.0, 2.0, 2.0],\n",
    "                }\n",
    "    values = pd.DataFrame(data, index=index)\n",
    "    \n",
    "    Smax = values.at[soil, 'S_max']\n",
    "\n",
    "    if a_g <= 1.0:\n",
    "        S = Smax \n",
    "    elif a_g >= 4.0:\n",
    "        S = 1.0\n",
    "    else:\n",
    "        S = Smax-(Smax-1.0)*(a_g-1.0)/3.0\n",
    "\n",
    "    TB = values.at[soil, 'T_B']\n",
    "    TC = values.at[soil, 'T_C']\n",
    "    TD = values.at[soil,'T_D']\n",
    "\n",
    "    return data, S, a_g, TB, TC, TD\n",
    "\n",
    "\n",
    "def get_spectrum(T: float, a_g: float, S: float, q: float, TB: float, TC: float, TD: float, beta: float=0.2) -> float:\n",
    "    ag_S = a_g * S\n",
    "    \n",
    "    if T < TB:\n",
    "        spec = ag_S * (2.0/3.0 + T / TB * (2.5 / q - 2.0/3.0))\n",
    "    elif T < TC:\n",
    "        spec = ag_S * 2.5 / q\n",
    "    elif T < TD:\n",
    "        spec = max(ag_S * 2.5 / q * (TC)/T, beta * a_g)\n",
    "    else:\n",
    "        spec = max(ag_S * 2.5 / q * (TC*TD)/T**2, beta * a_g)\n",
    "    \n",
    "    return spec"
   ]
  },
  {
   "cell_type": "code",
   "execution_count": 7,
   "metadata": {},
   "outputs": [],
   "source": [
    "code = 'PT-1'\n",
    "coef_imp = 'ii'\n",
    "soil = 'C'\n",
    "zone = '1.1'\n",
    "txt = code + '_' + coef_imp + '_' + soil + '_' + zone\n",
    "\n",
    "data, S, a_g, TB, TC, TD = get_spectrum_parameters(code, coef_imp, soil, zone)\n",
    "\n",
    "periods = np.linspace(0.000001, TB, 15)\n",
    "periods = np.append(periods, np.linspace(TB, TC, 10))\n",
    "periods = np.append(periods, np.linspace(TC, TD, 10))\n",
    "periods = np.append(periods, np.linspace(TD, 10, 20))\n",
    "\n",
    "value = [get_spectrum(T, a_g, S, 2.0, TB, TC, TD, 0.2) for T in periods]\n",
    "data = {'period': periods,\n",
    "        'value': value}\n",
    "spectrum = pd.DataFrame(data)\n",
    "\n",
    "spectrum.to_csv('spectrum_' + txt + '.txt', index=False)"
   ]
  },
  {
   "cell_type": "code",
   "execution_count": null,
   "metadata": {},
   "outputs": [],
   "source": []
  }
 ],
 "metadata": {
  "kernelspec": {
   "display_name": ".venv",
   "language": "python",
   "name": "python3"
  },
  "language_info": {
   "codemirror_mode": {
    "name": "ipython",
    "version": 3
   },
   "file_extension": ".py",
   "mimetype": "text/x-python",
   "name": "python",
   "nbconvert_exporter": "python",
   "pygments_lexer": "ipython3",
   "version": "3.9.6"
  },
  "orig_nbformat": 4,
  "vscode": {
   "interpreter": {
    "hash": "ec3d74e7fe57df24ca182b61814d656dffcff87639f6eff81248b43b4a45a73b"
   }
  }
 },
 "nbformat": 4,
 "nbformat_minor": 2
}
