{
 "cells": [
  {
   "cell_type": "code",
   "execution_count": 5,
   "id": "59ce7df0-3988-4200-b6de-a36dc5577415",
   "metadata": {},
   "outputs": [
    {
     "data": {
      "text/plain": [
       "14.151442307692308"
      ]
     },
     "execution_count": 5,
     "metadata": {},
     "output_type": "execute_result"
    }
   ],
   "source": [
    "med = 39\n",
    "L = 7.25\n",
    "ped = 10.5\n",
    "k = ped*L*L/med\n",
    "k"
   ]
  },
  {
   "cell_type": "code",
   "execution_count": 6,
   "id": "71bf0657-e424-4bc4-8c3b-5110a58efa87",
   "metadata": {},
   "outputs": [
    {
     "data": {
      "text/plain": [
       "45.9921875"
      ]
     },
     "execution_count": 6,
     "metadata": {},
     "output_type": "execute_result"
    }
   ],
   "source": [
    "ped*L*L/12"
   ]
  },
  {
   "cell_type": "code",
   "execution_count": null,
   "id": "33390db9-4640-4743-8856-dbeb7889d823",
   "metadata": {},
   "outputs": [],
   "source": []
  }
 ],
 "metadata": {
  "kernelspec": {
   "display_name": "Python 3 (ipykernel)",
   "language": "python",
   "name": "python3"
  },
  "language_info": {
   "codemirror_mode": {
    "name": "ipython",
    "version": 3
   },
   "file_extension": ".py",
   "mimetype": "text/x-python",
   "name": "python",
   "nbconvert_exporter": "python",
   "pygments_lexer": "ipython3",
   "version": "3.8.15"
  }
 },
 "nbformat": 4,
 "nbformat_minor": 5
}
