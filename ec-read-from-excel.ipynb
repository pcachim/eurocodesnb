{
    "cells": [
        {
            "cell_type": "code",
            "execution_count": 41,
            "source": [
                "import pandas as pd\n",
                "\n",
                "filename = 'teste.xlsx'\n",
                "xl = pd.read_excel(filename, sheet_name=None)\n",
                "xlnames = list(xl.keys())\n",
                "xlnames"
            ],
            "outputs": [
                {
                    "output_type": "execute_result",
                    "data": {
                        "text/plain": [
                            "['Folha1', 'Folha2']"
                        ]
                    },
                    "metadata": {},
                    "execution_count": 41
                }
            ],
            "metadata": {}
        },
        {
            "cell_type": "code",
            "execution_count": 42,
            "source": [
                "xls = xl[xlnames[0]]\n",
                "number_of_rows = len(xls.index)\n",
                "for ind in xls.index:\n",
                "     print(xls['fx'][ind], xls['fy'][ind], xls['fxy'][ind])"
            ],
            "outputs": [
                {
                    "output_type": "stream",
                    "name": "stdout",
                    "text": [
                        "100 100 0\n",
                        "0 0 100\n"
                    ]
                }
            ],
            "metadata": {}
        }
    ],
    "metadata": {
        "orig_nbformat": 4,
        "language_info": {
            "name": "python",
            "version": "3.9.6",
            "mimetype": "text/x-python",
            "codemirror_mode": {
                "name": "ipython",
                "version": 3
            },
            "pygments_lexer": "ipython3",
            "nbconvert_exporter": "python",
            "file_extension": ".py"
        },
        "kernelspec": {
            "name": "python3",
            "display_name": "Python 3.9.6 64-bit ('.venv': venv)"
        },
        "interpreter": {
            "hash": "e202365868dfff1ecbe7d521172752c183c0ceaf11d60fa146e1e57760396293"
        }
    },
    "nbformat": 4,
    "nbformat_minor": 2
}