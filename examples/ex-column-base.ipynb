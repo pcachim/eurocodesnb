{
 "cells": [
  {
   "cell_type": "markdown",
   "metadata": {},
   "source": [
    "### A. Análise de estruturas contraventadas\n",
    "#### A.1. Efeitos de segunda ordem desprezáveis\n",
    "##### A.1.1. Efeitos locais\n",
    "##### A.1.2. Elementos de contraventamento\n",
    "#### A.2. Efeitos de segunda ordem não desprezáveis\n",
    "##### A.2.1. Efeitos locais\n",
    "##### A.2.2. Elementos de contraventamento\n",
    "### B. Análise de estruturas não contraventadas\n",
    "#### B.1. Majoração das ações horizontais\n",
    "##### B.2.1. Efeitos locais\n",
    "##### B.2.2. Elementos de contraventamento\n",
    "### C. Análise não linear geométrica\n",
    "#### C.2.1. Efeitos locais\n",
    "#### C.2.2. Elementos de contraventamento\n"
   ]
  }
 ],
 "metadata": {
  "language_info": {
   "name": "python"
  },
  "orig_nbformat": 4
 },
 "nbformat": 4,
 "nbformat_minor": 2
}
