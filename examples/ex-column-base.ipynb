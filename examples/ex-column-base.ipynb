{
 "cells": [
  {
   "attachments": {},
   "cell_type": "markdown",
   "metadata": {},
   "source": [
    "### A. Análise de estruturas contraventadas\n",
    "#### A.1. Efeitos de segunda ordem desprezáveis\n",
    "##### A.1.1. Efeitos locais\n",
    "##### A.1.2. Elementos de contraventamento\n",
    "#### A.2. Efeitos de segunda ordem não desprezáveis\n",
    "##### A.2.1. Efeitos locais\n",
    "##### A.2.2. Elementos de contraventamento\n",
    "### B. Análise de estruturas não contraventadas\n",
    "#### B.1. Majoração das ações horizontais\n",
    "##### B.2.1. Efeitos locais\n",
    "##### B.2.2. Elementos de contraventamento\n",
    "### C. Análise não linear geométrica\n",
    "##### C.2.1. Efeitos locais\n",
    "##### C.2.2. Elementos de contraventamento\n"
   ]
  }
 ],
 "metadata": {
  "kernelspec": {
   "display_name": ".venv",
   "language": "python",
   "name": "python3"
  },
  "language_info": {
   "name": "python",
   "version": "3.9.6 (v3.9.6:db3ff76da1, Jun 28 2021, 11:49:53) \n[Clang 6.0 (clang-600.0.57)]"
  },
  "orig_nbformat": 4,
  "vscode": {
   "interpreter": {
    "hash": "ec3d74e7fe57df24ca182b61814d656dffcff87639f6eff81248b43b4a45a73b"
   }
  }
 },
 "nbformat": 4,
 "nbformat_minor": 2
}
