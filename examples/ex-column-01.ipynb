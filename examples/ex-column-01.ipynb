{
 "cells": [
  {
   "cell_type": "markdown",
   "metadata": {},
   "source": [
    "## Exemplo\n",
    "\n",
    "Pilar em consola com 3 metros de altura e secção de 0,4x0,3. C25/30, A400.\n",
    "Ações. Ng = 550 kN; Nq = 250 kN, Hq = 20 kN.\n",
    "Esforços de primeira ordem: "
   ]
  },
  {
   "cell_type": "code",
   "execution_count": 6,
   "metadata": {},
   "outputs": [
    {
     "data": {
      "text/plain": [
       "(1117.5, 90.0, 0.0008999999999999999)"
      ]
     },
     "execution_count": 6,
     "metadata": {},
     "output_type": "execute_result"
    }
   ],
   "source": [
    "from math import *\n",
    "pi2 =pi**2\n",
    "# Materiais\n",
    "fcd = 16700\n",
    "fyd = 348000\n",
    "Ec = 30000000\n",
    "# Geometria\n",
    "b = 0.4\n",
    "h = 0.3\n",
    "Ac = b*h\n",
    "Ic = b*h**3/12\n",
    "ic = sqrt(Ic/Ac)\n",
    "L = 3\n",
    "L0 = 1.278*L\n",
    "# Esforços\n",
    "Ng = 550\n",
    "Nq = 250\n",
    "Hq = 20\n",
    "L = 3\n",
    "Mq = 20*3\n",
    "\n",
    "Ned0 = 1.35*Ng + 1.5*Nq\n",
    "Med0 = 1.5*Mq\n",
    "Ned0, Med0, Ic"
   ]
  },
  {
   "cell_type": "markdown",
   "metadata": {},
   "source": [
    "### SAP2000\n",
    "\n",
    "Utilizando o SAP2000, foi realizada uma análise P-delta com 1.35G+1.5Q. Estes valores serviram para o cálculo dos efeitos de G e Q. O valor do momento de cálculo foi Med1= 133.9 kNm. Isto corresponde a uma majoração de 133.9/90.0 = 1.49."
   ]
  },
  {
   "cell_type": "markdown",
   "metadata": {},
   "source": [
    "### Carga crítica\n",
    "\n",
    "A carga crítica no pilar é dada por $P_{cr}=\\frac{\\pi^2EI}{L_0^2}$.\n",
    "\n",
    "Os esforços majorados são dados por $M_{Ed}=M_{Ed0}\\left(1.0 + \\frac{\\beta_c}{P_{cr}/N_{Ed0}-1} \\right)$, com $\\beta_c=1$"
   ]
  },
  {
   "cell_type": "code",
   "execution_count": 7,
   "metadata": {},
   "outputs": [
    {
     "data": {
      "text/plain": [
       "(18128.392369770394, 7251.356947908158, 0.15410908717193572)"
      ]
     },
     "execution_count": 7,
     "metadata": {},
     "output_type": "execute_result"
    }
   ],
   "source": [
    "Pcr = pi2*Ec*Ic/L0**2\n",
    "Pcr1 = 0.4*Pcr\n",
    "Pcr, Pcr1, Ned0/Pcr1"
   ]
  },
  {
   "cell_type": "code",
   "execution_count": 10,
   "metadata": {},
   "outputs": [
    {
     "name": "stdout",
     "output_type": "stream",
     "text": [
      "cmaj=1.0997610403151548, cmaj*Med0=98.97849362836394\n"
     ]
    }
   ],
   "source": [
    "c = 8\n",
    "Ned0 = 542.5\n",
    "cmaj = 1.0+(pi2/c)/(Pcr1/Ned0-1.0)\n",
    "print(f\"{cmaj=}, {cmaj*Med0=}\")"
   ]
  }
 ],
 "metadata": {
  "interpreter": {
   "hash": "f2b364409a5b7f5158295f2a84d9a33865366e7b166df42ef6a91a1b044fb707"
  },
  "kernelspec": {
   "display_name": "Python 3.9.6 64-bit ('.venv': venv)",
   "name": "python3"
  },
  "language_info": {
   "codemirror_mode": {
    "name": "ipython",
    "version": 3
   },
   "file_extension": ".py",
   "mimetype": "text/x-python",
   "name": "python",
   "nbconvert_exporter": "python",
   "pygments_lexer": "ipython3",
   "version": "3.9.6"
  },
  "orig_nbformat": 4
 },
 "nbformat": 4,
 "nbformat_minor": 2
}
