{
 "cells": [
  {
   "cell_type": "markdown",
   "source": [
    "## Exemplo\n",
    "\n",
    "Pilar em consola com 3 metros de altura e secção de 0,4x0,3. C25/30, A400.\n",
    "Ações. Ng = 550 kN; Nq = 250 kN, Hq = 20 kN.\n",
    "Esforços de primeira ordem: "
   ],
   "metadata": {}
  },
  {
   "cell_type": "code",
   "execution_count": 6,
   "source": [
    "from math import *\n",
    "pi2 =pi**2\n",
    "# Materiais\n",
    "fcd = 16700\n",
    "fyd = 348000\n",
    "Ec = 30000000\n",
    "# Geometria\n",
    "b = 0.4\n",
    "h = 0.3\n",
    "Ac = b*h\n",
    "Ic = b*h**3/12\n",
    "ic = sqrt(Ic/Ac)\n",
    "L = 3\n",
    "L0 = 1.278*L\n",
    "# Esforços\n",
    "Ng = 550\n",
    "Nq = 250\n",
    "Hq = 20\n",
    "L = 3\n",
    "Mq = 20*3\n",
    "\n",
    "Ned0 = 1.35*Ng + 1.5*Nq\n",
    "Med0 = 1.5*Mq\n",
    "Ned0, Med0, Ic"
   ],
   "outputs": [
    {
     "output_type": "execute_result",
     "data": {
      "text/plain": [
       "(1117.5, 90.0, 0.0008999999999999999)"
      ]
     },
     "metadata": {},
     "execution_count": 6
    }
   ],
   "metadata": {}
  },
  {
   "cell_type": "markdown",
   "source": [
    "### SAP2000\n",
    "\n",
    "Utilizando o SAP2000, foi realizada uma análise P-delta com 1.35G+1.5Q. Estes valores serviram para o cálculo dos efeitos de G e Q. O valor do momento de cálculo foi Med1= 133.9 kNm. Isto corresponde a uma majoração de 133.9/90.0 = 1.49."
   ],
   "metadata": {}
  },
  {
   "cell_type": "markdown",
   "source": [
    "### Carga crítica\n",
    "\n",
    "A carga crítica no pilar é dada por $P_{cr}=\\frac{\\pi^2EI}{L_0^2}$.\n",
    "\n",
    "Os esforços majorados são dados por $M_{Ed}=M_{Ed0}\\left(1.0 + \\frac{\\beta_c}{P_{cr}/N_{Ed0}-1} \\right)$, com $\\beta_c=1$"
   ],
   "metadata": {}
  },
  {
   "cell_type": "code",
   "execution_count": 7,
   "source": [
    "Pcr = pi2*Ec*Ic/L0**2\n",
    "Pcr1 = 0.4*Pcr\n",
    "Pcr, Pcr1, Ned0/Pcr1"
   ],
   "outputs": [
    {
     "output_type": "execute_result",
     "data": {
      "text/plain": [
       "(18128.392369770394, 7251.356947908158, 0.15410908717193572)"
      ]
     },
     "metadata": {},
     "execution_count": 7
    }
   ],
   "metadata": {}
  },
  {
   "cell_type": "code",
   "execution_count": 10,
   "source": [
    "c = 8\n",
    "Ned0 = 542.5\n",
    "cmaj = 1.0+(pi2/c)/(Pcr1/Ned0-1.0)\n",
    "print(f\"{cmaj=}, {cmaj*Med0=}\")"
   ],
   "outputs": [
    {
     "output_type": "stream",
     "name": "stdout",
     "text": [
      "cmaj=1.0997610403151548, cmaj*Med0=98.97849362836394\n"
     ]
    }
   ],
   "metadata": {}
  }
 ],
 "metadata": {
  "orig_nbformat": 4,
  "language_info": {
   "name": "python",
   "version": "3.9.6",
   "mimetype": "text/x-python",
   "codemirror_mode": {
    "name": "ipython",
    "version": 3
   },
   "pygments_lexer": "ipython3",
   "nbconvert_exporter": "python",
   "file_extension": ".py"
  },
  "kernelspec": {
   "name": "python3",
   "display_name": "Python 3.9.6 64-bit ('.venv': venv)"
  },
  "interpreter": {
   "hash": "e202365868dfff1ecbe7d521172752c183c0ceaf11d60fa146e1e57760396293"
  }
 },
 "nbformat": 4,
 "nbformat_minor": 2
}