{
 "cells": [
  {
   "source": [
    "# Eurocode notebooks\n",
    "\n",
    "This is a project with some tools to help designers and students working with eurocodes. There are notebooks for some of the eurocodes, mostly Eurocodes 2 and 5.\n",
    "\n",
    "## Available notebooks\n",
    "\n",
    "### Eurocode 1 (EC1)\n",
    "\n",
    "Wind loads [probabilities](./ec1/ec1-wind-prob.ipynb)\n",
    "\n",
    "### Eurocode 2 (EC2)\n",
    "\n",
    "EC2 (EN 1992-1-1) notebooks can be found [here](./ec2/ec2-base.ipynb).\n",
    "\n",
    "EC2 (EN 1992-1-2) notebooks on fire design can be found [here](./ec2/fire/ec2-fire-base.ipynb).\n",
    "\n",
    "### Eurocode 5 (EC5)\n",
    "\n",
    "EC5 (EN 1995) notebooks can be found [here](ec5/ec5-base.ipynb).\n"
   ],
   "cell_type": "code",
   "metadata": {},
   "execution_count": null,
   "outputs": []
  }
 ],
 "metadata": {
  "kernelspec": {
   "display_name": "Python 3",
   "language": "python",
   "name": "python3"
  },
  "language_info": {
   "codemirror_mode": {
    "name": "ipython",
    "version": 3
   },
   "file_extension": ".py",
   "mimetype": "text/x-python",
   "name": "python",
   "nbconvert_exporter": "python",
   "pygments_lexer": "ipython3",
   "version": "3.9.2"
  }
 },
 "nbformat": 4,
 "nbformat_minor": 4
}