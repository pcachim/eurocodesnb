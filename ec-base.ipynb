{
 "cells": [
  {
   "attachments": {},
   "cell_type": "markdown",
   "metadata": {
    "jp-MarkdownHeadingCollapsed": true,
    "tags": []
   },
   "source": [
    "# Eurocode notebooks\n",
    "\n",
    "This is a project with some tools to help designers and students working with eurocodes. There are notebooks for some of the eurocodes, mostly Eurocodes 2 and 5.\n",
    "\n",
    "You can run the notebooks also in JupyterLab via [mybinder.org](mybinder.org)\n",
    "\n",
    "[![Binder](https://mybinder.org/badge_logo.svg)](https://mybinder.org/v2/gh/pcachim/eurocodesnb/master?urlpath=lab%2Ftree%2Fec-base.ipynb)\n",
    "\n",
    "For the workbooks to work there are some libraries that must be installed in your Python environment. The most important are the [SciPy](https://www.scipy.org) suite (numpy, pandas, matplotlib, scipy and ipython, with sympy being also an interesting one), [plotly](https://plotly.com/python) and [eurocodepy](https://pypi.org/project/eurocodepy/).\n",
    "\n",
    "The notebooks can be found in [GitHub](https://github.com/pcachim/eurocodesnb) and you can clone them using [git](https://github.com/pcachim/eurocodesnb.git).\n",
    "\n",
    "## Available notebooks\n",
    "\n",
    "### Eurocode 1 (EC1)\n",
    "\n",
    "EC0 (EN 1990) and EC1 (EN 1991) notebooks can be found [here](ec1/ec1-base.ipynb)\n",
    "\n",
    "### Eurocode 2 (EC2)\n",
    "\n",
    "EC2 (EN 1992-1-1) notebooks can be found [here](./ec2/ec2-base.ipynb).\n",
    "\n",
    "EC2 (EN 1992-1-2) notebooks on fire design can be found [here](./ec2/fire/ec2-fire-base.ipynb).\n",
    "\n",
    "### Eurocode 5 (EC5)\n",
    "\n",
    "EC5 (EN 1995) notebooks can be found [here](ec5/ec5-base.ipynb).\n",
    "\n",
    "## Additional tools\n",
    "\n",
    "There are also some tools to help in some common tasks that can be usefull:\\\n",
    "* Use noteboooks as an [advanced calculator](ec-calc.ipynb)\\\n",
    "* [Read an Excel file](ec-read-from-excel.ipynb)\n"
   ]
  }
 ],
 "metadata": {
  "kernelspec": {
   "display_name": "Python 3 (ipykernel)",
   "language": "python",
   "name": "python3"
  },
  "language_info": {
   "codemirror_mode": {
    "name": "ipython",
    "version": 3
   },
   "file_extension": ".py",
   "mimetype": "text/x-python",
   "name": "python",
   "nbconvert_exporter": "python",
   "pygments_lexer": "ipython3",
   "version": "3.10.10"
  },
  "vscode": {
   "interpreter": {
    "hash": "ec3d74e7fe57df24ca182b61814d656dffcff87639f6eff81248b43b4a45a73b"
   }
  }
 },
 "nbformat": 4,
 "nbformat_minor": 4
}
