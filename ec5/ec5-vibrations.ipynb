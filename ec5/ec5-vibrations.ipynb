{
 "cells": [
  {
   "cell_type": "markdown",
   "metadata": {},
   "source": [
    "# EC5 - vibrations"
   ]
  },
  {
   "cell_type": "code",
   "execution_count": null,
   "metadata": {},
   "outputs": [],
   "source": [
    "import math\n",
    "import numpy as np"
   ]
  },
  {
   "cell_type": "markdown",
   "metadata": {},
   "source": [
    "For residential floors with a fundamental frequency greater than 8 Hz ($f_1$ > 8 Hz) the following requirements should be satisfied:\n",
    "\n",
    "$\\frac{w}{F}\\le a$, in $mm/kN$\n",
    "\n",
    "$v\\le b^{f_1\\zeta-1} $, in $m/(Ns^2)$\n",
    "\n",
    "where:\n",
    "- $w$ is the maximum instantaneous vertical deflection caused by a vertical concentrated static force F applied at any point on the floor, taking account of load distribution;\n",
    "- $v$ is the unit impulse velocity response, i.e. the maximum initial value of the vertical floor vibration velocity (in m/s) caused by an ideal unit impulse (1 Ns) applied at the point of the floor giving maximum response. Components above 40 Hz may be disregarded;\n",
    "- $\\zeta=0.01$ is the modal damping ratio.\n",
    "\n",
    "The recommended range of limiting values of a and b and the recommended relationship between\n",
    "a and b is given in the figure below.\n",
    "\n",
    "![a-b relation](./figs/ec5-vibr-ab.png)\n",
    "\n",
    "\n",
    "The calculations should be made under the assumption that the floor is unloaded, i.e., only the mass corresponding to the self-weight of the floor and other permanent actions.\n",
    "\n",
    "For a rectangular floor with overall dimensions $l\\times t$, simply supported along all four edges\n",
    "and with timber beams having a span $l$, the fundamental frequency $f_1$ may approximately be calculated as\n",
    "\n",
    "$f_1= \\frac{\\pi}{2l^2}\\sqrt{\\frac{(EI)_l}{m}}$\n",
    "\n",
    "where:\n",
    "- $m$ is the mass per unit area in $\\text{kg/m}^2$;\n",
    "- $l$ is the floor span, in m;\n",
    "- $t$ is the floor width, in m;\n",
    "- $(EI)_l$ is the equivalent plate bending stiffness of the floor about an axis perpendicular to the beam direction, in $\\text{Nm}^2\\text{/m}$.\n",
    "\n",
    "The value $v$ may, as an approximation, be taken as:\n",
    "\n",
    "$v=\\frac{\\left(1.6 + 2.4n_{40} \\right)}{md+200}$\n",
    "\n",
    "where:\n",
    "- v is the unit impulse velocity response, in $m/(Ns^2)$\n",
    "- $n_{40}$ is the number of first-order modes with natural frequencies up to 40 Hz;\n",
    "\n",
    "The value of $n_{40}$ may be calculated from:\n",
    "\n",
    "$n_{40}=\\sqrt[4]{ {\\left( {\\left( \\frac{40}{f_1} \\right)}^2 - 1\\right)} {\\left( \\frac{b}{l}\\right)}^4 \\frac{(EI)_l}{(EI)_t} }$\n",
    "\n",
    "where $(EI)_t$ is the equivalent plate bending stiffness, in $Nm^2/m$, of the floor about an axis parallel\n",
    "to the beams $\\left( (EI)_t \\lt (EI)_l \\right)$."
   ]
  },
  {
   "cell_type": "code",
   "execution_count": null,
   "metadata": {},
   "outputs": [],
   "source": [
    "# useful functions\n",
    "aval = [0.5, 1, 2, 4]\n",
    "bval = [150, 120, 80, 50]\n",
    "\n",
    "def floor_freq(l, EI, m):\n",
    "    f1 = (math.pi/2/l**2)*math.sqrt(EI/m)\n",
    "    return f1\n",
    "\n",
    "def vel(f1, t, l, m, EI_l, EI_t):\n",
    "    n40 = math.pow(((40/f1)**2-1.0)*((t/l)**4)*(EI_l/EI_t), 0.25)\n",
    "    print(f\"n40 = {n40}\")\n",
    "    v = 4*(0.4+0.6*n40)/(m*t*l+200)\n",
    "    return v\n",
    "\n",
    "def b_from_a(a):\n",
    "    return np.interp(a, aval, bval)\n",
    "\n",
    "def a_from_b(b):\n",
    "    return np.interp(b, np.flip(bval), aval)\n",
    "\n",
    "def vlim(f1, b, damp):\n",
    "    return math.pow(b, f1*damp-1.0)"
   ]
  },
  {
   "cell_type": "code",
   "execution_count": null,
   "metadata": {},
   "outputs": [],
   "source": [
    "# eurocode parameters\n",
    "damp = 0.01\n",
    "apar = 1.5 # (mm/kN)\n",
    "bpar = b_from_a(apar)\n",
    "print(f\"a = {apar:.2f} mm/kN, b = {bpar:.1f}\")"
   ]
  },
  {
   "cell_type": "markdown",
   "metadata": {},
   "source": [
    "### Vibration verification in a rectangular floor\n",
    "\n",
    "The floor is made by beams ($b\\times h$) spanning through lengh L aparted by a distance $s$. The pavement over the beams has thickness $t$."
   ]
  },
  {
   "cell_type": "code",
   "execution_count": null,
   "metadata": {},
   "outputs": [],
   "source": [
    "# pavement definition\n",
    "b = 0.045 # (m) beam size\n",
    "h = 0.22 # (m) beam height\n",
    "s = 0.4 # (m) beam spacing\n",
    "tf = 0.018 # (m) floor thickness\n",
    "El = 9000 # (MPa) beam modulus of elasticity\n",
    "Et = 4930 # (MPa) floor modulus of elasticity\n",
    "L = 3.7 # (m) pavement (beam) length\n",
    "B = 4.4 # (m) pavement width\n",
    "mass = 35 # (kg/m2)"
   ]
  },
  {
   "cell_type": "code",
   "execution_count": null,
   "metadata": {},
   "outputs": [],
   "source": [
    "Il = b*h**3/12.0/s\n",
    "It = tf**3/12.0\n",
    "EI_l = El*Il*1e6\n",
    "EI_t = Et*It*1e6\n",
    "Il, It, round(EI_l,0), round(EI_t, 0)"
   ]
  },
  {
   "cell_type": "code",
   "execution_count": null,
   "metadata": {},
   "outputs": [],
   "source": [
    "# Frequency calculation\n",
    "f1 = floor_freq(L, EI_l, mass)\n",
    "alfa = (B/L)*math.pow(EI_l/EI_t, 0.25)\n",
    "fplate = f1*math.sqrt(1+1/alfa**4)\n",
    "print(f\"f1 = {f1:.2f} Hz, f1 > 8 Hz = {f1 > 8}, fplate = {fplate:.3f} Hz\")"
   ]
  },
  {
   "cell_type": "code",
   "execution_count": null,
   "metadata": {},
   "outputs": [],
   "source": [
    "# Calculation for velocity\n",
    "v = vel(f1, B, L, mass, EI_l, EI_t)\n",
    "vl = vlim(f1, bpar, damp)\n",
    "print(f\"v = {v:.4f} m/(Ns2), vlim = {vl:.4f} m/(Ns2), Check = {v < vl}\")"
   ]
  },
  {
   "cell_type": "code",
   "execution_count": null,
   "metadata": {
    "tags": []
   },
   "outputs": [],
   "source": [
    "# Calculation for deflection\n",
    "acalc = 1000*L**3/48/EI_l*1000\n",
    "beta = EI_l/EI_t*(s/L)**4\n",
    "kapa = 0.8+0.2*beta if beta > 0.3 else 0.4+2.9*beta-4.7*beta*beta\n",
    "apar = a_from_b(bpar)\n",
    "acalc *= kapa\n",
    "print(f\"w = {acalc:.3f} mm/kN, alim = {apar:.3f} mm/kN, Check = {acalc < apar}, k = {kapa:.3f}\")"
   ]
  },
  {
   "cell_type": "code",
   "execution_count": null,
   "metadata": {},
   "outputs": [],
   "source": []
  }
 ],
 "metadata": {
  "kernelspec": {
   "display_name": "Python 3.9.6 64-bit",
   "language": "python",
   "name": "python3"
  },
  "language_info": {
   "codemirror_mode": {
    "name": "ipython",
    "version": 3
   },
   "file_extension": ".py",
   "mimetype": "text/x-python",
   "name": "python",
   "nbconvert_exporter": "python",
   "pygments_lexer": "ipython3",
   "version": "3.9.6"
  },
  "toc-autonumbering": false,
  "toc-showtags": true,
  "vscode": {
   "interpreter": {
    "hash": "aee8b7b246df8f9039afb4144a1f6fd8d2ca17a180786b69acc140d282b71a49"
   }
  }
 },
 "nbformat": 4,
 "nbformat_minor": 4
}
