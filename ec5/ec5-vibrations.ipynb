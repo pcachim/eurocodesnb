{
 "cells": [
  {
   "cell_type": "markdown",
   "metadata": {},
   "source": [
    "# EC5 - vibrations"
   ]
  },
  {
   "cell_type": "code",
   "execution_count": 6,
   "metadata": {},
   "outputs": [],
   "source": [
    "import math\n",
    "import numpy as np"
   ]
  },
  {
   "cell_type": "code",
   "execution_count": 7,
   "metadata": {},
   "outputs": [],
   "source": [
    "# useful functions\n",
    "aval = [0.5, 1, 2, 4]\n",
    "bval = [150, 120, 80, 50]\n",
    "\n",
    "def floor_freq(l, EI, m):\n",
    "    f1 = (math.pi/2/l**2)*math.sqrt(EI/m)\n",
    "    return f1\n",
    "\n",
    "def vel(f1, b, l, m, EIl, EIt):\n",
    "    n40 = math.pow(((40/f1)**2-1.0)*((b/l)**4)*(EIl/EIt), 0.25)\n",
    "    print(f\"n40 = {n40}\")\n",
    "    v = 4*(0.4+0.6*n40)/(m*b*l+200)\n",
    "    return v\n",
    "\n",
    "def b_from_a(a):\n",
    "    return np.interp(a, aval, bval)\n",
    "\n",
    "def a_from_b(b):\n",
    "    return np.interp(b, np.flip(bval), aval)\n",
    "\n",
    "def vlim(b, damp):\n",
    "    return math.pow(b, f1*damp-1.0)"
   ]
  },
  {
   "cell_type": "code",
   "execution_count": 8,
   "metadata": {},
   "outputs": [],
   "source": [
    "# pavement definition\n",
    "b = 0.045 # beam size\n",
    "h = 0.22\n",
    "s = 0.4 # beam spacing\n",
    "t = 0.018 # floor thickness\n",
    "Eb = 9000 # beam modulus of elasticity\n",
    "Ef = 4930 # floor modulus of elasticity\n",
    "L = 3.7 # (m) pavement (beam) length\n",
    "B = 4.4 # (m) pavement width\n",
    "mass = 35 # (kg/m2)"
   ]
  },
  {
   "cell_type": "code",
   "execution_count": 9,
   "metadata": {},
   "outputs": [],
   "source": [
    "# eurocode parameters\n",
    "damp = 0.01\n",
    "apar = 1.5 # (mm/kN)\n",
    "bpar = 100.0"
   ]
  },
  {
   "cell_type": "code",
   "execution_count": 10,
   "metadata": {},
   "outputs": [
    {
     "data": {
      "text/plain": [
       "(9.982499999999999e-05, 4.859999999999999e-07, 898425.0, 2396.0)"
      ]
     },
     "execution_count": 10,
     "metadata": {},
     "output_type": "execute_result"
    }
   ],
   "source": [
    "Ab = b*h\n",
    "Ib = b*h**3/12.0/s\n",
    "If = t**3/12.0\n",
    "EIb = Eb*Ib*1e6\n",
    "EIf = Ef*If*1e6\n",
    "Ib, If, round(EIb,0), round(EIf, 0)"
   ]
  },
  {
   "cell_type": "code",
   "execution_count": 11,
   "metadata": {},
   "outputs": [
    {
     "name": "stdout",
     "output_type": "stream",
     "text": [
      "f1 = 18.38 Hz, f1 > 8 Hz = True, fplate = 18.396 Hz\n"
     ]
    }
   ],
   "source": [
    "# Frequency calculation\n",
    "f1 = floor_freq(L, EIb, mass)\n",
    "alfa = (B/L)*math.pow(EIb/EIf, 0.25)\n",
    "fplate = f1*math.sqrt(1+1/alfa**4)\n",
    "print(f\"f1 = {f1:.2f} Hz, f1 > 8 Hz = {f1 > 8}, fplate = {fplate:.3f} Hz\")"
   ]
  },
  {
   "cell_type": "code",
   "execution_count": 12,
   "metadata": {},
   "outputs": [
    {
     "name": "stdout",
     "output_type": "stream",
     "text": [
      "n40 = 7.274589327128929\n",
      "v = 0.0248 m/(Ns2), vlim = 0.0233 m/(Ns2), Check = False\n"
     ]
    }
   ],
   "source": [
    "# Calculation for velocity\n",
    "v = vel(f1, B, L, mass, EIb, EIf)\n",
    "vl = vlim(bpar, damp)\n",
    "print(f\"v = {v:.4f} m/(Ns2), vlim = {vl:.4f} m/(Ns2), Check = {v < vl}\")"
   ]
  },
  {
   "cell_type": "code",
   "execution_count": 13,
   "metadata": {
    "tags": []
   },
   "outputs": [
    {
     "name": "stdout",
     "output_type": "stream",
     "text": [
      "w = 1.175 mm/kN, alim = 1.500 mm/kN, Check = True, k = 0.536\n"
     ]
    }
   ],
   "source": [
    "# Calculation for deflection\n",
    "acalc = 1000*L**3/48/EIb*1000\n",
    "beta = EIb/EIf*(s/L)**4\n",
    "kapa = 0.8+0.2*beta if beta > 0.3 else 0.4+2.9*beta-4.7*beta*beta\n",
    "apar = a_from_b(bpar)\n",
    "print(f\"w = {acalc:.3f} mm/kN, alim = {apar:.3f} mm/kN, Check = {acalc < apar}, k = {kapa:.3f}\")"
   ]
  },
  {
   "cell_type": "code",
   "execution_count": null,
   "metadata": {},
   "outputs": [],
   "source": []
  }
 ],
 "metadata": {
  "kernelspec": {
   "display_name": "Python 3",
   "language": "python",
   "name": "python3"
  },
  "language_info": {
   "codemirror_mode": {
    "name": "ipython",
    "version": 3
   },
   "file_extension": ".py",
   "mimetype": "text/x-python",
   "name": "python",
   "nbconvert_exporter": "python",
   "pygments_lexer": "ipython3",
   "version": "3.9.2"
  },
  "toc-autonumbering": false,
  "toc-showtags": true
 },
 "nbformat": 4,
 "nbformat_minor": 4
}
