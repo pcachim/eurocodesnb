{
 "cells": [
  {
   "cell_type": "code",
   "execution_count": 1,
   "metadata": {},
   "outputs": [],
   "source": [
    "import math\n",
    "import json\n",
    "import pandas as pd\n",
    "import ipywidgets as widgets\n",
    "from ipywidgets import HBox, VBox\n",
    "from ipywidgets import interact\n",
    "import eurocodepy as ec\n",
    "\n",
    "timber = ec.get_timber()"
   ]
  },
  {
   "cell_type": "code",
   "execution_count": 2,
   "metadata": {},
   "outputs": [],
   "source": [
    "tclass = widgets.Dropdown(\n",
    "    options=timber[\"Classes\"].keys(),\n",
    "    value=\"C18\",\n",
    "    description='Timber:',\n",
    ")\n",
    "sclass = widgets.Dropdown(\n",
    "    options=['Class 1', 'Class 2', 'Class 3'],\n",
    "    value=\"Class 3\",\n",
    "    description='Class:',\n",
    ")"
   ]
  },
  {
   "cell_type": "code",
   "execution_count": 3,
   "metadata": {},
   "outputs": [
    {
     "data": {
      "application/vnd.jupyter.widget-view+json": {
       "model_id": "1b57995ec30c4eef8c8b20bbcec665b4",
       "version_major": 2,
       "version_minor": 0
      },
      "text/plain": [
       "VBox(children=(Dropdown(description='Timber:', index=2, options=('C14', 'C16', 'C18', 'C24', 'C27', 'C30', 'D1…"
      ]
     },
     "metadata": {},
     "output_type": "display_data"
    }
   ],
   "source": [
    "VBox(children=[tclass, sclass])"
   ]
  },
  {
   "cell_type": "code",
   "execution_count": 6,
   "metadata": {},
   "outputs": [],
   "source": [
    "duration = \"Permanent\"\n",
    "idur = timber[\"LoadDuration\"][duration]\n",
    "props = timber[\"Classes\"][tclass.value]\n",
    "safcoef = timber[\"Parameters\"][\"safety\"][props[\"Type\"]]\n",
    "kmod = timber[\"Parameters\"][\"kmod\"][props[\"Type\"]][sclass.value][idur]"
   ]
  },
  {
   "cell_type": "code",
   "execution_count": 7,
   "metadata": {},
   "outputs": [
    {
     "data": {
      "text/plain": [
       "32.0"
      ]
     },
     "execution_count": 7,
     "metadata": {},
     "output_type": "execute_result"
    }
   ],
   "source": [
    "props[\"fmk\"]"
   ]
  },
  {
   "cell_type": "code",
   "execution_count": null,
   "metadata": {},
   "outputs": [],
   "source": []
  }
 ],
 "metadata": {
  "kernelspec": {
   "display_name": "Python 3",
   "language": "python",
   "name": "python3"
  },
  "language_info": {
   "codemirror_mode": {
    "name": "ipython",
    "version": 3
   },
   "file_extension": ".py",
   "mimetype": "text/x-python",
   "name": "python",
   "nbconvert_exporter": "python",
   "pygments_lexer": "ipython3",
   "version": "3.9.6"
  }
 },
 "nbformat": 4,
 "nbformat_minor": 4
}
