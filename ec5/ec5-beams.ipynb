{
 "cells": [
  {
   "cell_type": "code",
   "execution_count": 1,
   "metadata": {},
   "outputs": [],
   "source": [
    "import math\n",
    "import eurocodepy as ec\n",
    "import ipywidgets as widgets\n",
    "from ipywidgets import HBox, VBox\n",
    "from ipywidgets import interact\n",
    "\n",
    "timber = ec.get_timber()\n",
    "tclass = widgets.Dropdown(\n",
    "    options=timber[\"Classes\"].keys(),\n",
    "    value=\"C18\",\n",
    "    description='Timber:',\n",
    ")\n",
    "sclass = widgets.Dropdown(\n",
    "    options=['Class 1', 'Class 2', 'Class 3'],\n",
    "    value=\"Class 3\",\n",
    "    description='Class:',\n",
    ")\n",
    "loadd = widgets.Dropdown(\n",
    "    options=[('Permanent',0), ('Long Duration',1), ('Medium Duration',2), (\"Short Duration\",3), (\"instantaneous\",4)],\n",
    "    value=0,\n",
    "    description='Duration:',\n",
    ")\n",
    "width = widgets.BoundedFloatText(\n",
    "    value=0.12,\n",
    "    min=0.01,\n",
    "    max=1.0,\n",
    "    step=0.1,\n",
    "    description='b (m):',\n",
    "    disabled=False\n",
    ")\n",
    "height = widgets.BoundedFloatText(\n",
    "    value=0.5,\n",
    "    min=0.01,\n",
    "    max=1.0,\n",
    "    step=0.1,\n",
    "    description='h (m):',\n",
    "    disabled=False\n",
    ")\n",
    "medyy = widgets.BoundedFloatText(\n",
    "    value=50,\n",
    "    min=0.0,\n",
    "    max=1000.0,\n",
    "    step=1.0,\n",
    "    description='Med (kNm):',\n",
    "    disabled=False\n",
    ")\n",
    "ved = widgets.BoundedFloatText(\n",
    "    value=50,\n",
    "    min=0.0,\n",
    "    max=1000.0,\n",
    "    step=1.0,\n",
    "    description='Ved (kN):',\n",
    "    disabled=False\n",
    ")"
   ]
  },
  {
   "cell_type": "markdown",
   "metadata": {},
   "source": [
    "# Beams according to EC5\n",
    "\n",
    "Design of beams for bending and shear"
   ]
  },
  {
   "cell_type": "code",
   "execution_count": 3,
   "metadata": {},
   "outputs": [],
   "source": [
    "def calculate(tclass, sclass, loadd, width, height, medyy, medzz, ned, ved):\n",
    "    # Timber properties\n",
    "    props = timber[\"Classes\"][tclass]\n",
    "    safcoef = timber[\"Parameters\"][\"safety\"][props[\"Type\"]]\n",
    "    kmod = timber[\"Parameters\"][\"kmod\"][props[\"Type\"]][sclass][loadd]\n",
    "    \n",
    "    # Geometric parameters\n",
    "    area = width*height\n",
    "    ineryy = area*height*height/12.0\n",
    "    inerzz = area*width*width/12.0\n",
    "    wyy = area*height/6.0\n",
    "    wzz = area*width/6.0\n",
    "\n",
    "    sigmyy = medyy/wyy/1000.0\n",
    "    sigmzz = medzz/wzz/1000.0\n",
    "    sigmxx = ned/area/1000.0\n",
    "    kcr = 2.0/3.0\n",
    "    tauz = ved/area/1000.0*1.5/kcr\n",
    "\n",
    "    fvd = kmod * props[\"fvk\"] / safcoef\n",
    "    fmd = kmod * props[\"fmk\"] / safcoef\n",
    "    print(f\"{area}, {ineryy}, {sigmyy}, {fmd}, {sigmyy < fmd}, {tauz}, {fvd}, {tauz < fvd}\")\n"
   ]
  },
  {
   "cell_type": "code",
   "execution_count": 4,
   "metadata": {},
   "outputs": [
    {
     "data": {
      "application/vnd.jupyter.widget-view+json": {
       "model_id": "a297fa363a4b4a60a37b6d49819df963",
       "version_major": 2,
       "version_minor": 0
      },
      "text/plain": [
       "interactive(children=(Dropdown(description='Timber:', index=2, options=('C14', 'C16', 'C18', 'C24', 'C27', 'C3…"
      ]
     },
     "metadata": {},
     "output_type": "display_data"
    },
    {
     "data": {
      "text/plain": [
       "<function __main__.calculate(tclass, sclass, loadd, width, height, medyy, medzz, ned, ved)>"
      ]
     },
     "execution_count": 4,
     "metadata": {},
     "output_type": "execute_result"
    }
   ],
   "source": [
    "\n",
    "interact(calculate, tclass=tclass, sclass=sclass, loadd=loadd, width=width, height=height, medyy=medyy, medzz=0, ned=0, ved=ved)"
   ]
  },
  {
   "cell_type": "code",
   "execution_count": null,
   "metadata": {},
   "outputs": [],
   "source": []
  }
 ],
 "metadata": {
  "kernelspec": {
   "display_name": "Python 3.9.6 ('.venv': venv)",
   "language": "python",
   "name": "python3"
  },
  "language_info": {
   "codemirror_mode": {
    "name": "ipython",
    "version": 3
   },
   "file_extension": ".py",
   "mimetype": "text/x-python",
   "name": "python",
   "nbconvert_exporter": "python",
   "pygments_lexer": "ipython3",
   "version": "3.9.6"
  },
  "vscode": {
   "interpreter": {
    "hash": "ec3d74e7fe57df24ca182b61814d656dffcff87639f6eff81248b43b4a45a73b"
   }
  }
 },
 "nbformat": 4,
 "nbformat_minor": 4
}
