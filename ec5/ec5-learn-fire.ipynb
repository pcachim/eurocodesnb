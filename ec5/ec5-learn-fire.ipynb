{
 "cells": [
  {
   "cell_type": "markdown",
   "metadata": {},
   "source": [
    "# Fire design according to EC5\n",
    "\n",
    "Charring shall be taken into account for all sides of timber members directly exposed to fire, and, where relevant, for initially protected sides, where charring occurs during the relevant time of fire exposure.\n",
    "The position of the char-line in timber members should be assumed as the position of the 300°C–isotherm.\n",
    "It should be taken into account that the charring rates are normally different for:\n",
    "* initially unprotected sides of timber members;\n",
    "* initially protected sides of timber members prior to failure of the protection;\n",
    "* sides of timber members directly exposed to fire after failure of the protection.\n",
    "\n",
    "The residual cross-section shall be calculated using either the European charring model or advanced calculations. The European charring model is a simplified model for the calculation of the residual cross-section of a timber member assuming linear charring rates during different charring phases.\n",
    "\n",
    "## The European charring model\n",
    "\n",
    "The European charring model should be applied to standard fire exposure. The following phases should be taken into account where relevant (see Figure 5.1 and Figure 5.2):\n",
    "* Normal charring phase (Phase 1) for initially unprotected sides of timber members and for initially protected sides of timber members\n",
    "* Encapsulated phase (Phase 0) is the phase when no charring occurs behind the fire protection system.\n",
    "* Protected charring phase (Phase 2) is the phase when charring occurs behind fire protection system while the system is still in place.\n",
    "* Post-protected charring phase (Phase 3) is the phase after the failure of the fire protection system before a fully developed char layer has been formed.\n",
    "* Consolidated charring phase (Phase 4) is the phase with fully developed char layer.\n",
    "\n",
    "If the timber member undergoes charring in different charring phases the European charring model shall be individually applied for the individual charring phases.\n",
    "\n",
    "The notional charring depth $d_{char,n}$ should be calculated as follows:\n",
    "$$ d_{char,n}=\\sum\\left(\\beta_nt\\right) $$\n",
    "where:\n",
    ">$d_{char,n}$ is the notional charring depth in mm;  \n",
    ">$\\beta_n$ is the notional design charring rate within one charring phase in mm/min;\\\n",
    ">$t$ is the time for the charring phase considered in min.\n",
    "\n",
    "### Notional design charring rate\n",
    "\n"
   ]
  }
 ],
 "metadata": {
  "kernelspec": {
   "display_name": "Python 3.9.6 64-bit",
   "language": "python",
   "name": "python3"
  },
  "language_info": {
   "name": "python",
   "version": "3.9.6"
  },
  "orig_nbformat": 4,
  "vscode": {
   "interpreter": {
    "hash": "aee8b7b246df8f9039afb4144a1f6fd8d2ca17a180786b69acc140d282b71a49"
   }
  }
 },
 "nbformat": 4,
 "nbformat_minor": 2
}
