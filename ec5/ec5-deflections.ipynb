{
 "cells": [
  {
   "cell_type": "markdown",
   "metadata": {},
   "source": [
    "# EC5 - deflections"
   ]
  },
  {
   "cell_type": "code",
   "execution_count": null,
   "metadata": {},
   "outputs": [],
   "source": [
    "import math\n",
    "import numpy as np\n",
    "import eurocodepy as ec\n",
    "timber = ec.get_timber()"
   ]
  },
  {
   "cell_type": "code",
   "execution_count": null,
   "metadata": {},
   "outputs": [],
   "source": [
    "# useful functions\n",
    "aval = [0.5, 1, 2, 4]\n",
    "bval = [150, 120, 80, 50]\n",
    "\n",
    "def floor_freq(l, EI, m):\n",
    "    f1 = (math.pi/2/l**2)*math.sqrt(EI/m)\n",
    "    return f1\n",
    "\n",
    "def vel(f1, b, l, m, EIl, EIt):\n",
    "    n40 = math.pow(((40/f1)**2-1.0)*((b/l)**4)*(EIl/EIt), 0.25)\n",
    "    v = 4*(0.4+0.6*n40)/(m*b*l+200)\n",
    "    return v\n",
    "\n",
    "def b_from_a(a):\n",
    "    return np.interp(a, aval, bval)\n",
    "\n",
    "def a_from_b(b):\n",
    "    return np.interp(b, np.flip(bval), aval)\n",
    "\n",
    "def vlim(f1, b, damp):\n",
    "    return math.pow(b, f1*damp-1.0)"
   ]
  },
  {
   "cell_type": "code",
   "execution_count": null,
   "metadata": {},
   "outputs": [],
   "source": [
    "# pavement definition\n",
    "b = 0.045 # beam size\n",
    "h = 0.22\n",
    "L = 3.7 # (m) pavement (beam) length\n",
    "E = 9000\n",
    "pperm = 1.0\n",
    "pvar = 2.0\n",
    "psi2 = 0.4\n",
    "tclass = \"C30\"\n",
    "sclass = \"Class 1\"\n",
    "wlim_inst = L/0.300\n",
    "wlim_inf = L/0.250"
   ]
  },
  {
   "cell_type": "code",
   "execution_count": null,
   "metadata": {
    "tags": []
   },
   "outputs": [],
   "source": [
    "# Calculation for deflection\n",
    "props = timber[\"Classes\"][tclass]\n",
    "safcoef = timber[\"Parameters\"][\"safety\"][props[\"Type\"]]\n",
    "kdef = timber[\"Parameters\"][\"kdef\"][props[\"Type\"]][sclass]\n",
    "kdef"
   ]
  },
  {
   "cell_type": "markdown",
   "metadata": {},
   "source": [
    "Distributed load"
   ]
  },
  {
   "cell_type": "code",
   "execution_count": null,
   "metadata": {},
   "outputs": [],
   "source": [
    "EI = (b*h**3)/12.0*1000*E\n",
    "load = pperm + pvar\n",
    "wi = 5*load*L**4/384/EI*1000\n",
    "load = (1 + kdef)*pperm + (1 + psi2*kdef)*pvar\n",
    "w = 5*load*L**4/384/EI*1000\n",
    "print(f\"w_inst = {wi:.1f} mm ({wlim_inst:.1f} mm), Check = {wi < wlim_inst}\")\n",
    "print(f\"w_inf = {w:.1f} mm ({wlim_inf:.1f} mm), Check = {w < wlim_inf}\")"
   ]
  }
 ],
 "metadata": {
  "kernelspec": {
   "display_name": "Python 3.9.6 64-bit",
   "language": "python",
   "name": "python3"
  },
  "language_info": {
   "codemirror_mode": {
    "name": "ipython",
    "version": 3
   },
   "file_extension": ".py",
   "mimetype": "text/x-python",
   "name": "python",
   "nbconvert_exporter": "python",
   "pygments_lexer": "ipython3",
   "version": "3.9.6"
  },
  "toc-autonumbering": false,
  "vscode": {
   "interpreter": {
    "hash": "aee8b7b246df8f9039afb4144a1f6fd8d2ca17a180786b69acc140d282b71a49"
   }
  }
 },
 "nbformat": 4,
 "nbformat_minor": 4
}
