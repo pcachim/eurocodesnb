{
 "cells": [
  {
   "cell_type": "code",
   "execution_count": 1,
   "id": "arabic-indication",
   "metadata": {
    "tags": []
   },
   "outputs": [],
   "source": [
    "import math"
   ]
  },
  {
   "cell_type": "code",
   "execution_count": 3,
   "id": "authentic-parent",
   "metadata": {},
   "outputs": [
    {
     "output_type": "execute_result",
     "data": {
      "text/plain": [
       "(100, 100)"
      ]
     },
     "metadata": {},
     "execution_count": 3
    }
   ],
   "source": [
    "rhok = 385\n",
    "rhoa = 350\n",
    "faxk = 11.7\n",
    "fheadk = 10.5\n",
    "d = 9\n",
    "dh = 10.5\n",
    "L = 230\n",
    "ltot = L - 30\n",
    "lefp = 100 # ltot / 2 # ponta\n",
    "lefh = ltot-lefp # cabeça\n",
    "alpha = 0\n",
    "# rothoblass parameters\n",
    "kfx = 1.0\n",
    "kbeta = 1.0\n",
    "lefp, lefh"
   ]
  },
  {
   "cell_type": "code",
   "execution_count": 4,
   "id": "convinced-progressive",
   "metadata": {},
   "outputs": [
    {
     "output_type": "stream",
     "name": "stdout",
     "text": [
      "Fax.head.k = 8919 N, Fax.point.k = 8036 N\n"
     ]
    }
   ],
   "source": [
    "Faxrkh = fheadk * (dh**2) * (rhok / rhoa)**0.8\n",
    "Faxrks = kfx * faxk * d * lefh * (rhok / rhoa)**0.8 / kbeta\n",
    "Faxrks2 = kfx * faxk * d * lefp * (rhok / rhoa)**0.8 / kbeta * math.cos(math.pi/4) \n",
    "Faxrkh2 = (Faxrkh + Faxrks)* math.cos(math.pi/4)\n",
    "\n",
    "print(f\"Fax.head.k = {Faxrkh2:.0f} N, Fax.point.k = {Faxrks2:.0f} N\")"
   ]
  },
  {
   "cell_type": "code",
   "execution_count": 14,
   "id": "certain-virginia",
   "metadata": {},
   "outputs": [
    {
     "name": "stdout",
     "output_type": "stream",
     "text": [
      "Vk = 32.7 kN, nef = 1.866\n"
     ]
    }
   ],
   "source": [
    "n = 2\n",
    "n1 = 2\n",
    "nef = max(n**0.9, 0.9*n)\n",
    "Faxrk = min(Faxrkh2, Faxrks2) * n1 * nef / 1000\n",
    "Faxrk, nef\n",
    "print(f\"Vk = {Faxrk:.1f} kN, nef = {nef:.3f}\")"
   ]
  },
  {
   "cell_type": "code",
   "execution_count": 15,
   "id": "sought-traveler",
   "metadata": {},
   "outputs": [
    {
     "data": {
      "text/plain": [
       "6.532235302467721"
      ]
     },
     "execution_count": 15,
     "metadata": {},
     "output_type": "execute_result"
    }
   ],
   "source": [
    "alpha *= math.pi / 180.0\n",
    "fhk = 0.082 * rhok * (d**(-0.3)) / (2.5*math.cos(alpha)**2 + math.sin(alpha)**2)\n",
    "fhk"
   ]
  },
  {
   "cell_type": "code",
   "execution_count": null,
   "id": "horizontal-empire",
   "metadata": {},
   "outputs": [],
   "source": []
  }
 ],
 "metadata": {
  "kernelspec": {
   "display_name": "Python 3",
   "language": "python",
   "name": "python3"
  },
  "language_info": {
   "codemirror_mode": {
    "name": "ipython",
    "version": 3
   },
   "file_extension": ".py",
   "mimetype": "text/x-python",
   "name": "python",
   "nbconvert_exporter": "python",
   "pygments_lexer": "ipython3",
   "version": "3.9.2"
  }
 },
 "nbformat": 4,
 "nbformat_minor": 5
}