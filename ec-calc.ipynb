{
  "cells": [
    {
      "cell_type": "code",
      "source": [
        "from math import *\n",
        "import numpy as np\n",
        "import scipy as sp\n",
        "import eurocodepy as ec"
      ],
      "outputs": [],
      "execution_count": 1,
      "metadata": {
        "execution": {
          "iopub.status.busy": "2022-12-23T00:16:50.216Z",
          "iopub.execute_input": "2022-12-23T00:16:50.222Z",
          "iopub.status.idle": "2022-12-23T00:16:57.915Z",
          "shell.execute_reply": "2022-12-23T00:16:57.922Z"
        }
      }
    },
    {
      "cell_type": "markdown",
      "source": [
        "# This is a calculator\n",
        "Place all the ```import``` in the top cell and rerun the notebook"
      ],
      "metadata": {}
    },
    {
      "cell_type": "code",
      "source": [
        "a = np.array([[100, 0], [0, 100]])\n",
        "b = np.array([[0.866025, -0.5], [0, 1]])\n",
        "c = b.dot(a).dot(b.T)\n",
        "c"
      ],
      "outputs": [
        {
          "output_type": "execute_result",
          "execution_count": 2,
          "data": {
            "text/plain": "array([[ 99.99993006, -50.        ],\n       [-50.        , 100.        ]])"
          },
          "metadata": {}
        }
      ],
      "execution_count": 2,
      "metadata": {
        "execution": {
          "iopub.status.busy": "2022-12-23T00:16:59.181Z",
          "iopub.execute_input": "2022-12-23T00:16:59.191Z",
          "iopub.status.idle": "2022-12-23T00:16:59.211Z",
          "shell.execute_reply": "2022-12-23T00:16:59.223Z"
        }
      }
    },
    {
      "cell_type": "code",
      "source": [
        "pi"
      ],
      "outputs": [
        {
          "output_type": "execute_result",
          "execution_count": 3,
          "data": {
            "text/plain": "3.141592653589793"
          },
          "metadata": {}
        }
      ],
      "execution_count": 3,
      "metadata": {
        "execution": {
          "iopub.status.busy": "2022-12-23T00:17:02.443Z",
          "iopub.execute_input": "2022-12-23T00:17:02.451Z",
          "iopub.status.idle": "2022-12-23T00:17:02.547Z",
          "shell.execute_reply": "2022-12-23T00:17:02.552Z"
        }
      }
    },
    {
      "cell_type": "code",
      "source": [
        "w = 9.42e-4*348/0.17/13.3\n",
        "m = w*(1-0.5*w)\n",
        "mrd = m*0.17**2*13300\n",
        "w, m, mrd"
      ],
      "outputs": [
        {
          "output_type": "execute_result",
          "execution_count": 4,
          "data": {
            "text/plain": "(0.14498717381689516, 0.13447653353118988, 51.68874519338347)"
          },
          "metadata": {}
        }
      ],
      "execution_count": 4,
      "metadata": {
        "execution": {
          "iopub.status.busy": "2022-12-23T00:17:04.387Z",
          "iopub.execute_input": "2022-12-23T00:17:04.394Z",
          "iopub.status.idle": "2022-12-23T00:17:04.409Z",
          "shell.execute_reply": "2022-12-23T00:17:04.418Z"
        }
      }
    }
  ],
  "metadata": {
    "kernelspec": {
      "display_name": ".venv",
      "language": "python",
      "name": "python3"
    },
    "language_info": {
      "name": "python",
      "version": "3.9.6",
      "mimetype": "text/x-python",
      "codemirror_mode": {
        "name": "ipython",
        "version": 3
      },
      "pygments_lexer": "ipython3",
      "nbconvert_exporter": "python",
      "file_extension": ".py"
    },
    "vscode": {
      "interpreter": {
        "hash": "ec3d74e7fe57df24ca182b61814d656dffcff87639f6eff81248b43b4a45a73b"
      }
    },
    "nteract": {
      "version": "0.28.0"
    }
  },
  "nbformat": 4,
  "nbformat_minor": 4
}