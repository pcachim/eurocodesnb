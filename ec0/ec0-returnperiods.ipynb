{
 "cells": [
  {
   "cell_type": "markdown",
   "metadata": {},
   "source": [
    "# Return periods and probability of ocurrence\n",
    "\n",
    "### Return period\n",
    "\n",
    "The return period is as the average time interval between the ocurrence of an event with a probability of exceedance $p_1$ in a period of one year.\n",
    "\n",
    "The probability of exceedance of the event in one year, $p_1$, for a return period $T_R$ is:\n",
    "$$p_1=\\frac{1}{T_R}$$\n",
    "\n",
    "Alternatively, the return period $T_R$ for an event with a probability of exceedance of $p_1$ in one year is:\n",
    "$$T_R=\\frac{1}{p_1}$$\n",
    "\n",
    "Another way to define the return period $T_R$ is the average time interval between the ocurrence of an event with a certain probability of exceedance $p_A$ in a certain period of time $T_A$. For a certain event defined by a probability of exceedance of $p_A$ in a certain period of time $n_A$, the return period $T_R$ is defined by:\n",
    "$$T_R=\\frac{1}{1-\\left(1-p_A\\right)^{1/T_A}}$$\n",
    "\n",
    "Consequently, the probability of exceedance $p_A$ of a certain event in a period of time $T_A$, for a return period $T_R$ is given by:\n",
    "$$p_A=1-\\left(1-T_R\\right)^{T_A}$$\n",
    "\n",
    "Then, the probability of exceedance of the event in one year, $p_1$, for an event with a probability of excedence of $p_A$ in a period of $n_A$ is:\n",
    "$$p_1=\\frac{1}{T_R}=1-\\left(1-p_A \\right)^{1/n_A}$$\n",
    "\n",
    "The probability of exceedance, $p_R$, of an event with a probability of excedence of $p_A$ in a certain period of time $n_A$, during the return period $T_R$ is:\n",
    "$$p_R=1-\\left(1-p_A \\right)^{T_R/T_A}$$\n",
    "\n",
    "It follows that the probability of exceedance, $p_R$, of an event with a probability of excedence of $p_1$ in an one year period is:\n",
    "$$p_R=1-\\left(1-p_1 \\right)^{T_R}$$"
   ]
  },
  {
   "cell_type": "markdown",
   "metadata": {},
   "source": [
    "Example:\n",
    "Consider a certain event with a probability of exceedance of $p_A$ in a period of $n_A$ years\\\n",
    "a) calculate the return period $T_R$\\\n",
    "b) calculate the probability of exceedance in $k$ years, $p_k$\\\n",
    "c) calculate the probability of ocurrence in the return period, $p_R$\\\n",
    "d) calculate the probability of ocurrence in one year, $p_1$"
   ]
  },
  {
   "cell_type": "code",
   "execution_count": 4,
   "metadata": {},
   "outputs": [
    {
     "name": "stdout",
     "output_type": "stream",
     "text": [
      "Probability of exceedance in 50 years is 0.1\n",
      "a) Return period is 475.0 years\n",
      "b) Probability of exceedance in 5 years is 0.01\n",
      "c) Probability of exceedance in 475.0 years is 0.633\n",
      "d) Probability of exceedance in one year is 0.002\n"
     ]
    }
   ],
   "source": [
    "import math\n",
    "p = 0.1 # probability of exceedance\n",
    "n = 50 # number of years related to p\n",
    "print ('Probability of exceedance in', n, 'years is', p)\n",
    "\n",
    "# return period in years\n",
    "T_R = round(1/(1-(1-p)**(1/n)),0)\n",
    "print('a) Return period is', T_R, 'years')\n",
    "\n",
    "# change reference period to k years\n",
    "k = 5\n",
    "p_k = 1-(1-p)**(k/n)\n",
    "p_k = round(p_k, 3)\n",
    "print ('b) Probability of exceedance in', k, 'years is', p_k)\n",
    "\n",
    "# probability of exceedance in the return period\n",
    "p_R = 1-(1-1/T_R)**T_R\n",
    "p_R = round(p_R, 3)\n",
    "print ('c) Probability of exceedance in', T_R, 'years is', p_R)\n",
    "\n",
    "# probability of exceedance in one year\n",
    "p_1 = 1-(1-p)**(1/n)\n",
    "p_1 = round(p_1, 3)\n",
    "print ('d) Probability of exceedance in one year is', p_1)"
   ]
  }
 ],
 "metadata": {
  "kernelspec": {
   "display_name": "Python 3",
   "language": "python",
   "name": "python3"
  },
  "language_info": {
   "codemirror_mode": {
    "name": "ipython",
    "version": 3
   },
   "file_extension": ".py",
   "mimetype": "text/x-python",
   "name": "python",
   "nbconvert_exporter": "python",
   "pygments_lexer": "ipython3",
   "version": "3.11.4"
  }
 },
 "nbformat": 4,
 "nbformat_minor": 2
}
