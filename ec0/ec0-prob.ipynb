{
 "metadata": {
  "language_info": {
   "codemirror_mode": {
    "name": "ipython",
    "version": 3
   },
   "file_extension": ".py",
   "mimetype": "text/x-python",
   "name": "python",
   "nbconvert_exporter": "python",
   "pygments_lexer": "ipython3",
   "version": "3.9.2"
  },
  "orig_nbformat": 4,
  "kernelspec": {
   "name": "python392jvsc74a57bd0d26c476c251b3fdd2cea6171d4727246862ba797a55c94284262a25ded6748bf",
   "display_name": "Python 3.9.2 64-bit ('.venv': venv)",
   "language": "python"
  }
 },
 "nbformat": 4,
 "nbformat_minor": 2,
 "cells": [
  {
   "source": [
    "# EC0 - Probabilities"
   ],
   "cell_type": "markdown",
   "metadata": {}
  },
  {
   "cell_type": "code",
   "execution_count": 16,
   "metadata": {},
   "outputs": [
    {
     "output_type": "execute_result",
     "data": {
      "text/plain": [
       "(4.7,\n",
       " 1.3008074539172771e-06,\n",
       " 50,\n",
       " 3.826313527780131,\n",
       " 6.503829991377774e-05,\n",
       " 0.9999349617000862,\n",
       " 0.9999349617000862)"
      ]
     },
     "metadata": {},
     "execution_count": 16
    }
   ],
   "source": [
    "import scipy.stats\n",
    "import math\n",
    "\n",
    "beta1 = 4.7\n",
    "n = 50\n",
    "p1 = scipy.stats.norm.cdf(-beta1)\n",
    "pn = 1-math.pow(1-p1, n)\n",
    "betan = -scipy.stats.norm.ppf(pn)\n",
    "a1 = scipy.stats.norm.cdf(betan)\n",
    "an = math.pow(scipy.stats.norm.cdf(beta1), n)\n",
    "beta1, p1, n, betan, pn, a1, an"
   ]
  },
  {
   "cell_type": "code",
   "execution_count": 20,
   "metadata": {},
   "outputs": [
    {
     "output_type": "execute_result",
     "data": {
      "text/plain": [
       "(8766.0, 0.009126169290440338, 0.049281314168377825)"
      ]
     },
     "metadata": {},
     "execution_count": 20
    }
   ],
   "source": [
    "# número de horas num ano\n",
    "hoursyear = 365.25*24\n",
    "hoursyear, 10*8/hoursyear, 18/365.25"
   ]
  },
  {
   "source": [
    "Wind load acts for 10 days during 8 hours in a year = to 80 hours. \n",
    "Frequent load combinations act for 0.01 of the time. \n",
    "Quasi-permanent load combinations act for 0.5 of the time."
   ],
   "cell_type": "markdown",
   "metadata": {}
  },
  {
   "source": [
    "0.02 probability of excedance in one year, corresponds to 0.02*8766=175.32 hours?\n"
   ],
   "cell_type": "markdown",
   "metadata": {}
  },
  {
   "cell_type": "code",
   "execution_count": 2,
   "metadata": {},
   "outputs": [
    {
     "output_type": "execute_result",
     "data": {
      "text/plain": [
       "339"
      ]
     },
     "metadata": {},
     "execution_count": 2
    }
   ],
   "source": [
    "3*113"
   ]
  },
  {
   "cell_type": "code",
   "execution_count": null,
   "metadata": {},
   "outputs": [],
   "source": []
  }
 ]
}