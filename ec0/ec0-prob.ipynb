{
 "cells": [
  {
   "cell_type": "markdown",
   "metadata": {},
   "source": [
    "# EC0 - Probabilities"
   ]
  },
  {
   "cell_type": "code",
   "execution_count": null,
   "metadata": {},
   "outputs": [],
   "source": [
    "import scipy.stats\n",
    "import math"
   ]
  },
  {
   "cell_type": "code",
   "execution_count": null,
   "metadata": {},
   "outputs": [],
   "source": [
    "beta1 = 4.7\n",
    "p1 = scipy.stats.norm.cdf(-beta1)\n",
    "n = 50\n",
    "\n",
    "p2 = scipy.stats.norm.cdf(beta1)\n",
    "pn2 = 1-math.pow(1-p1, n)\n",
    "pn = p2**n\n",
    "\n",
    "betan = scipy.stats.norm.ppf(pn)\n",
    "a1 = scipy.stats.norm.pdf(-beta1)\n",
    "an = math.pow(scipy.stats.norm.cdf(beta1), n)\n",
    "\n",
    "print(f\"{beta1=},\\n{p1=},\\n{p2=},\\n{pn=},\\n{betan=},\\n{a1=},\\n{pn2=}\")"
   ]
  },
  {
   "cell_type": "code",
   "execution_count": null,
   "metadata": {},
   "outputs": [],
   "source": [
    "p1*n/pn"
   ]
  },
  {
   "cell_type": "code",
   "execution_count": null,
   "metadata": {},
   "outputs": [],
   "source": [
    "# número de horas num ano\n",
    "hoursyear = 365.25*24\n",
    "hoursyear, 10*8/hoursyear, 18/365.25"
   ]
  },
  {
   "cell_type": "markdown",
   "metadata": {},
   "source": [
    "Wind load acts for 10 days during 8 hours in a year = to 80 hours. \n",
    "Frequent load combinations act for 0.01 of the time. \n",
    "Quasi-permanent load combinations act for 0.5 of the time."
   ]
  },
  {
   "cell_type": "markdown",
   "metadata": {},
   "source": [
    "0.02 probability of excedance in one year, corresponds to 0.02*8766=175.32 hours?\n"
   ]
  },
  {
   "cell_type": "code",
   "execution_count": null,
   "metadata": {},
   "outputs": [],
   "source": []
  }
 ],
 "metadata": {
  "kernelspec": {
   "display_name": "Python 3",
   "language": "python",
   "name": "python3"
  },
  "language_info": {
   "codemirror_mode": {
    "name": "ipython",
    "version": 3
   },
   "file_extension": ".py",
   "mimetype": "text/x-python",
   "name": "python",
   "nbconvert_exporter": "python",
   "pygments_lexer": "ipython3",
   "version": "3.11.4"
  },
  "orig_nbformat": 4
 },
 "nbformat": 4,
 "nbformat_minor": 2
}
