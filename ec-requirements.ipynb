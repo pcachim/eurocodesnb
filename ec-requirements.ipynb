{
 "cells": [
  {
   "cell_type": "markdown",
   "id": "abcb52f5-8f99-4a41-bcfd-1ca9d248766b",
   "metadata": {},
   "source": [
    "## Jupyterlab Desktop setup\n",
    "\n",
    "Run this notebook to install the necessary requirements to run **eurocodesnb**"
   ]
  },
  {
   "cell_type": "code",
   "execution_count": null,
   "id": "f0032cfe-bd9e-4eaa-8781-abc08c523a6b",
   "metadata": {},
   "outputs": [],
   "source": [
    "%pip install -r requirements.txt"
   ]
  }
 ],
 "metadata": {
  "kernelspec": {
   "display_name": "Python 3 (ipykernel)",
   "language": "python",
   "name": "python3"
  },
  "language_info": {
   "codemirror_mode": {
    "name": "ipython",
    "version": 3
   },
   "file_extension": ".py",
   "mimetype": "text/x-python",
   "name": "python",
   "nbconvert_exporter": "python",
   "pygments_lexer": "ipython3",
   "version": "3.8.15"
  }
 },
 "nbformat": 4,
 "nbformat_minor": 5
}
