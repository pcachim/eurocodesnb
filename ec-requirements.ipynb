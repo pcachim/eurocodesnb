{
 "cells": [
  {
   "cell_type": "markdown",
   "id": "abcb52f5-8f99-4a41-bcfd-1ca9d248766b",
   "metadata": {
    "tags": []
   },
   "source": [
    "## Jupyterlab Desktop setup\n",
    "\n",
    "Run this notebook to install the necessary requirements to run **eurocodesnb**\n",
    "\n",
    "To install the necessary requirements run the cell below"
   ]
  },
  {
   "cell_type": "code",
   "execution_count": null,
   "id": "f0032cfe-bd9e-4eaa-8781-abc08c523a6b",
   "metadata": {},
   "outputs": [],
   "source": [
    "%pip install --user -r requirements.txt"
   ]
  },
  {
   "cell_type": "markdown",
   "id": "fcec29e2-591e-4181-bf67-c6846e42bad3",
   "metadata": {},
   "source": [
    "To update **eurocodepy** run the cell below"
   ]
  },
  {
   "cell_type": "code",
   "execution_count": null,
   "id": "08010fca-6114-466f-9a88-4a31aff190b7",
   "metadata": {},
   "outputs": [],
   "source": [
    "%pip install --upgrade eurocodepy"
   ]
  },
  {
   "cell_type": "code",
   "execution_count": null,
   "id": "f4a45cb1-db17-4d86-b296-e90380540afe",
   "metadata": {},
   "outputs": [],
   "source": []
  }
 ],
 "metadata": {
  "kernelspec": {
   "display_name": "Python 3 (ipykernel)",
   "language": "python",
   "name": "python3"
  },
  "language_info": {
   "codemirror_mode": {
    "name": "ipython",
    "version": 3
   },
   "file_extension": ".py",
   "mimetype": "text/x-python",
   "name": "python",
   "nbconvert_exporter": "python",
   "pygments_lexer": "ipython3",
   "version": "3.9.6"
  }
 },
 "nbformat": 4,
 "nbformat_minor": 5
}
