{
 "cells": [
  {
   "cell_type": "markdown",
   "id": "abcb52f5-8f99-4a41-bcfd-1ca9d248766b",
   "metadata": {},
   "source": [
    "## Jupyterlab Desktop setup\n",
    "\n",
    "Run this notebook to install the necessary requirements to run **eurocodesnb**"
   ]
  },
  {
   "cell_type": "code",
   "execution_count": 3,
   "id": "f0032cfe-bd9e-4eaa-8781-abc08c523a6b",
   "metadata": {},
   "outputs": [
    {
     "name": "stdout",
     "output_type": "stream",
     "text": [
      "Requirement already satisfied: appnope==0.1.3 in c:\\users\\paulowork\\appdata\\roaming\\jupyterlab-desktop\\jlab_server\\lib\\site-packages (from -r requirements.txt (line 7)) (0.1.3)\n",
      "Requirement already satisfied: asttokens==2.1.0 in c:\\users\\paulowork\\appdata\\roaming\\python\\python38\\site-packages (from -r requirements.txt (line 11)) (2.1.0)\n",
      "Requirement already satisfied: attrs==22.1.0 in c:\\users\\paulowork\\appdata\\roaming\\jupyterlab-desktop\\jlab_server\\lib\\site-packages (from -r requirements.txt (line 13)) (22.1.0)\n",
      "Requirement already satisfied: backcall==0.2.0 in c:\\users\\paulowork\\appdata\\roaming\\jupyterlab-desktop\\jlab_server\\lib\\site-packages (from -r requirements.txt (line 15)) (0.2.0)\n",
      "Requirement already satisfied: contourpy==1.0.5 in c:\\users\\paulowork\\appdata\\roaming\\python\\python38\\site-packages (from -r requirements.txt (line 17)) (1.0.5)\n",
      "Requirement already satisfied: cycler==0.11.0 in c:\\users\\paulowork\\appdata\\roaming\\jupyterlab-desktop\\jlab_server\\lib\\site-packages (from -r requirements.txt (line 19)) (0.11.0)\n",
      "Requirement already satisfied: debugpy==1.6.3 in c:\\users\\paulowork\\appdata\\roaming\\python\\python38\\site-packages (from -r requirements.txt (line 21)) (1.6.3)\n",
      "Requirement already satisfied: decorator==5.1.1 in c:\\users\\paulowork\\appdata\\roaming\\jupyterlab-desktop\\jlab_server\\lib\\site-packages (from -r requirements.txt (line 23)) (5.1.1)\n",
      "Requirement already satisfied: entrypoints==0.4 in c:\\users\\paulowork\\appdata\\roaming\\jupyterlab-desktop\\jlab_server\\lib\\site-packages (from -r requirements.txt (line 25)) (0.4)\n",
      "Requirement already satisfied: eurocodepy==0.1.4 in c:\\users\\paulowork\\appdata\\roaming\\python\\python38\\site-packages (from -r requirements.txt (line 27)) (0.1.4)\n",
      "Requirement already satisfied: executing==1.2.0 in c:\\users\\paulowork\\appdata\\roaming\\jupyterlab-desktop\\jlab_server\\lib\\site-packages (from -r requirements.txt (line 29)) (1.2.0)\n",
      "Requirement already satisfied: fastjsonschema==2.16.2 in c:\\users\\paulowork\\appdata\\roaming\\jupyterlab-desktop\\jlab_server\\lib\\site-packages (from -r requirements.txt (line 31)) (2.16.2)\n",
      "Requirement already satisfied: fonttools==4.38.0 in c:\\users\\paulowork\\appdata\\roaming\\jupyterlab-desktop\\jlab_server\\lib\\site-packages (from -r requirements.txt (line 33)) (4.38.0)\n",
      "Requirement already satisfied: ipykernel==6.16.2 in c:\\users\\paulowork\\appdata\\roaming\\python\\python38\\site-packages (from -r requirements.txt (line 35)) (6.16.2)\n",
      "Requirement already satisfied: ipython==8.5.0 in c:\\users\\paulowork\\appdata\\roaming\\python\\python38\\site-packages (from -r requirements.txt (line 39)) (8.5.0)\n",
      "Requirement already satisfied: ipython-genutils==0.2.0 in c:\\users\\paulowork\\appdata\\roaming\\jupyterlab-desktop\\jlab_server\\lib\\site-packages (from -r requirements.txt (line 44)) (0.2.0)\n",
      "Requirement already satisfied: ipywidgets==8.0.2 in c:\\users\\paulowork\\appdata\\roaming\\python\\python38\\site-packages (from -r requirements.txt (line 46)) (8.0.2)\n",
      "Requirement already satisfied: jedi==0.18.1 in c:\\users\\paulowork\\appdata\\roaming\\python\\python38\\site-packages (from -r requirements.txt (line 48)) (0.18.1)\n",
      "Requirement already satisfied: jsonschema==4.17.0 in c:\\users\\paulowork\\appdata\\roaming\\python\\python38\\site-packages (from -r requirements.txt (line 50)) (4.17.0)\n",
      "Requirement already satisfied: jupyter-client==7.4.4 in c:\\users\\paulowork\\appdata\\roaming\\python\\python38\\site-packages (from -r requirements.txt (line 52)) (7.4.4)\n",
      "Requirement already satisfied: jupyter-core==4.11.2 in c:\\users\\paulowork\\appdata\\roaming\\python\\python38\\site-packages (from -r requirements.txt (line 54)) (4.11.2)\n",
      "Requirement already satisfied: jupyterlab-widgets==3.0.3 in c:\\users\\paulowork\\appdata\\roaming\\python\\python38\\site-packages (from -r requirements.txt (line 58)) (3.0.3)\n",
      "Requirement already satisfied: kiwisolver==1.4.4 in c:\\users\\paulowork\\appdata\\roaming\\jupyterlab-desktop\\jlab_server\\lib\\site-packages (from -r requirements.txt (line 60)) (1.4.4)\n",
      "Requirement already satisfied: matplotlib==3.6.2 in c:\\users\\paulowork\\appdata\\roaming\\jupyterlab-desktop\\jlab_server\\lib\\site-packages (from -r requirements.txt (line 62)) (3.6.2)\n",
      "Requirement already satisfied: matplotlib-inline==0.1.6 in c:\\users\\paulowork\\appdata\\roaming\\jupyterlab-desktop\\jlab_server\\lib\\site-packages (from -r requirements.txt (line 64)) (0.1.6)\n",
      "Requirement already satisfied: nbformat==5.7.0 in c:\\users\\paulowork\\appdata\\roaming\\jupyterlab-desktop\\jlab_server\\lib\\site-packages (from -r requirements.txt (line 68)) (5.7.0)\n",
      "Requirement already satisfied: nest-asyncio==1.5.6 in c:\\users\\paulowork\\appdata\\roaming\\jupyterlab-desktop\\jlab_server\\lib\\site-packages (from -r requirements.txt (line 70)) (1.5.6)\n",
      "Requirement already satisfied: numpy==1.23.4 in c:\\users\\paulowork\\appdata\\roaming\\python\\python38\\site-packages (from -r requirements.txt (line 74)) (1.23.4)\n",
      "Requirement already satisfied: packaging==21.3 in c:\\users\\paulowork\\appdata\\roaming\\python\\python38\\site-packages (from -r requirements.txt (line 81)) (21.3)\n",
      "Requirement already satisfied: pandas==1.5.1 in c:\\users\\paulowork\\appdata\\roaming\\python\\python38\\site-packages (from -r requirements.txt (line 85)) (1.5.1)\n",
      "Requirement already satisfied: parso==0.8.3 in c:\\users\\paulowork\\appdata\\roaming\\jupyterlab-desktop\\jlab_server\\lib\\site-packages (from -r requirements.txt (line 89)) (0.8.3)\n",
      "Requirement already satisfied: pexpect==4.8.0 in c:\\users\\paulowork\\appdata\\roaming\\python\\python38\\site-packages (from -r requirements.txt (line 91)) (4.8.0)\n",
      "Requirement already satisfied: pickleshare==0.7.5 in c:\\users\\paulowork\\appdata\\roaming\\jupyterlab-desktop\\jlab_server\\lib\\site-packages (from -r requirements.txt (line 93)) (0.7.5)\n",
      "Requirement already satisfied: pillow==9.3.0 in c:\\users\\paulowork\\appdata\\roaming\\python\\python38\\site-packages (from -r requirements.txt (line 95)) (9.3.0)\n",
      "Requirement already satisfied: plotly==5.11.0 in c:\\users\\paulowork\\appdata\\roaming\\python\\python38\\site-packages (from -r requirements.txt (line 97)) (5.11.0)\n",
      "Requirement already satisfied: prompt-toolkit==3.0.31 in c:\\users\\paulowork\\appdata\\roaming\\python\\python38\\site-packages (from -r requirements.txt (line 99)) (3.0.31)\n",
      "Requirement already satisfied: psutil==5.9.3 in c:\\users\\paulowork\\appdata\\roaming\\jupyterlab-desktop\\jlab_server\\lib\\site-packages (from -r requirements.txt (line 101)) (5.9.3)\n",
      "Requirement already satisfied: ptyprocess==0.7.0 in c:\\users\\paulowork\\appdata\\roaming\\jupyterlab-desktop\\jlab_server\\lib\\site-packages (from -r requirements.txt (line 103)) (0.7.0)\n",
      "Requirement already satisfied: pure-eval==0.2.2 in c:\\users\\paulowork\\appdata\\roaming\\jupyterlab-desktop\\jlab_server\\lib\\site-packages (from -r requirements.txt (line 105)) (0.2.2)\n",
      "Requirement already satisfied: pygments==2.13.0 in c:\\users\\paulowork\\appdata\\roaming\\jupyterlab-desktop\\jlab_server\\lib\\site-packages (from -r requirements.txt (line 107)) (2.13.0)\n",
      "Requirement already satisfied: pyparsing==3.0.9 in c:\\users\\paulowork\\appdata\\roaming\\jupyterlab-desktop\\jlab_server\\lib\\site-packages (from -r requirements.txt (line 109)) (3.0.9)\n",
      "Requirement already satisfied: pyrsistent==0.19.2 in c:\\users\\paulowork\\appdata\\roaming\\jupyterlab-desktop\\jlab_server\\lib\\site-packages (from -r requirements.txt (line 113)) (0.19.2)\n",
      "Requirement already satisfied: python-dateutil==2.8.2 in c:\\users\\paulowork\\appdata\\roaming\\jupyterlab-desktop\\jlab_server\\lib\\site-packages (from -r requirements.txt (line 115)) (2.8.2)\n",
      "Requirement already satisfied: pytz==2022.5 in c:\\users\\paulowork\\appdata\\roaming\\jupyterlab-desktop\\jlab_server\\lib\\site-packages (from -r requirements.txt (line 120)) (2022.5)\n",
      "Requirement already satisfied: pyzmq==24.0.1 in c:\\users\\paulowork\\appdata\\roaming\\jupyterlab-desktop\\jlab_server\\lib\\site-packages (from -r requirements.txt (line 122)) (24.0.1)\n",
      "Requirement already satisfied: scipy==1.9.3 in c:\\users\\paulowork\\appdata\\roaming\\jupyterlab-desktop\\jlab_server\\lib\\site-packages (from -r requirements.txt (line 126)) (1.9.3)\n",
      "Requirement already satisfied: seaborn==0.12.1 in c:\\users\\paulowork\\appdata\\roaming\\python\\python38\\site-packages (from -r requirements.txt (line 128)) (0.12.1)\n",
      "Requirement already satisfied: six==1.16.0 in c:\\users\\paulowork\\appdata\\roaming\\jupyterlab-desktop\\jlab_server\\lib\\site-packages (from -r requirements.txt (line 130)) (1.16.0)\n",
      "Requirement already satisfied: stack-data==0.6.0 in c:\\users\\paulowork\\appdata\\roaming\\python\\python38\\site-packages (from -r requirements.txt (line 134)) (0.6.0)\n",
      "Requirement already satisfied: tenacity==8.1.0 in c:\\users\\paulowork\\appdata\\roaming\\jupyterlab-desktop\\jlab_server\\lib\\site-packages (from -r requirements.txt (line 136)) (8.1.0)\n",
      "Requirement already satisfied: tornado==6.2 in c:\\users\\paulowork\\appdata\\roaming\\jupyterlab-desktop\\jlab_server\\lib\\site-packages (from -r requirements.txt (line 138)) (6.2)\n",
      "Requirement already satisfied: traitlets==5.5.0 in c:\\users\\paulowork\\appdata\\roaming\\jupyterlab-desktop\\jlab_server\\lib\\site-packages (from -r requirements.txt (line 142)) (5.5.0)\n",
      "Requirement already satisfied: wcwidth==0.2.5 in c:\\users\\paulowork\\appdata\\roaming\\jupyterlab-desktop\\jlab_server\\lib\\site-packages (from -r requirements.txt (line 151)) (0.2.5)\n",
      "Requirement already satisfied: widgetsnbextension==4.0.3 in c:\\users\\paulowork\\appdata\\roaming\\jupyterlab-desktop\\jlab_server\\lib\\site-packages (from -r requirements.txt (line 153)) (4.0.3)\n",
      "Requirement already satisfied: colorama in c:\\users\\paulowork\\appdata\\roaming\\jupyterlab-desktop\\jlab_server\\lib\\site-packages (from ipython==8.5.0->-r requirements.txt (line 39)) (0.4.6)\n",
      "Requirement already satisfied: importlib-resources>=1.4.0 in c:\\users\\paulowork\\appdata\\roaming\\jupyterlab-desktop\\jlab_server\\lib\\site-packages (from jsonschema==4.17.0->-r requirements.txt (line 50)) (5.10.1)\n",
      "Requirement already satisfied: pkgutil-resolve-name>=1.3.10 in c:\\users\\paulowork\\appdata\\roaming\\jupyterlab-desktop\\jlab_server\\lib\\site-packages (from jsonschema==4.17.0->-r requirements.txt (line 50)) (1.3.10)\n",
      "Requirement already satisfied: pywin32>=1.0 in c:\\users\\paulowork\\appdata\\roaming\\jupyterlab-desktop\\jlab_server\\lib\\site-packages (from jupyter-core==4.11.2->-r requirements.txt (line 54)) (304)\n",
      "Requirement already satisfied: zipp>=3.1.0 in c:\\users\\paulowork\\appdata\\roaming\\jupyterlab-desktop\\jlab_server\\lib\\site-packages (from importlib-resources>=1.4.0->jsonschema==4.17.0->-r requirements.txt (line 50)) (3.11.0)\n",
      "Note: you may need to restart the kernel to use updated packages.\n"
     ]
    }
   ],
   "source": [
    "%pip install --user -r requirements.txt"
   ]
  },
  {
   "cell_type": "code",
   "execution_count": null,
   "id": "08010fca-6114-466f-9a88-4a31aff190b7",
   "metadata": {},
   "outputs": [],
   "source": []
  }
 ],
 "metadata": {
  "kernelspec": {
   "display_name": "Python 3 (ipykernel)",
   "language": "python",
   "name": "python3"
  },
  "language_info": {
   "codemirror_mode": {
    "name": "ipython",
    "version": 3
   },
   "file_extension": ".py",
   "mimetype": "text/x-python",
   "name": "python",
   "nbconvert_exporter": "python",
   "pygments_lexer": "ipython3",
   "version": "3.8.15"
  }
 },
 "nbformat": 4,
 "nbformat_minor": 5
}
